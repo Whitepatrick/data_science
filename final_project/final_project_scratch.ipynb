{
 "cells": [
  {
   "cell_type": "code",
   "execution_count": 11,
   "metadata": {
    "collapsed": false
   },
   "outputs": [],
   "source": [
    "import imdb"
   ]
  },
  {
   "cell_type": "code",
   "execution_count": 12,
   "metadata": {
    "collapsed": true
   },
   "outputs": [],
   "source": [
    "ia = imdb.IMDb()"
   ]
  },
  {
   "cell_type": "code",
   "execution_count": 13,
   "metadata": {
    "collapsed": true
   },
   "outputs": [],
   "source": [
    "search_result = ia.search_movie('*tar Trek*')"
   ]
  },
  {
   "cell_type": "code",
   "execution_count": 23,
   "metadata": {
    "collapsed": false
   },
   "outputs": [
    {
     "name": "stdout",
     "output_type": "stream",
     "text": [
      "Star Trek (2009) 0796366\n",
      "\"Star Trek\" (1966) 0060028\n",
      "Star Trek Beyond (2016) 2660888\n",
      "Star Trek 4 (in development) (????) 4756228\n",
      "\"Star Trek: Voyager\" (1995) 0112178\n",
      "Star Trek Into Darkness (2013) 1408101\n",
      "\"Star Trek: Enterprise\" (2001) 0244365\n",
      "\"Star Trek: The Next Generation\" (1987) 0092455\n",
      "\"Star Trek: Deep Space Nine\" (1993) 0106145\n",
      "\"Star Trek: Renegades\" (2015) 2621446\n",
      "Star Trek (2013) (VG) 2191526\n",
      "Star Trek: Nemesis (2002) 0253754\n",
      "\"Star Trek Continues\" (2013) 2732442\n",
      "Star Trek IV: The Voyage Home (1986) 0092007\n",
      "Star Trek: First Contact (1996) 0117731\n",
      "Star Trek Wars (2015) 4642780\n",
      "Star Trek: Generations (1994) 0111280\n",
      "Star Trek: The Motion Picture (1979) 0079945\n",
      "Star Trek: Insurrection (1998) 0120844\n",
      "Star Trek II: The Wrath of Khan (1982) 0084726\n"
     ]
    }
   ],
   "source": [
    "for item in search_result:\n",
    "    print item['long imdb canonical title'], item.movieID"
   ]
  },
  {
   "cell_type": "code",
   "execution_count": null,
   "metadata": {
    "collapsed": true
   },
   "outputs": [],
   "source": []
  },
  {
   "cell_type": "code",
   "execution_count": null,
   "metadata": {
    "collapsed": true
   },
   "outputs": [],
   "source": []
  },
  {
   "cell_type": "code",
   "execution_count": null,
   "metadata": {
    "collapsed": true
   },
   "outputs": [],
   "source": []
  },
  {
   "cell_type": "code",
   "execution_count": null,
   "metadata": {
    "collapsed": true
   },
   "outputs": [],
   "source": [
    "# Import the imdb package.\n",
    "import imdb\n",
    "import pandas as pd\n",
    "\n",
    "# Create the object that will be used to access the IMDb's database.\n",
    "ia = imdb.IMDb() # by default access the web."
   ]
  },
  {
   "cell_type": "code",
   "execution_count": null,
   "metadata": {
    "collapsed": false
   },
   "outputs": [],
   "source": [
    "s_result = ia.search_movie('*Star Trek*')"
   ]
  },
  {
   "cell_type": "code",
   "execution_count": null,
   "metadata": {
    "collapsed": false
   },
   "outputs": [],
   "source": [
    "s_result"
   ]
  },
  {
   "cell_type": "code",
   "execution_count": null,
   "metadata": {
    "collapsed": false
   },
   "outputs": [],
   "source": [
    "trek_mp = ia.get_movie('0060028')"
   ]
  },
  {
   "cell_type": "code",
   "execution_count": null,
   "metadata": {
    "collapsed": false
   },
   "outputs": [],
   "source": []
  },
  {
   "cell_type": "code",
   "execution_count": null,
   "metadata": {
    "collapsed": false
   },
   "outputs": [],
   "source": [
    "# Print some information.\n",
    "print the_unt['runtime']\n",
    "print the_unt['rating']\n",
    "director = the_unt['director'] # get a list of Person objects."
   ]
  },
  {
   "cell_type": "code",
   "execution_count": null,
   "metadata": {
    "collapsed": false
   },
   "outputs": [],
   "source": [
    "# Get the first item listed as a \"goof\".\n",
    "ia.update(the_unt, 'goofs')\n",
    "print the_unt['goofs'][0]"
   ]
  },
  {
   "cell_type": "code",
   "execution_count": null,
   "metadata": {
    "collapsed": true
   },
   "outputs": [],
   "source": [
    "# The first \"trivia\" for the first director.\n",
    "b_depalma = director[0]\n",
    "ia.update(b_depalma)\n",
    "print b_depalma['trivia'][0]"
   ]
  },
  {
   "cell_type": "code",
   "execution_count": null,
   "metadata": {
    "collapsed": true
   },
   "outputs": [],
   "source": []
  }
 ],
 "metadata": {
  "kernelspec": {
   "display_name": "Python 2",
   "language": "python",
   "name": "python2"
  },
  "language_info": {
   "codemirror_mode": {
    "name": "ipython",
    "version": 2
   },
   "file_extension": ".py",
   "mimetype": "text/x-python",
   "name": "python",
   "nbconvert_exporter": "python",
   "pygments_lexer": "ipython2",
   "version": "2.7.10"
  }
 },
 "nbformat": 4,
 "nbformat_minor": 0
}
