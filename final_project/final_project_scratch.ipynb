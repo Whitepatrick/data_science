{
 "cells": [
  {
   "cell_type": "code",
   "execution_count": 26,
   "metadata": {
    "collapsed": true
   },
   "outputs": [],
   "source": [
    "# Import the imdb package.\n",
    "import imdb\n",
    "import pandas as pd\n",
    "\n",
    "# Create the object that will be used to access the IMDb's database.\n",
    "ia = imdb.IMDb() # by default access the web."
   ]
  },
  {
   "cell_type": "code",
   "execution_count": 28,
   "metadata": {
    "collapsed": false
   },
   "outputs": [],
   "source": [
    "s_result = ia.search_movie('*Star Trek*')"
   ]
  },
  {
   "cell_type": "code",
   "execution_count": 29,
   "metadata": {
    "collapsed": false
   },
   "outputs": [
    {
     "data": {
      "text/plain": [
       "[<Movie id:0796366[http] title:_Star Trek (2009)_>,\n",
       " <Movie id:0060028[http] title:_\"Star Trek\" (1966)_>,\n",
       " <Movie id:2660888[http] title:_Star Trek Beyond (2016)_>,\n",
       " <Movie id:0092455[http] title:_\"Star Trek: The Next Generation\" (1987)_>,\n",
       " <Movie id:1408101[http] title:_Star Trek Into Darkness (2013)_>,\n",
       " <Movie id:4756228[http] title:_Star Trek 4 (2019)_>,\n",
       " <Movie id:0112178[http] title:_\"Star Trek: Voyager\" (1995)_>,\n",
       " <Movie id:0244365[http] title:_\"Star Trek: Enterprise\" (2001)_>,\n",
       " <Movie id:2621446[http] title:_\"Star Trek: Renegades\" (2015)_>,\n",
       " <Movie id:0079945[http] title:_Star Trek: The Motion Picture (1979)_>,\n",
       " <Movie id:0106145[http] title:_\"Star Trek: Deep Space Nine\" (1993)_>,\n",
       " <Movie id:4756234[http] title:_Star Trek 5 (2021)_>,\n",
       " <Movie id:2191526[http] title:_Star Trek (2013) (VG)_>,\n",
       " <Movie id:0253754[http] title:_Star Trek: Nemesis (2002)_>,\n",
       " <Movie id:0117731[http] title:_Star Trek: First Contact (1996)_>,\n",
       " <Movie id:2732442[http] title:_\"Star Trek Continues\" (2013)_>,\n",
       " <Movie id:0111280[http] title:_Star Trek: Generations (1994)_>,\n",
       " <Movie id:0120844[http] title:_Star Trek: Insurrection (1998)_>,\n",
       " <Movie id:0084726[http] title:_Star Trek II: The Wrath of Khan (1982)_>,\n",
       " <Movie id:0092007[http] title:_Star Trek IV: The Voyage Home (1986)_>]"
      ]
     },
     "execution_count": 29,
     "metadata": {},
     "output_type": "execute_result"
    }
   ],
   "source": [
    "s_result"
   ]
  },
  {
   "cell_type": "code",
   "execution_count": 33,
   "metadata": {
    "collapsed": false
   },
   "outputs": [],
   "source": [
    "trek_mp = ia.get_movie('0060028')"
   ]
  },
  {
   "cell_type": "code",
   "execution_count": 41,
   "metadata": {
    "collapsed": false
   },
   "outputs": [
    {
     "ename": "AttributeError",
     "evalue": "'Movie' object has no attribute 'plot'",
     "output_type": "error",
     "traceback": [
      "\u001b[1;31m---------------------------------------------------------------------------\u001b[0m",
      "\u001b[1;31mAttributeError\u001b[0m                            Traceback (most recent call last)",
      "\u001b[1;32m<ipython-input-41-ac06f82914cc>\u001b[0m in \u001b[0;36m<module>\u001b[1;34m()\u001b[0m\n\u001b[1;32m----> 1\u001b[1;33m \u001b[0mtrek_mp\u001b[0m\u001b[1;33m.\u001b[0m\u001b[0mplot\u001b[0m\u001b[1;33m\u001b[0m\u001b[0m\n\u001b[0m",
      "\u001b[1;31mAttributeError\u001b[0m: 'Movie' object has no attribute 'plot'"
     ]
    }
   ],
   "source": []
  },
  {
   "cell_type": "code",
   "execution_count": 22,
   "metadata": {
    "collapsed": false
   },
   "outputs": [
    {
     "name": "stdout",
     "output_type": "stream",
     "text": [
      "[u'127']\n",
      "8.0\n"
     ]
    }
   ],
   "source": [
    "# Print some information.\n",
    "print the_unt['runtime']\n",
    "print the_unt['rating']\n",
    "director = the_unt['director'] # get a list of Person objects."
   ]
  },
  {
   "cell_type": "code",
   "execution_count": 23,
   "metadata": {
    "collapsed": false
   },
   "outputs": [
    {
     "ename": "KeyError",
     "evalue": "'goofs'",
     "output_type": "error",
     "traceback": [
      "\u001b[1;31m---------------------------------------------------------------------------\u001b[0m",
      "\u001b[1;31mKeyError\u001b[0m                                  Traceback (most recent call last)",
      "\u001b[1;32m<ipython-input-23-9e65101c4839>\u001b[0m in \u001b[0;36m<module>\u001b[1;34m()\u001b[0m\n\u001b[0;32m      1\u001b[0m \u001b[1;31m# Get the first item listed as a \"goof\".\u001b[0m\u001b[1;33m\u001b[0m\u001b[1;33m\u001b[0m\u001b[0m\n\u001b[0;32m      2\u001b[0m \u001b[0mia\u001b[0m\u001b[1;33m.\u001b[0m\u001b[0mupdate\u001b[0m\u001b[1;33m(\u001b[0m\u001b[0mthe_unt\u001b[0m\u001b[1;33m,\u001b[0m \u001b[1;34m'goofs'\u001b[0m\u001b[1;33m)\u001b[0m\u001b[1;33m\u001b[0m\u001b[0m\n\u001b[1;32m----> 3\u001b[1;33m \u001b[1;32mprint\u001b[0m \u001b[0mthe_unt\u001b[0m\u001b[1;33m[\u001b[0m\u001b[1;34m'goofs'\u001b[0m\u001b[1;33m]\u001b[0m\u001b[1;33m[\u001b[0m\u001b[1;36m0\u001b[0m\u001b[1;33m]\u001b[0m\u001b[1;33m\u001b[0m\u001b[0m\n\u001b[0m",
      "\u001b[1;32m/usr/local/lib/python2.7/site-packages/imdb/utils.pyc\u001b[0m in \u001b[0;36m__getitem__\u001b[1;34m(self, key)\u001b[0m\n\u001b[0;32m   1467\u001b[0m         \u001b[1;31m# Handle key aliases.\u001b[0m\u001b[1;33m\u001b[0m\u001b[1;33m\u001b[0m\u001b[0m\n\u001b[0;32m   1468\u001b[0m         \u001b[0mkey\u001b[0m \u001b[1;33m=\u001b[0m \u001b[0mself\u001b[0m\u001b[1;33m.\u001b[0m\u001b[0mkeys_alias\u001b[0m\u001b[1;33m.\u001b[0m\u001b[0mget\u001b[0m\u001b[1;33m(\u001b[0m\u001b[0mkey\u001b[0m\u001b[1;33m,\u001b[0m \u001b[0mkey\u001b[0m\u001b[1;33m)\u001b[0m\u001b[1;33m\u001b[0m\u001b[0m\n\u001b[1;32m-> 1469\u001b[1;33m         \u001b[0mrawData\u001b[0m \u001b[1;33m=\u001b[0m \u001b[0mself\u001b[0m\u001b[1;33m.\u001b[0m\u001b[0mdata\u001b[0m\u001b[1;33m[\u001b[0m\u001b[0mkey\u001b[0m\u001b[1;33m]\u001b[0m\u001b[1;33m\u001b[0m\u001b[0m\n\u001b[0m\u001b[0;32m   1470\u001b[0m         \u001b[1;32mif\u001b[0m \u001b[0mkey\u001b[0m \u001b[1;32min\u001b[0m \u001b[0mself\u001b[0m\u001b[1;33m.\u001b[0m\u001b[0mkeys_tomodify\u001b[0m \u001b[1;32mand\u001b[0m\u001b[0;31m \u001b[0m\u001b[0;31m\\\u001b[0m\u001b[1;33m\u001b[0m\u001b[0m\n\u001b[0;32m   1471\u001b[0m                 \u001b[0mself\u001b[0m\u001b[1;33m.\u001b[0m\u001b[0mmodFunct\u001b[0m \u001b[1;32mnot\u001b[0m \u001b[1;32min\u001b[0m \u001b[1;33m(\u001b[0m\u001b[0mNone\u001b[0m\u001b[1;33m,\u001b[0m \u001b[0mmodNull\u001b[0m\u001b[1;33m)\u001b[0m\u001b[1;33m:\u001b[0m\u001b[1;33m\u001b[0m\u001b[0m\n",
      "\u001b[1;31mKeyError\u001b[0m: 'goofs'"
     ]
    }
   ],
   "source": [
    "# Get the first item listed as a \"goof\".\n",
    "ia.update(the_unt, 'goofs')\n",
    "print the_unt['goofs'][0]"
   ]
  },
  {
   "cell_type": "code",
   "execution_count": null,
   "metadata": {
    "collapsed": true
   },
   "outputs": [],
   "source": [
    "# The first \"trivia\" for the first director.\n",
    "b_depalma = director[0]\n",
    "ia.update(b_depalma)\n",
    "print b_depalma['trivia'][0]"
   ]
  },
  {
   "cell_type": "code",
   "execution_count": null,
   "metadata": {
    "collapsed": true
   },
   "outputs": [],
   "source": []
  }
 ],
 "metadata": {
  "kernelspec": {
   "display_name": "Python 2",
   "language": "python",
   "name": "python2"
  },
  "language_info": {
   "codemirror_mode": {
    "name": "ipython",
    "version": 2
   },
   "file_extension": ".py",
   "mimetype": "text/x-python",
   "name": "python",
   "nbconvert_exporter": "python",
   "pygments_lexer": "ipython2",
   "version": "2.7.10"
  }
 },
 "nbformat": 4,
 "nbformat_minor": 0
}
