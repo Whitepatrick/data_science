{
 "cells": [
  {
   "cell_type": "code",
   "execution_count": null,
   "metadata": {
    "collapsed": false
   },
   "outputs": [],
   "source": [
    "import omdb\n",
    "import pandas as pd\n",
    "import numpy as np"
   ]
  },
  {
   "cell_type": "code",
   "execution_count": 10,
   "metadata": {
    "collapsed": true
   },
   "outputs": [],
   "source": [
    "res = omdb.request(t='*Star Trek*', r='json')\n",
    "json_content = res.content"
   ]
  },
  {
   "cell_type": "code",
   "execution_count": 11,
   "metadata": {
    "collapsed": false
   },
   "outputs": [
    {
     "name": "stdout",
     "output_type": "stream",
     "text": [
      "{\"Title\":\"Star Trek\",\"Year\":\"2009\",\"Rated\":\"PG-13\",\"Released\":\"08 May 2009\",\"Runtime\":\"127 min\",\"Genre\":\"Action, Adventure, Sci-Fi\",\"Director\":\"J.J. Abrams\",\"Writer\":\"Roberto Orci, Alex Kurtzman, Gene Roddenberry (television series \\\"Star Trek\\\")\",\"Actors\":\"Chris Pine, Zachary Quinto, Leonard Nimoy, Eric Bana\",\"Plot\":\"The brash James T. Kirk tries to live up to his father's legacy with Mr. Spock keeping him in check as a vengeful, time-traveling Romulan creates black holes to destroy the Federation one planet at a time.\",\"Language\":\"English\",\"Country\":\"USA, Germany\",\"Awards\":\"Won 1 Oscar. Another 22 wins & 77 nominations.\",\"Poster\":\"http://ia.media-imdb.com/images/M/MV5BMjE5NDQ5OTE4Ml5BMl5BanBnXkFtZTcwOTE3NDIzMw@@._V1_SX300.jpg\",\"Metascore\":\"83\",\"imdbRating\":\"8.0\",\"imdbVotes\":\"479,200\",\"imdbID\":\"tt0796366\",\"Type\":\"movie\",\"Response\":\"True\"}\n"
     ]
    }
   ],
   "source": [
    "print json_content"
   ]
  },
  {
   "cell_type": "code",
   "execution_count": 7,
   "metadata": {
    "collapsed": false
   },
   "outputs": [
    {
     "data": {
      "text/plain": [
       "True"
      ]
     },
     "execution_count": 7,
     "metadata": {},
     "output_type": "execute_result"
    }
   ],
   "source": [
    "movie = omdb.title('Star Trek')\n",
    "movie.title == 'Star Trek'\n",
    "movie['title'] == 'Star Trek'\n",
    "\n",
    "search = omdb.search('Star Trek')\n",
    "search[0].title == 'Star Trek'"
   ]
  },
  {
   "cell_type": "code",
   "execution_count": null,
   "metadata": {
    "collapsed": true
   },
   "outputs": [],
   "source": []
  }
 ],
 "metadata": {
  "kernelspec": {
   "display_name": "Python 2",
   "language": "python",
   "name": "python2"
  },
  "language_info": {
   "codemirror_mode": {
    "name": "ipython",
    "version": 2
   },
   "file_extension": ".py",
   "mimetype": "text/x-python",
   "name": "python",
   "nbconvert_exporter": "python",
   "pygments_lexer": "ipython2",
   "version": "2.7.9"
  }
 },
 "nbformat": 4,
 "nbformat_minor": 0
}
