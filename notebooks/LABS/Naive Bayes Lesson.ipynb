{
 "cells": [
  {
   "cell_type": "code",
   "execution_count": 47,
   "metadata": {
    "collapsed": true
   },
   "outputs": [],
   "source": [
    "from sklearn.datasets import fetch_20newsgroups\n",
    "from sklearn.naive_bayes import BernoulliNB, MultinomialNB\n",
    "from sklearn.feature_extraction.text import CountVectorizer, TfidfVectorizer\n",
    "from sklearn.metrics import f1_score\n",
    "import numpy as np\n",
    "from sklearn.linear_model import SGDClassifier"
   ]
  },
  {
   "cell_type": "markdown",
   "metadata": {},
   "source": [
    "### Here we'll be exploring the Newsgroup dataset. The 20 Newsgroups data set is a collection of approximately 20,000 newsgroup documents, partitioned (nearly) evenly across 20 different newsgroups."
   ]
  },
  {
   "cell_type": "markdown",
   "metadata": {},
   "source": [
    "###### It is a popular machine learning dataset, and is thus readily available. Load up the data for 4 types of newsgroups here"
   ]
  },
  {
   "cell_type": "code",
   "execution_count": 29,
   "metadata": {
    "collapsed": false
   },
   "outputs": [],
   "source": [
    "categories = ['alt.atheism', \n",
    "              'talk.religion.misc',\n",
    "              'comp.graphics', \n",
    "              'sci.space']\n",
    "data_train = fetch_20newsgroups(subset='train', categories=categories,\n",
    "                              remove=('headers', 'footers', 'quotes')\n",
    "                               )\n",
    "data_test = fetch_20newsgroups(subset='test', categories=categories,\n",
    "                              remove=('headers', 'footers', 'quotes'),\n",
    "                              )"
   ]
  },
  {
   "cell_type": "markdown",
   "metadata": {},
   "source": [
    "###### Create a training and testing dataset"
   ]
  },
  {
   "cell_type": "code",
   "execution_count": 30,
   "metadata": {
    "collapsed": false
   },
   "outputs": [],
   "source": [
    "X_train = data_train.data\n",
    "y_train = data_train.target\n",
    "cat = data_train.target_names\n",
    "\n",
    "X_test = data_test.data\n",
    "y_test = data_test.target"
   ]
  },
  {
   "cell_type": "markdown",
   "metadata": {},
   "source": [
    "###### Vectorize and fit a Bernoulli Naive Bayes Classifier"
   ]
  },
  {
   "cell_type": "code",
   "execution_count": 42,
   "metadata": {
    "collapsed": false
   },
   "outputs": [],
   "source": [
    "cv_b = CountVectorizer(binary=True, stop_words='english')\n",
    "cv_b.fit(X_train)\n",
    "X_train_b = cv_b.transform(X_train)\n",
    "X_test_b = cv_b.transform(X_test)"
   ]
  },
  {
   "cell_type": "code",
   "execution_count": 43,
   "metadata": {
    "collapsed": false
   },
   "outputs": [],
   "source": [
    "clf_b = BernoulliNB()"
   ]
  },
  {
   "cell_type": "code",
   "execution_count": 44,
   "metadata": {
    "collapsed": false
   },
   "outputs": [
    {
     "data": {
      "text/plain": [
       "BernoulliNB(alpha=1.0, binarize=0.0, class_prior=None, fit_prior=True)"
      ]
     },
     "execution_count": 44,
     "metadata": {},
     "output_type": "execute_result"
    }
   ],
   "source": [
    "clf_b.fit(X_train_b,y_train)"
   ]
  },
  {
   "cell_type": "markdown",
   "metadata": {},
   "source": [
    "###### How does the classifier perform?"
   ]
  },
  {
   "cell_type": "code",
   "execution_count": 45,
   "metadata": {
    "collapsed": false
   },
   "outputs": [
    {
     "data": {
      "text/plain": [
       "0.72720620165021255"
      ]
     },
     "execution_count": 45,
     "metadata": {},
     "output_type": "execute_result"
    }
   ],
   "source": [
    "f1_score(y_train, clf_b.predict(X_train_b), average='weighted')"
   ]
  },
  {
   "cell_type": "code",
   "execution_count": 46,
   "metadata": {
    "collapsed": false
   },
   "outputs": [
    {
     "data": {
      "text/plain": [
       "0.5688258040546732"
      ]
     },
     "execution_count": 46,
     "metadata": {},
     "output_type": "execute_result"
    }
   ],
   "source": [
    "f1_score(y_test, clf_b.predict(X_test_b), average='weighted')"
   ]
  },
  {
   "cell_type": "markdown",
   "metadata": {},
   "source": [
    "###### Let's try a multinomial model"
   ]
  },
  {
   "cell_type": "code",
   "execution_count": 36,
   "metadata": {
    "collapsed": true
   },
   "outputs": [],
   "source": [
    "cv_m = CountVectorizer(stop_words='english')\n",
    "X_train_m = cv_m.fit_transform(X_train)\n",
    "X_test_m = cv_m.transform(X_test)"
   ]
  },
  {
   "cell_type": "code",
   "execution_count": 37,
   "metadata": {
    "collapsed": true
   },
   "outputs": [],
   "source": [
    "clf_m = MultinomialNB().fit(X_train_m, y_train)"
   ]
  },
  {
   "cell_type": "code",
   "execution_count": 38,
   "metadata": {
    "collapsed": false
   },
   "outputs": [
    {
     "name": "stdout",
     "output_type": "stream",
     "text": [
      "0.941948940172\n",
      "0.777734750893\n"
     ]
    }
   ],
   "source": [
    "print f1_score(y_train, clf_m.predict(X_train_m), average='weighted')\n",
    "print f1_score(y_test, clf_m.predict(X_test_m), average='weighted')\n"
   ]
  },
  {
   "cell_type": "markdown",
   "metadata": {},
   "source": [
    "###### Ok, so we know multinomial seems to do better. Can we figure out how to improve it?"
   ]
  },
  {
   "cell_type": "code",
   "execution_count": 39,
   "metadata": {
    "collapsed": false
   },
   "outputs": [],
   "source": [
    "def showtop10(vectorizer, clf, categories):\n",
    "    fn = np.asarray(vectorizer.get_feature_names())\n",
    "    for i, cat in enumerate(categories):\n",
    "        top10 = np.argsort(clf.coef_[i])[-10:]\n",
    "        print('%s: %s:' % (cat, ' '.join(fn[top10])))\n"
   ]
  },
  {
   "cell_type": "code",
   "execution_count": 40,
   "metadata": {
    "collapsed": false
   },
   "outputs": [
    {
     "name": "stdout",
     "output_type": "stream",
     "text": [
      "alt.atheism: like believe say atheism does just think don people god:\n",
      "comp.graphics: software images files data use file jpeg edu graphics image:\n",
      "sci.space: just shuttle time orbit data like earth launch nasa space:\n",
      "talk.religion.misc: know say think christian just bible don jesus people god:\n"
     ]
    }
   ],
   "source": [
    "showtop10(cv_m, clf_m, cat)"
   ]
  },
  {
   "cell_type": "code",
   "execution_count": 41,
   "metadata": {
    "collapsed": false
   },
   "outputs": [
    {
     "name": "stdout",
     "output_type": "stream",
     "text": [
      "alt.atheism: not you in it is and that of to the:\n",
      "comp.graphics: on that it is for in of and to the:\n",
      "sci.space: on for that it is in and of to the:\n",
      "talk.religion.misc: are not it in that is and to of the:\n"
     ]
    }
   ],
   "source": [
    "showtop10(cv_b, clf_b, cat)"
   ]
  },
  {
   "cell_type": "code",
   "execution_count": null,
   "metadata": {
    "collapsed": true
   },
   "outputs": [],
   "source": []
  }
 ],
 "metadata": {
  "kernelspec": {
   "display_name": "Python 2",
   "language": "python",
   "name": "python2"
  },
  "language_info": {
   "codemirror_mode": {
    "name": "ipython",
    "version": 2
   },
   "file_extension": ".py",
   "mimetype": "text/x-python",
   "name": "python",
   "nbconvert_exporter": "python",
   "pygments_lexer": "ipython2",
   "version": "2.7.10"
  }
 },
 "nbformat": 4,
 "nbformat_minor": 0
}
