{
 "cells": [
  {
   "cell_type": "code",
   "execution_count": 1,
   "metadata": {
    "collapsed": false
   },
   "outputs": [],
   "source": [
    "from sklearn.datasets import load_digits\n",
    "from sklearn.neighbors import KNeighborsClassifier\n",
    "from sklearn.grid_search import GridSearchCV\n",
    "from sklearn.cross_validation import train_test_split"
   ]
  },
  {
   "cell_type": "code",
   "execution_count": 14,
   "metadata": {
    "collapsed": false
   },
   "outputs": [],
   "source": [
    "digits = load_digits()"
   ]
  },
  {
   "cell_type": "code",
   "execution_count": 15,
   "metadata": {
    "collapsed": false
   },
   "outputs": [],
   "source": [
    "KNeighborsClassifier??"
   ]
  },
  {
   "cell_type": "code",
   "execution_count": 4,
   "metadata": {
    "collapsed": true
   },
   "outputs": [],
   "source": [
    "param_grid = {'n_neighbors': range(1,20)}"
   ]
  },
  {
   "cell_type": "code",
   "execution_count": 5,
   "metadata": {
    "collapsed": true
   },
   "outputs": [],
   "source": [
    "grid_search = GridSearchCV(KNeighborsClassifier(), param_grid, verbose=3)"
   ]
  },
  {
   "cell_type": "code",
   "execution_count": 6,
   "metadata": {
    "collapsed": true
   },
   "outputs": [],
   "source": [
    "X_train, X_test, y_train, y_test = train_test_split??"
   ]
  },
  {
   "cell_type": "code",
   "execution_count": null,
   "metadata": {
    "collapsed": true
   },
   "outputs": [],
   "source": [
    "X_train, X_test, y_train, y_test = train_test_split"
   ]
  },
  {
   "cell_type": "code",
   "execution_count": 7,
   "metadata": {
    "collapsed": true
   },
   "outputs": [],
   "source": [
    "X_train, X_test, y_train, y_test = train_test_split(digits.data, digits.target)"
   ]
  },
  {
   "cell_type": "code",
   "execution_count": 8,
   "metadata": {
    "collapsed": false
   },
   "outputs": [
    {
     "name": "stdout",
     "output_type": "stream",
     "text": [
      "Fitting 3 folds for each of 19 candidates, totalling 57 fits\n",
      "[CV] n_neighbors=1 ...................................................\n",
      "[CV] .......................... n_neighbors=1, score=0.982301 -   0.0s\n",
      "[CV] n_neighbors=1 ...................................................\n",
      "[CV] .......................... n_neighbors=1, score=0.977679 -   0.0s\n",
      "[CV] n_neighbors=1 ...................................................\n",
      "[CV] .......................... n_neighbors=1, score=0.991051 -   0.0s\n",
      "[CV] n_neighbors=2 ...................................................\n",
      "[CV] .......................... n_neighbors=2, score=0.971239 -   0.0s\n",
      "[CV] n_neighbors=2 ...................................................\n",
      "[CV] .......................... n_neighbors=2, score=0.970982 -   0.0s\n",
      "[CV] n_neighbors=2 ...................................................\n",
      "[CV] .......................... n_neighbors=2, score=0.986577 -   0.0s\n",
      "[CV] n_neighbors=3 ...................................................\n",
      "[CV] .......................... n_neighbors=3, score=0.984513 -   0.0s\n",
      "[CV] n_neighbors=3 ...................................................\n",
      "[CV] .......................... n_neighbors=3, score=0.975446 -   0.0s\n",
      "[CV] n_neighbors=3 ...................................................\n",
      "[CV] .......................... n_neighbors=3, score=0.993289 -   0.0s\n",
      "[CV] n_neighbors=4 ...................................................\n",
      "[CV] .......................... n_neighbors=4, score=0.973451 -   0.0s\n",
      "[CV] n_neighbors=4 ...................................................\n",
      "[CV] .......................... n_neighbors=4, score=0.968750 -   0.0s\n",
      "[CV] n_neighbors=4 ...................................................\n",
      "[CV] .......................... n_neighbors=4, score=0.991051 -   0.0s\n",
      "[CV] n_neighbors=5 ...................................................\n",
      "[CV] .......................... n_neighbors=5, score=0.977876 -   0.0s\n",
      "[CV] n_neighbors=5 ...................................................\n",
      "[CV] .......................... n_neighbors=5, score=0.973214 -   0.0s\n",
      "[CV] n_neighbors=5 ...................................................\n",
      "[CV] .......................... n_neighbors=5, score=0.991051 -   0.0s\n",
      "[CV] n_neighbors=6 ...................................................\n",
      "[CV] .......................... n_neighbors=6, score=0.966814 -   0.0s\n",
      "[CV] n_neighbors=6 ...................................................\n",
      "[CV] .......................... n_neighbors=6, score=0.968750 -   0.0s\n",
      "[CV] n_neighbors=6 ...................................................\n",
      "[CV] .......................... n_neighbors=6, score=0.988814 -   0.0s\n",
      "[CV] n_neighbors=7 ...................................................\n",
      "[CV] .......................... n_neighbors=7, score=0.966814 -   0.0s\n",
      "[CV] n_neighbors=7 ...................................................\n",
      "[CV] .......................... n_neighbors=7, score=0.970982 -   0.0s\n",
      "[CV] n_neighbors=7 ...................................................\n",
      "[CV] .......................... n_neighbors=7, score=0.993289 -   0.0s\n",
      "[CV] n_neighbors=8 ...................................................\n",
      "[CV] .......................... n_neighbors=8, score=0.960177 -   0.0s\n",
      "[CV] n_neighbors=8 ...................................................\n",
      "[CV] .......................... n_neighbors=8, score=0.970982 -   0.0s\n",
      "[CV] n_neighbors=8 ...................................................\n",
      "[CV] .......................... n_neighbors=8, score=0.988814 -   0.0s\n",
      "[CV] n_neighbors=9 ...................................................\n",
      "[CV] .......................... n_neighbors=9, score=0.955752 -   0.0s\n",
      "[CV] n_neighbors=9 ...................................................\n",
      "[CV] .......................... n_neighbors=9, score=0.970982 -   0.0s\n",
      "[CV] n_neighbors=9 ...................................................\n",
      "[CV] .......................... n_neighbors=9, score=0.988814 -   0.0s\n",
      "[CV] n_neighbors=10 ..................................................\n",
      "[CV] ......................... n_neighbors=10, score=0.955752 -   0.0s\n",
      "[CV] n_neighbors=10 ..................................................\n",
      "[CV] ......................... n_neighbors=10, score=0.968750 -   0.0s\n",
      "[CV] n_neighbors=10 ..................................................\n",
      "[CV] ......................... n_neighbors=10, score=0.979866 -   0.0s\n",
      "[CV] n_neighbors=11 ..................................................\n",
      "[CV] ......................... n_neighbors=11, score=0.955752 -   0.0s\n",
      "[CV] n_neighbors=11 ..................................................\n",
      "[CV] ......................... n_neighbors=11, score=0.966518 -   0.0s\n",
      "[CV] n_neighbors=11 ..................................................\n",
      "[CV] ......................... n_neighbors=11, score=0.984340 -   0.0s\n",
      "[CV] n_neighbors=12 ..................................................\n",
      "[CV] ......................... n_neighbors=12, score=0.957965 -   0.0s\n",
      "[CV] n_neighbors=12 ..................................................\n",
      "[CV] ......................... n_neighbors=12, score=0.968750 -   0.0s\n",
      "[CV] n_neighbors=12 ..................................................\n",
      "[CV] ......................... n_neighbors=12, score=0.979866 -   0.0s\n",
      "[CV] n_neighbors=13 ..................................................\n",
      "[CV] ......................... n_neighbors=13, score=0.962389 -   0.0s\n",
      "[CV] n_neighbors=13 ..................................................\n",
      "[CV] ......................... n_neighbors=13, score=0.968750 -   0.0s\n",
      "[CV] n_neighbors=13 ..................................................\n",
      "[CV] ......................... n_neighbors=13, score=0.979866 -   0.0s\n",
      "[CV] n_neighbors=14 ..................................................\n",
      "[CV] ......................... n_neighbors=14, score=0.957965 -   0.0s\n",
      "[CV] n_neighbors=14 ..................................................\n",
      "[CV] ......................... n_neighbors=14, score=0.966518 -   0.0s\n",
      "[CV] n_neighbors=14 ..................................................\n",
      "[CV] ......................... n_neighbors=14, score=0.979866 -   0.0s\n",
      "[CV] n_neighbors=15 ..................................................\n",
      "[CV] ......................... n_neighbors=15, score=0.960177 -   0.0s\n",
      "[CV] n_neighbors=15 ..................................................\n",
      "[CV] ......................... n_neighbors=15, score=0.962054 -   0.0s\n",
      "[CV] n_neighbors=15 ..................................................\n",
      "[CV] ......................... n_neighbors=15, score=0.979866 -   0.0s\n",
      "[CV] n_neighbors=16 ..................................................\n",
      "[CV] ......................... n_neighbors=16, score=0.953540 -   0.0s\n",
      "[CV] n_neighbors=16 ..................................................\n",
      "[CV] ......................... n_neighbors=16, score=0.962054 -   0.0s\n",
      "[CV] n_neighbors=16 ..................................................\n",
      "[CV] ......................... n_neighbors=16, score=0.975391 -   0.0s\n",
      "[CV] n_neighbors=17 ..................................................\n",
      "[CV] ......................... n_neighbors=17, score=0.957965 -   0.0s\n",
      "[CV] n_neighbors=17 ..................................................\n",
      "[CV] ......................... n_neighbors=17, score=0.962054 -   0.0s\n",
      "[CV] n_neighbors=17 ..................................................\n",
      "[CV] ......................... n_neighbors=17, score=0.979866 -   0.0s\n",
      "[CV] n_neighbors=18 ..................................................\n",
      "[CV] ......................... n_neighbors=18, score=0.960177 -   0.0s\n",
      "[CV] n_neighbors=18 ..................................................\n",
      "[CV] ......................... n_neighbors=18, score=0.957589 -   0.0s\n",
      "[CV] n_neighbors=18 ..................................................\n",
      "[CV] ......................... n_neighbors=18, score=0.975391 -   0.0s\n",
      "[CV] n_neighbors=19 ..................................................\n",
      "[CV] ......................... n_neighbors=19, score=0.957965 -   0.0s\n",
      "[CV] n_neighbors=19 ..................................................\n",
      "[CV] ......................... n_neighbors=19, score=0.955357 -   0.0s"
     ]
    },
    {
     "name": "stderr",
     "output_type": "stream",
     "text": [
      "[Parallel(n_jobs=1)]: Done  31 tasks       | elapsed:    1.0s\n",
      "[Parallel(n_jobs=1)]: Done  57 out of  57 | elapsed:    1.9s finished\n"
     ]
    },
    {
     "name": "stdout",
     "output_type": "stream",
     "text": [
      "\n",
      "[CV] n_neighbors=19 ..................................................\n",
      "[CV] ......................... n_neighbors=19, score=0.975391 -   0.0s\n"
     ]
    },
    {
     "data": {
      "text/plain": [
       "GridSearchCV(cv=None, error_score='raise',\n",
       "       estimator=KNeighborsClassifier(algorithm='auto', leaf_size=30, metric='minkowski',\n",
       "           metric_params=None, n_jobs=1, n_neighbors=5, p=2,\n",
       "           weights='uniform'),\n",
       "       fit_params={}, iid=True, n_jobs=1,\n",
       "       param_grid={'n_neighbors': [1, 2, 3, 4, 5, 6, 7, 8, 9, 10, 11, 12, 13, 14, 15, 16, 17, 18, 19]},\n",
       "       pre_dispatch='2*n_jobs', refit=True, scoring=None, verbose=3)"
      ]
     },
     "execution_count": 8,
     "metadata": {},
     "output_type": "execute_result"
    }
   ],
   "source": [
    "grid_search.fit(X_train, y_train)"
   ]
  },
  {
   "cell_type": "code",
   "execution_count": null,
   "metadata": {
    "collapsed": false
   },
   "outputs": [],
   "source": [
    "grid_search.score(X_test, y_test)"
   ]
  },
  {
   "cell_type": "code",
   "execution_count": null,
   "metadata": {
    "collapsed": false
   },
   "outputs": [],
   "source": [
    "grid_search.best_params_"
   ]
  },
  {
   "cell_type": "markdown",
   "metadata": {},
   "source": [
    "###### Mini Question. Can you add an aditional param in the grid search to search over?  Does the accuracy change?"
   ]
  },
  {
   "cell_type": "code",
   "execution_count": null,
   "metadata": {
    "collapsed": true
   },
   "outputs": [],
   "source": []
  },
  {
   "cell_type": "markdown",
   "metadata": {},
   "source": [
    "###### Mini Question: Can you change the number of cross validation folds the grid search uses?"
   ]
  },
  {
   "cell_type": "code",
   "execution_count": null,
   "metadata": {
    "collapsed": true
   },
   "outputs": [],
   "source": []
  }
 ],
 "metadata": {
  "kernelspec": {
   "display_name": "Python 2",
   "language": "python",
   "name": "python2"
  },
  "language_info": {
   "codemirror_mode": {
    "name": "ipython",
    "version": 2
   },
   "file_extension": ".py",
   "mimetype": "text/x-python",
   "name": "python",
   "nbconvert_exporter": "python",
   "pygments_lexer": "ipython2",
   "version": "2.7.10"
  }
 },
 "nbformat": 4,
 "nbformat_minor": 0
}
