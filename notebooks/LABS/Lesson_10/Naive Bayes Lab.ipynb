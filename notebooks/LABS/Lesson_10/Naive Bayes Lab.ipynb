{
 "cells": [
  {
   "cell_type": "markdown",
   "metadata": {},
   "source": [
    "## Spammy data\n",
    "\n"
   ]
  },
  {
   "cell_type": "markdown",
   "metadata": {},
   "source": [
    "### We have a dataset (in the data folder) which contains sms messages, with a classification for each into spam or \"ham\". First, explore the dataset using pandas, and come up with a metric for the 'spamminess' of individual words. One example is the ratio of the # of times a word appears in the spam set vs the # of times it appears in the 'ham' set\n",
    "\n",
    "### Next, fit a Multinomial NB to the dataset and compare the words that seem to predict spam vs the ones you came up with initially. Look at the false negatives (spam messages that were predicted to be ham). What do you notice?\n",
    "\n",
    "### Lastly, break up the dataset into testing and training, and see what else you can do (perhaps with the vectorizer or classifier parameters) to improve the performance - using the f1 score"
   ]
  },
  {
   "cell_type": "code",
   "execution_count": null,
   "metadata": {
    "collapsed": true
   },
   "outputs": [],
   "source": []
  }
 ],
 "metadata": {
  "kernelspec": {
   "display_name": "Python 2",
   "language": "python",
   "name": "python2"
  },
  "language_info": {
   "codemirror_mode": {
    "name": "ipython",
    "version": 2
   },
   "file_extension": ".py",
   "mimetype": "text/x-python",
   "name": "python",
   "nbconvert_exporter": "python",
   "pygments_lexer": "ipython2",
   "version": "2.7.10"
  }
 },
 "nbformat": 4,
 "nbformat_minor": 0
}
