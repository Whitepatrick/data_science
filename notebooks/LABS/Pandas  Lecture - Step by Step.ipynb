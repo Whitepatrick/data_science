{
 "cells": [
  {
   "cell_type": "code",
   "execution_count": 1,
   "metadata": {
    "collapsed": true
   },
   "outputs": [],
   "source": [
    "import pandas as pd\n",
    "import numpy as np\n",
    "%matplotlib inline"
   ]
  },
  {
   "cell_type": "markdown",
   "metadata": {},
   "source": [
    "## Pandas Series"
   ]
  },
  {
   "cell_type": "markdown",
   "metadata": {},
   "source": [
    "###### A series is a one-dimensional array-like object containg an arry of data and an associated array of data labels, called an index."
   ]
  },
  {
   "cell_type": "code",
   "execution_count": null,
   "metadata": {
    "collapsed": false
   },
   "outputs": [],
   "source": [
    "obj = pd.Series([97,93,98,90])\n",
    "obj"
   ]
  },
  {
   "cell_type": "markdown",
   "metadata": {},
   "source": [
    "###### Can add an index"
   ]
  },
  {
   "cell_type": "code",
   "execution_count": null,
   "metadata": {
    "collapsed": false
   },
   "outputs": [],
   "source": [
    "grades = pd.Series([97,93,98,90], index=[\"Craig\", \"Mason\", \"Dina\", \"Rachel\"])\n",
    "grades"
   ]
  },
  {
   "cell_type": "code",
   "execution_count": null,
   "metadata": {
    "collapsed": false
   },
   "outputs": [],
   "source": [
    "print \"mean: \" + str(np.mean(grades))\n",
    "print \"std: \" + str(np.std(grades))\n",
    "print \"random sum: \" + str(np.sum(grades*3))"
   ]
  },
  {
   "cell_type": "markdown",
   "metadata": {},
   "source": [
    "###### Can Filter on values"
   ]
  },
  {
   "cell_type": "code",
   "execution_count": null,
   "metadata": {
    "collapsed": false
   },
   "outputs": [],
   "source": [
    "grades>95"
   ]
  },
  {
   "cell_type": "code",
   "execution_count": null,
   "metadata": {
    "collapsed": false
   },
   "outputs": [],
   "source": [
    "grades[grades>95]"
   ]
  },
  {
   "cell_type": "markdown",
   "metadata": {},
   "source": [
    "###### Series can also be thought of as a fixed-length, ordered dict, and maps index values to data values. In fact, if you have a dict, you can just convert it into a Series"
   ]
  },
  {
   "cell_type": "code",
   "execution_count": null,
   "metadata": {
    "collapsed": true
   },
   "outputs": [],
   "source": [
    "d = {\"Craig\": 97, \"Mason\": 93, \"Dina\": 98, \"Rachel\": 90}"
   ]
  },
  {
   "cell_type": "code",
   "execution_count": null,
   "metadata": {
    "collapsed": false
   },
   "outputs": [],
   "source": [
    "s1 = pd.Series(d)\n",
    "s1"
   ]
  },
  {
   "cell_type": "code",
   "execution_count": null,
   "metadata": {
    "collapsed": false
   },
   "outputs": [],
   "source": [
    "d2 = {\"Craig\": 97, \"Mason\": 93, \"Dina\": 98, \"Rachel\": 90, \"Joel\": 88}\n",
    "print d2\n",
    "s2 = pd.Series(d2)\n",
    "print s2"
   ]
  },
  {
   "cell_type": "markdown",
   "metadata": {},
   "source": [
    "###### You an even add series together that have mis-aligned indices"
   ]
  },
  {
   "cell_type": "code",
   "execution_count": null,
   "metadata": {
    "collapsed": false
   },
   "outputs": [],
   "source": [
    "s1+s2"
   ]
  },
  {
   "cell_type": "markdown",
   "metadata": {},
   "source": [
    "## DataFrames"
   ]
  },
  {
   "cell_type": "markdown",
   "metadata": {},
   "source": [
    "###### You can think of DataFrames as a dict of Series. The rows have an index, but now the columns have one too."
   ]
  },
  {
   "cell_type": "code",
   "execution_count": null,
   "metadata": {
    "collapsed": false
   },
   "outputs": [],
   "source": [
    "data = {'test1': [90,53,80,77],\n",
    "        'test2': [92,55,82,79],\n",
    "        'test3': [94, 57, 84, 81]\n",
    "}\n",
    "\n",
    "frame = pd.DataFrame(data)\n",
    "frame"
   ]
  },
  {
   "cell_type": "code",
   "execution_count": null,
   "metadata": {
    "collapsed": false
   },
   "outputs": [],
   "source": [
    "#Can specify columns, even those that don't exist! \n",
    "frame = pd.DataFrame(data=data, \n",
    "                     columns=[\"test1\", \"test2\", \"test3\", \"test4\"], \n",
    "                     index=['Craig', 'Mason', 'Dina', 'Rachel'])\n",
    "frame"
   ]
  },
  {
   "cell_type": "markdown",
   "metadata": {},
   "source": [
    "###### Can access columns with dict-like notation, or as an attribute (with a period). They keep the same index."
   ]
  },
  {
   "cell_type": "code",
   "execution_count": null,
   "metadata": {
    "collapsed": false
   },
   "outputs": [],
   "source": [
    "frame.test1"
   ]
  },
  {
   "cell_type": "code",
   "execution_count": null,
   "metadata": {
    "collapsed": false
   },
   "outputs": [],
   "source": [
    "frame.ix['Dina']"
   ]
  },
  {
   "cell_type": "markdown",
   "metadata": {},
   "source": [
    "###### Column assignment"
   ]
  },
  {
   "cell_type": "code",
   "execution_count": null,
   "metadata": {
    "collapsed": false
   },
   "outputs": [],
   "source": [
    "frame['test4'] = 100\n",
    "frame"
   ]
  },
  {
   "cell_type": "code",
   "execution_count": null,
   "metadata": {
    "collapsed": false
   },
   "outputs": [],
   "source": [
    "frame['passed'] = (frame.sum(axis=1) > (85*4))\n",
    "frame"
   ]
  },
  {
   "cell_type": "code",
   "execution_count": null,
   "metadata": {
    "collapsed": false
   },
   "outputs": [],
   "source": [
    "del frame['passed']\n",
    "frame"
   ]
  },
  {
   "cell_type": "code",
   "execution_count": null,
   "metadata": {
    "collapsed": false
   },
   "outputs": [],
   "source": [
    "frame[frame>90]"
   ]
  },
  {
   "cell_type": "code",
   "execution_count": null,
   "metadata": {
    "collapsed": false
   },
   "outputs": [],
   "source": [
    "frame[frame>90] = 100\n",
    "frame"
   ]
  },
  {
   "cell_type": "code",
   "execution_count": null,
   "metadata": {
    "collapsed": false
   },
   "outputs": [],
   "source": [
    "frame*-1"
   ]
  },
  {
   "cell_type": "markdown",
   "metadata": {},
   "source": [
    "## Examples of some built in Pandas Functionality"
   ]
  },
  {
   "cell_type": "code",
   "execution_count": 2,
   "metadata": {
    "collapsed": false
   },
   "outputs": [
    {
     "name": "stderr",
     "output_type": "stream",
     "text": [
      "/usr/local/lib/python2.7/site-packages/pandas/io/data.py:33: FutureWarning: \n",
      "The pandas.io.data module is moved to a separate package (pandas-datareader) and will be removed from pandas in a future version.\n",
      "After installing the pandas-datareader package (https://github.com/pydata/pandas-datareader), you can change the import ``from pandas.io import data, wb`` to ``from pandas_datareader import data, wb``.\n",
      "  FutureWarning)\n"
     ]
    }
   ],
   "source": [
    "import pandas.io.data as web"
   ]
  },
  {
   "cell_type": "code",
   "execution_count": 3,
   "metadata": {
    "collapsed": true
   },
   "outputs": [],
   "source": [
    "tickers = ['AAPL', \"GOOG\", \"TSLA\", \"MSFT\"]\n",
    "all_data = {}\n",
    "for ticker in tickers:\n",
    "    all_data[ticker] = web.get_data_yahoo(ticker)"
   ]
  },
  {
   "cell_type": "code",
   "execution_count": 4,
   "metadata": {
    "collapsed": false
   },
   "outputs": [],
   "source": [
    "price = pd.DataFrame({tic: data['Adj Close'] for tic, data in all_data.iteritems()})\n",
    "volume = pd.DataFrame({tic: data['Volume'] for tic, data in all_data.iteritems()})"
   ]
  },
  {
   "cell_type": "code",
   "execution_count": 8,
   "metadata": {
    "collapsed": false
   },
   "outputs": [
    {
     "data": {
      "text/html": [
       "<div>\n",
       "<table border=\"1\" class=\"dataframe\">\n",
       "  <thead>\n",
       "    <tr style=\"text-align: right;\">\n",
       "      <th></th>\n",
       "      <th>AAPL</th>\n",
       "      <th>GOOG</th>\n",
       "      <th>MSFT</th>\n",
       "      <th>TSLA</th>\n",
       "    </tr>\n",
       "    <tr>\n",
       "      <th>Date</th>\n",
       "      <th></th>\n",
       "      <th></th>\n",
       "      <th></th>\n",
       "      <th></th>\n",
       "    </tr>\n",
       "  </thead>\n",
       "  <tbody>\n",
       "    <tr>\n",
       "      <th>2010-01-04</th>\n",
       "      <td>28.466830</td>\n",
       "      <td>NaN</td>\n",
       "      <td>26.415914</td>\n",
       "      <td>NaN</td>\n",
       "    </tr>\n",
       "    <tr>\n",
       "      <th>2010-01-05</th>\n",
       "      <td>28.516046</td>\n",
       "      <td>NaN</td>\n",
       "      <td>26.424448</td>\n",
       "      <td>NaN</td>\n",
       "    </tr>\n",
       "    <tr>\n",
       "      <th>2010-01-06</th>\n",
       "      <td>28.062460</td>\n",
       "      <td>NaN</td>\n",
       "      <td>26.262284</td>\n",
       "      <td>NaN</td>\n",
       "    </tr>\n",
       "    <tr>\n",
       "      <th>2010-01-07</th>\n",
       "      <td>28.010584</td>\n",
       "      <td>NaN</td>\n",
       "      <td>25.989163</td>\n",
       "      <td>NaN</td>\n",
       "    </tr>\n",
       "    <tr>\n",
       "      <th>2010-01-08</th>\n",
       "      <td>28.196808</td>\n",
       "      <td>NaN</td>\n",
       "      <td>26.168398</td>\n",
       "      <td>NaN</td>\n",
       "    </tr>\n",
       "    <tr>\n",
       "      <th>2010-01-11</th>\n",
       "      <td>27.948067</td>\n",
       "      <td>NaN</td>\n",
       "      <td>25.835532</td>\n",
       "      <td>NaN</td>\n",
       "    </tr>\n",
       "    <tr>\n",
       "      <th>2010-01-12</th>\n",
       "      <td>27.630158</td>\n",
       "      <td>NaN</td>\n",
       "      <td>25.664831</td>\n",
       "      <td>NaN</td>\n",
       "    </tr>\n",
       "    <tr>\n",
       "      <th>2010-01-13</th>\n",
       "      <td>28.019896</td>\n",
       "      <td>NaN</td>\n",
       "      <td>25.903812</td>\n",
       "      <td>NaN</td>\n",
       "    </tr>\n",
       "    <tr>\n",
       "      <th>2010-01-14</th>\n",
       "      <td>27.857616</td>\n",
       "      <td>NaN</td>\n",
       "      <td>26.424448</td>\n",
       "      <td>NaN</td>\n",
       "    </tr>\n",
       "    <tr>\n",
       "      <th>2010-01-15</th>\n",
       "      <td>27.392058</td>\n",
       "      <td>NaN</td>\n",
       "      <td>26.339099</td>\n",
       "      <td>NaN</td>\n",
       "    </tr>\n",
       "    <tr>\n",
       "      <th>2010-01-19</th>\n",
       "      <td>28.603837</td>\n",
       "      <td>NaN</td>\n",
       "      <td>26.543940</td>\n",
       "      <td>NaN</td>\n",
       "    </tr>\n",
       "    <tr>\n",
       "      <th>2010-01-20</th>\n",
       "      <td>28.163553</td>\n",
       "      <td>NaN</td>\n",
       "      <td>26.108653</td>\n",
       "      <td>NaN</td>\n",
       "    </tr>\n",
       "    <tr>\n",
       "      <th>2010-01-21</th>\n",
       "      <td>27.676713</td>\n",
       "      <td>NaN</td>\n",
       "      <td>25.613621</td>\n",
       "      <td>NaN</td>\n",
       "    </tr>\n",
       "    <tr>\n",
       "      <th>2010-01-22</th>\n",
       "      <td>26.303984</td>\n",
       "      <td>NaN</td>\n",
       "      <td>24.717442</td>\n",
       "      <td>NaN</td>\n",
       "    </tr>\n",
       "    <tr>\n",
       "      <th>2010-01-25</th>\n",
       "      <td>27.011632</td>\n",
       "      <td>NaN</td>\n",
       "      <td>25.024704</td>\n",
       "      <td>NaN</td>\n",
       "    </tr>\n",
       "    <tr>\n",
       "      <th>2010-01-26</th>\n",
       "      <td>27.393389</td>\n",
       "      <td>NaN</td>\n",
       "      <td>25.178335</td>\n",
       "      <td>NaN</td>\n",
       "    </tr>\n",
       "    <tr>\n",
       "      <th>2010-01-27</th>\n",
       "      <td>27.651441</td>\n",
       "      <td>NaN</td>\n",
       "      <td>25.323430</td>\n",
       "      <td>NaN</td>\n",
       "    </tr>\n",
       "    <tr>\n",
       "      <th>2010-01-28</th>\n",
       "      <td>26.508829</td>\n",
       "      <td>NaN</td>\n",
       "      <td>24.888144</td>\n",
       "      <td>NaN</td>\n",
       "    </tr>\n",
       "    <tr>\n",
       "      <th>2010-01-29</th>\n",
       "      <td>25.547122</td>\n",
       "      <td>NaN</td>\n",
       "      <td>24.051711</td>\n",
       "      <td>NaN</td>\n",
       "    </tr>\n",
       "    <tr>\n",
       "      <th>2010-02-01</th>\n",
       "      <td>25.902275</td>\n",
       "      <td>NaN</td>\n",
       "      <td>24.248016</td>\n",
       "      <td>NaN</td>\n",
       "    </tr>\n",
       "    <tr>\n",
       "      <th>2010-02-02</th>\n",
       "      <td>26.052583</td>\n",
       "      <td>NaN</td>\n",
       "      <td>24.290691</td>\n",
       "      <td>NaN</td>\n",
       "    </tr>\n",
       "    <tr>\n",
       "      <th>2010-02-03</th>\n",
       "      <td>26.500848</td>\n",
       "      <td>NaN</td>\n",
       "      <td>24.435786</td>\n",
       "      <td>NaN</td>\n",
       "    </tr>\n",
       "    <tr>\n",
       "      <th>2010-02-04</th>\n",
       "      <td>25.545792</td>\n",
       "      <td>NaN</td>\n",
       "      <td>23.761520</td>\n",
       "      <td>NaN</td>\n",
       "    </tr>\n",
       "    <tr>\n",
       "      <th>2010-02-05</th>\n",
       "      <td>25.999377</td>\n",
       "      <td>NaN</td>\n",
       "      <td>23.915151</td>\n",
       "      <td>NaN</td>\n",
       "    </tr>\n",
       "    <tr>\n",
       "      <th>2010-02-08</th>\n",
       "      <td>25.821135</td>\n",
       "      <td>NaN</td>\n",
       "      <td>23.659099</td>\n",
       "      <td>NaN</td>\n",
       "    </tr>\n",
       "    <tr>\n",
       "      <th>2010-02-09</th>\n",
       "      <td>26.096480</td>\n",
       "      <td>NaN</td>\n",
       "      <td>23.906616</td>\n",
       "      <td>NaN</td>\n",
       "    </tr>\n",
       "    <tr>\n",
       "      <th>2010-02-10</th>\n",
       "      <td>25.954152</td>\n",
       "      <td>NaN</td>\n",
       "      <td>23.889545</td>\n",
       "      <td>NaN</td>\n",
       "    </tr>\n",
       "    <tr>\n",
       "      <th>2010-02-11</th>\n",
       "      <td>26.426359</td>\n",
       "      <td>NaN</td>\n",
       "      <td>24.000501</td>\n",
       "      <td>NaN</td>\n",
       "    </tr>\n",
       "    <tr>\n",
       "      <th>2010-02-12</th>\n",
       "      <td>26.653817</td>\n",
       "      <td>NaN</td>\n",
       "      <td>23.838335</td>\n",
       "      <td>NaN</td>\n",
       "    </tr>\n",
       "    <tr>\n",
       "      <th>2010-02-16</th>\n",
       "      <td>27.055526</td>\n",
       "      <td>NaN</td>\n",
       "      <td>24.309957</td>\n",
       "      <td>NaN</td>\n",
       "    </tr>\n",
       "    <tr>\n",
       "      <th>...</th>\n",
       "      <td>...</td>\n",
       "      <td>...</td>\n",
       "      <td>...</td>\n",
       "      <td>...</td>\n",
       "    </tr>\n",
       "    <tr>\n",
       "      <th>2015-10-12</th>\n",
       "      <td>111.124329</td>\n",
       "      <td>646.669983</td>\n",
       "      <td>46.685325</td>\n",
       "      <td>215.580002</td>\n",
       "    </tr>\n",
       "    <tr>\n",
       "      <th>2015-10-13</th>\n",
       "      <td>111.313522</td>\n",
       "      <td>652.299988</td>\n",
       "      <td>46.576061</td>\n",
       "      <td>219.250000</td>\n",
       "    </tr>\n",
       "    <tr>\n",
       "      <th>2015-10-14</th>\n",
       "      <td>109.740254</td>\n",
       "      <td>651.159973</td>\n",
       "      <td>46.367468</td>\n",
       "      <td>216.880005</td>\n",
       "    </tr>\n",
       "    <tr>\n",
       "      <th>2015-10-15</th>\n",
       "      <td>111.383223</td>\n",
       "      <td>661.739990</td>\n",
       "      <td>46.695256</td>\n",
       "      <td>221.309998</td>\n",
       "    </tr>\n",
       "    <tr>\n",
       "      <th>2015-10-16</th>\n",
       "      <td>110.566719</td>\n",
       "      <td>662.200012</td>\n",
       "      <td>47.191909</td>\n",
       "      <td>227.009995</td>\n",
       "    </tr>\n",
       "    <tr>\n",
       "      <th>2015-10-19</th>\n",
       "      <td>111.253780</td>\n",
       "      <td>666.099976</td>\n",
       "      <td>47.301173</td>\n",
       "      <td>228.100006</td>\n",
       "    </tr>\n",
       "    <tr>\n",
       "      <th>2015-10-20</th>\n",
       "      <td>113.285078</td>\n",
       "      <td>650.280029</td>\n",
       "      <td>47.450170</td>\n",
       "      <td>213.029999</td>\n",
       "    </tr>\n",
       "    <tr>\n",
       "      <th>2015-10-21</th>\n",
       "      <td>113.275126</td>\n",
       "      <td>642.609985</td>\n",
       "      <td>46.883987</td>\n",
       "      <td>210.089996</td>\n",
       "    </tr>\n",
       "    <tr>\n",
       "      <th>2015-10-22</th>\n",
       "      <td>115.007708</td>\n",
       "      <td>651.789978</td>\n",
       "      <td>47.708428</td>\n",
       "      <td>211.720001</td>\n",
       "    </tr>\n",
       "    <tr>\n",
       "      <th>2015-10-23</th>\n",
       "      <td>118.572451</td>\n",
       "      <td>702.000000</td>\n",
       "      <td>52.516023</td>\n",
       "      <td>209.089996</td>\n",
       "    </tr>\n",
       "    <tr>\n",
       "      <th>2015-10-26</th>\n",
       "      <td>114.788644</td>\n",
       "      <td>712.780029</td>\n",
       "      <td>53.886785</td>\n",
       "      <td>215.259995</td>\n",
       "    </tr>\n",
       "    <tr>\n",
       "      <th>2015-10-27</th>\n",
       "      <td>114.061760</td>\n",
       "      <td>708.489990</td>\n",
       "      <td>53.330533</td>\n",
       "      <td>210.350006</td>\n",
       "    </tr>\n",
       "    <tr>\n",
       "      <th>2015-10-28</th>\n",
       "      <td>118.761636</td>\n",
       "      <td>712.950012</td>\n",
       "      <td>53.618592</td>\n",
       "      <td>212.960007</td>\n",
       "    </tr>\n",
       "    <tr>\n",
       "      <th>2015-10-29</th>\n",
       "      <td>120.016268</td>\n",
       "      <td>716.919983</td>\n",
       "      <td>53.002744</td>\n",
       "      <td>211.630005</td>\n",
       "    </tr>\n",
       "    <tr>\n",
       "      <th>2015-10-30</th>\n",
       "      <td>118.990659</td>\n",
       "      <td>710.809998</td>\n",
       "      <td>52.287563</td>\n",
       "      <td>206.929993</td>\n",
       "    </tr>\n",
       "    <tr>\n",
       "      <th>2015-11-02</th>\n",
       "      <td>120.663499</td>\n",
       "      <td>721.109985</td>\n",
       "      <td>52.883549</td>\n",
       "      <td>213.789993</td>\n",
       "    </tr>\n",
       "    <tr>\n",
       "      <th>2015-11-03</th>\n",
       "      <td>122.047573</td>\n",
       "      <td>722.159973</td>\n",
       "      <td>53.787456</td>\n",
       "      <td>208.350006</td>\n",
       "    </tr>\n",
       "    <tr>\n",
       "      <th>2015-11-04</th>\n",
       "      <td>121.480003</td>\n",
       "      <td>728.109985</td>\n",
       "      <td>54.035782</td>\n",
       "      <td>231.630005</td>\n",
       "    </tr>\n",
       "    <tr>\n",
       "      <th>2015-11-05</th>\n",
       "      <td>120.919998</td>\n",
       "      <td>731.250000</td>\n",
       "      <td>54.015915</td>\n",
       "      <td>231.770004</td>\n",
       "    </tr>\n",
       "    <tr>\n",
       "      <th>2015-11-06</th>\n",
       "      <td>121.059998</td>\n",
       "      <td>733.760010</td>\n",
       "      <td>54.552297</td>\n",
       "      <td>232.360001</td>\n",
       "    </tr>\n",
       "    <tr>\n",
       "      <th>2015-11-09</th>\n",
       "      <td>120.570000</td>\n",
       "      <td>724.890015</td>\n",
       "      <td>53.797387</td>\n",
       "      <td>225.330002</td>\n",
       "    </tr>\n",
       "    <tr>\n",
       "      <th>2015-11-10</th>\n",
       "      <td>116.769997</td>\n",
       "      <td>728.320007</td>\n",
       "      <td>53.151738</td>\n",
       "      <td>216.500000</td>\n",
       "    </tr>\n",
       "    <tr>\n",
       "      <th>2015-11-11</th>\n",
       "      <td>116.110001</td>\n",
       "      <td>735.400024</td>\n",
       "      <td>53.290803</td>\n",
       "      <td>219.080002</td>\n",
       "    </tr>\n",
       "    <tr>\n",
       "      <th>2015-11-12</th>\n",
       "      <td>115.720001</td>\n",
       "      <td>731.229980</td>\n",
       "      <td>52.963011</td>\n",
       "      <td>212.940002</td>\n",
       "    </tr>\n",
       "    <tr>\n",
       "      <th>2015-11-13</th>\n",
       "      <td>112.339996</td>\n",
       "      <td>717.000000</td>\n",
       "      <td>52.486225</td>\n",
       "      <td>207.190002</td>\n",
       "    </tr>\n",
       "    <tr>\n",
       "      <th>2015-11-16</th>\n",
       "      <td>114.180000</td>\n",
       "      <td>728.960022</td>\n",
       "      <td>53.409999</td>\n",
       "      <td>214.309998</td>\n",
       "    </tr>\n",
       "    <tr>\n",
       "      <th>2015-11-17</th>\n",
       "      <td>113.690002</td>\n",
       "      <td>725.299988</td>\n",
       "      <td>52.970001</td>\n",
       "      <td>214.000000</td>\n",
       "    </tr>\n",
       "    <tr>\n",
       "      <th>2015-11-18</th>\n",
       "      <td>117.290001</td>\n",
       "      <td>740.000000</td>\n",
       "      <td>53.849998</td>\n",
       "      <td>221.070007</td>\n",
       "    </tr>\n",
       "    <tr>\n",
       "      <th>2015-11-19</th>\n",
       "      <td>118.779999</td>\n",
       "      <td>738.409973</td>\n",
       "      <td>53.939999</td>\n",
       "      <td>221.800003</td>\n",
       "    </tr>\n",
       "    <tr>\n",
       "      <th>2015-11-20</th>\n",
       "      <td>119.300003</td>\n",
       "      <td>756.599976</td>\n",
       "      <td>54.189999</td>\n",
       "      <td>220.009995</td>\n",
       "    </tr>\n",
       "  </tbody>\n",
       "</table>\n",
       "<p>1483 rows × 4 columns</p>\n",
       "</div>"
      ],
      "text/plain": [
       "                  AAPL        GOOG       MSFT        TSLA\n",
       "Date                                                     \n",
       "2010-01-04   28.466830         NaN  26.415914         NaN\n",
       "2010-01-05   28.516046         NaN  26.424448         NaN\n",
       "2010-01-06   28.062460         NaN  26.262284         NaN\n",
       "2010-01-07   28.010584         NaN  25.989163         NaN\n",
       "2010-01-08   28.196808         NaN  26.168398         NaN\n",
       "2010-01-11   27.948067         NaN  25.835532         NaN\n",
       "2010-01-12   27.630158         NaN  25.664831         NaN\n",
       "2010-01-13   28.019896         NaN  25.903812         NaN\n",
       "2010-01-14   27.857616         NaN  26.424448         NaN\n",
       "2010-01-15   27.392058         NaN  26.339099         NaN\n",
       "2010-01-19   28.603837         NaN  26.543940         NaN\n",
       "2010-01-20   28.163553         NaN  26.108653         NaN\n",
       "2010-01-21   27.676713         NaN  25.613621         NaN\n",
       "2010-01-22   26.303984         NaN  24.717442         NaN\n",
       "2010-01-25   27.011632         NaN  25.024704         NaN\n",
       "2010-01-26   27.393389         NaN  25.178335         NaN\n",
       "2010-01-27   27.651441         NaN  25.323430         NaN\n",
       "2010-01-28   26.508829         NaN  24.888144         NaN\n",
       "2010-01-29   25.547122         NaN  24.051711         NaN\n",
       "2010-02-01   25.902275         NaN  24.248016         NaN\n",
       "2010-02-02   26.052583         NaN  24.290691         NaN\n",
       "2010-02-03   26.500848         NaN  24.435786         NaN\n",
       "2010-02-04   25.545792         NaN  23.761520         NaN\n",
       "2010-02-05   25.999377         NaN  23.915151         NaN\n",
       "2010-02-08   25.821135         NaN  23.659099         NaN\n",
       "2010-02-09   26.096480         NaN  23.906616         NaN\n",
       "2010-02-10   25.954152         NaN  23.889545         NaN\n",
       "2010-02-11   26.426359         NaN  24.000501         NaN\n",
       "2010-02-12   26.653817         NaN  23.838335         NaN\n",
       "2010-02-16   27.055526         NaN  24.309957         NaN\n",
       "...                ...         ...        ...         ...\n",
       "2015-10-12  111.124329  646.669983  46.685325  215.580002\n",
       "2015-10-13  111.313522  652.299988  46.576061  219.250000\n",
       "2015-10-14  109.740254  651.159973  46.367468  216.880005\n",
       "2015-10-15  111.383223  661.739990  46.695256  221.309998\n",
       "2015-10-16  110.566719  662.200012  47.191909  227.009995\n",
       "2015-10-19  111.253780  666.099976  47.301173  228.100006\n",
       "2015-10-20  113.285078  650.280029  47.450170  213.029999\n",
       "2015-10-21  113.275126  642.609985  46.883987  210.089996\n",
       "2015-10-22  115.007708  651.789978  47.708428  211.720001\n",
       "2015-10-23  118.572451  702.000000  52.516023  209.089996\n",
       "2015-10-26  114.788644  712.780029  53.886785  215.259995\n",
       "2015-10-27  114.061760  708.489990  53.330533  210.350006\n",
       "2015-10-28  118.761636  712.950012  53.618592  212.960007\n",
       "2015-10-29  120.016268  716.919983  53.002744  211.630005\n",
       "2015-10-30  118.990659  710.809998  52.287563  206.929993\n",
       "2015-11-02  120.663499  721.109985  52.883549  213.789993\n",
       "2015-11-03  122.047573  722.159973  53.787456  208.350006\n",
       "2015-11-04  121.480003  728.109985  54.035782  231.630005\n",
       "2015-11-05  120.919998  731.250000  54.015915  231.770004\n",
       "2015-11-06  121.059998  733.760010  54.552297  232.360001\n",
       "2015-11-09  120.570000  724.890015  53.797387  225.330002\n",
       "2015-11-10  116.769997  728.320007  53.151738  216.500000\n",
       "2015-11-11  116.110001  735.400024  53.290803  219.080002\n",
       "2015-11-12  115.720001  731.229980  52.963011  212.940002\n",
       "2015-11-13  112.339996  717.000000  52.486225  207.190002\n",
       "2015-11-16  114.180000  728.960022  53.409999  214.309998\n",
       "2015-11-17  113.690002  725.299988  52.970001  214.000000\n",
       "2015-11-18  117.290001  740.000000  53.849998  221.070007\n",
       "2015-11-19  118.779999  738.409973  53.939999  221.800003\n",
       "2015-11-20  119.300003  756.599976  54.189999  220.009995\n",
       "\n",
       "[1483 rows x 4 columns]"
      ]
     },
     "execution_count": 8,
     "metadata": {},
     "output_type": "execute_result"
    }
   ],
   "source": [
    "price"
   ]
  },
  {
   "cell_type": "code",
   "execution_count": 7,
   "metadata": {
    "collapsed": false
   },
   "outputs": [
    {
     "data": {
      "text/plain": [
       "<bound method DataFrame.tail of                 AAPL      GOOG      MSFT      TSLA\n",
       "Date                                              \n",
       "2010-01-04       NaN       NaN       NaN       NaN\n",
       "2010-01-05  0.001729       NaN  0.000323       NaN\n",
       "2010-01-06 -0.015906       NaN -0.006137       NaN\n",
       "2010-01-07 -0.001849       NaN -0.010400       NaN\n",
       "2010-01-08  0.006648       NaN  0.006897       NaN\n",
       "2010-01-11 -0.008822       NaN -0.012720       NaN\n",
       "2010-01-12 -0.011375       NaN -0.006607       NaN\n",
       "2010-01-13  0.014106       NaN  0.009312       NaN\n",
       "2010-01-14 -0.005792       NaN  0.020099       NaN\n",
       "2010-01-15 -0.016712       NaN -0.003230       NaN\n",
       "2010-01-19  0.044238       NaN  0.007777       NaN\n",
       "2010-01-20 -0.015392       NaN -0.016399       NaN\n",
       "2010-01-21 -0.017286       NaN -0.018960       NaN\n",
       "2010-01-22 -0.049599       NaN -0.034988       NaN\n",
       "2010-01-25  0.026903       NaN  0.012431       NaN\n",
       "2010-01-26  0.014133       NaN  0.006139       NaN\n",
       "2010-01-27  0.009420       NaN  0.005763       NaN\n",
       "2010-01-28 -0.041322       NaN -0.017189       NaN\n",
       "2010-01-29 -0.036279       NaN -0.033608       NaN\n",
       "2010-02-01  0.013902       NaN  0.008162       NaN\n",
       "2010-02-02  0.005803       NaN  0.001760       NaN\n",
       "2010-02-03  0.017206       NaN  0.005973       NaN\n",
       "2010-02-04 -0.036039       NaN -0.027593       NaN\n",
       "2010-02-05  0.017756       NaN  0.006466       NaN\n",
       "2010-02-08 -0.006856       NaN -0.010707       NaN\n",
       "2010-02-09  0.010664       NaN  0.010462       NaN\n",
       "2010-02-10 -0.005454       NaN -0.000714       NaN\n",
       "2010-02-11  0.018194       NaN  0.004645       NaN\n",
       "2010-02-12  0.008607       NaN -0.006757       NaN\n",
       "2010-02-16  0.015071       NaN  0.019784       NaN\n",
       "...              ...       ...       ...       ...\n",
       "2015-10-13  0.001703  0.008706 -0.002340  0.017024\n",
       "2015-10-14 -0.014134 -0.001748 -0.004479 -0.010810\n",
       "2015-10-15  0.014971  0.016248  0.007069  0.020426\n",
       "2015-10-16 -0.007331  0.000695  0.010636  0.025756\n",
       "2015-10-19  0.006214  0.005889  0.002315  0.004802\n",
       "2015-10-20  0.018258 -0.023750  0.003150 -0.066068\n",
       "2015-10-21 -0.000088 -0.011795 -0.011932 -0.013801\n",
       "2015-10-22  0.015295  0.014285  0.017585  0.007759\n",
       "2015-10-23  0.030996  0.077034  0.100770 -0.012422\n",
       "2015-10-26 -0.031911  0.015356  0.026102  0.029509\n",
       "2015-10-27 -0.006332 -0.006019 -0.010323 -0.022810\n",
       "2015-10-28  0.041205  0.006295  0.005401  0.012408\n",
       "2015-10-29  0.010564  0.005568 -0.011486 -0.006245\n",
       "2015-10-30 -0.008546 -0.008523 -0.013493 -0.022209\n",
       "2015-11-02  0.014059  0.014490  0.011398  0.033151\n",
       "2015-11-03  0.011471  0.001456  0.017092 -0.025445\n",
       "2015-11-04 -0.004650  0.008239  0.004617  0.111735\n",
       "2015-11-05 -0.004610  0.004313 -0.000368  0.000604\n",
       "2015-11-06  0.001158  0.003432  0.009930  0.002546\n",
       "2015-11-09 -0.004048 -0.012088 -0.013838 -0.030255\n",
       "2015-11-10 -0.031517  0.004732 -0.012001 -0.039187\n",
       "2015-11-11 -0.005652  0.009721  0.002616  0.011917\n",
       "2015-11-12 -0.003359 -0.005670 -0.006151 -0.028026\n",
       "2015-11-13 -0.029208 -0.019460 -0.009002 -0.027003\n",
       "2015-11-16  0.016379  0.016681  0.017600  0.034365\n",
       "2015-11-17 -0.004291 -0.005021 -0.008238 -0.001446\n",
       "2015-11-18  0.031665  0.020267  0.016613  0.033037\n",
       "2015-11-19  0.012704 -0.002149  0.001671  0.003302\n",
       "2015-11-20  0.004378  0.024634  0.004635 -0.008070\n",
       "2015-11-23 -0.012992 -0.000819  0.000000 -0.010272\n",
       "\n",
       "[1484 rows x 4 columns]>"
      ]
     },
     "execution_count": 7,
     "metadata": {},
     "output_type": "execute_result"
    }
   ],
   "source": [
    "returns = price.pct_change()\n",
    "returns.tail"
   ]
  },
  {
   "cell_type": "code",
   "execution_count": null,
   "metadata": {
    "collapsed": false
   },
   "outputs": [],
   "source": [
    "returns.corr()"
   ]
  },
  {
   "cell_type": "markdown",
   "metadata": {},
   "source": [
    "###### Can compute correlations against a specific Series"
   ]
  },
  {
   "cell_type": "code",
   "execution_count": null,
   "metadata": {
    "collapsed": false
   },
   "outputs": [],
   "source": [
    "returns.corrwith(returns.GOOG)"
   ]
  },
  {
   "cell_type": "markdown",
   "metadata": {},
   "source": [
    "###### When you pass in a dataframe, it will correlate with similar columns"
   ]
  },
  {
   "cell_type": "code",
   "execution_count": null,
   "metadata": {
    "collapsed": false
   },
   "outputs": [],
   "source": [
    "returns.corrwith(volume)"
   ]
  },
  {
   "cell_type": "markdown",
   "metadata": {},
   "source": [
    "## Selecting Data"
   ]
  },
  {
   "cell_type": "code",
   "execution_count": null,
   "metadata": {
    "collapsed": false
   },
   "outputs": [],
   "source": [
    "# let's create a basic dataframe\n",
    "df3 = pd.DataFrame(np.random.randn(5,4), columns=list('ABCD'), index=pd.date_range('20130101',periods=5))\n",
    "df3"
   ]
  },
  {
   "cell_type": "code",
   "execution_count": null,
   "metadata": {
    "collapsed": false
   },
   "outputs": [],
   "source": [
    "df3['A'] # this selects a series"
   ]
  },
  {
   "cell_type": "code",
   "execution_count": null,
   "metadata": {
    "collapsed": false
   },
   "outputs": [],
   "source": [
    "df3['A,','B'] # doesn't work. instead we need to pass a ist\n",
    "#df3[['A', 'B']]"
   ]
  },
  {
   "cell_type": "code",
   "execution_count": null,
   "metadata": {
    "collapsed": true
   },
   "outputs": [],
   "source": [
    "#fun fact: df3[['A']] returns a dataframe (since we technically passed it a list)"
   ]
  },
  {
   "cell_type": "code",
   "execution_count": null,
   "metadata": {
    "collapsed": false
   },
   "outputs": [],
   "source": [
    "#Now what if we want to access the first few rows? Use either iloc or loc\n",
    "df3.iloc[0:3]\n"
   ]
  },
  {
   "cell_type": "code",
   "execution_count": null,
   "metadata": {
    "collapsed": false
   },
   "outputs": [],
   "source": [
    "df3.iloc[0:3]"
   ]
  },
  {
   "cell_type": "code",
   "execution_count": null,
   "metadata": {
    "collapsed": false
   },
   "outputs": [],
   "source": [
    "df3.iloc[0:3, 1:3]"
   ]
  },
  {
   "cell_type": "code",
   "execution_count": null,
   "metadata": {
    "collapsed": false
   },
   "outputs": [],
   "source": [
    "# what if we want to select by indexes?\n",
    "df3.loc['2013-01-02':'2013-01-03']"
   ]
  },
  {
   "cell_type": "code",
   "execution_count": 5,
   "metadata": {
    "collapsed": false
   },
   "outputs": [
    {
     "ename": "NameError",
     "evalue": "name 'df3' is not defined",
     "output_type": "error",
     "traceback": [
      "\u001b[0;31m---------------------------------------------------------------------------\u001b[0m",
      "\u001b[0;31mNameError\u001b[0m                                 Traceback (most recent call last)",
      "\u001b[0;32m<ipython-input-5-30fc87259f95>\u001b[0m in \u001b[0;36m<module>\u001b[0;34m()\u001b[0m\n\u001b[1;32m      1\u001b[0m \u001b[0;31m#what if we want to select B - D?\u001b[0m\u001b[0;34m\u001b[0m\u001b[0;34m\u001b[0m\u001b[0m\n\u001b[0;32m----> 2\u001b[0;31m \u001b[0mdf3\u001b[0m\u001b[0;34m.\u001b[0m\u001b[0mloc\u001b[0m\u001b[0;34m[\u001b[0m\u001b[0;34m'2013-01-02'\u001b[0m\u001b[0;34m:\u001b[0m\u001b[0;34m'2013-01-03'\u001b[0m\u001b[0;34m,\u001b[0m \u001b[0;34m'B'\u001b[0m\u001b[0;34m:\u001b[0m\u001b[0;34m'D'\u001b[0m\u001b[0;34m]\u001b[0m\u001b[0;34m\u001b[0m\u001b[0m\n\u001b[0m",
      "\u001b[0;31mNameError\u001b[0m: name 'df3' is not defined"
     ]
    }
   ],
   "source": [
    "#what if we want to select B - D?\n",
    "df3.loc['2013-01-02':'2013-01-03', 'B':'D']"
   ]
  },
  {
   "cell_type": "markdown",
   "metadata": {},
   "source": [
    "## Groupbys"
   ]
  },
  {
   "cell_type": "markdown",
   "metadata": {},
   "source": [
    "###### Which month has, on average, the greatest daily price change in the last year?"
   ]
  },
  {
   "cell_type": "code",
   "execution_count": 10,
   "metadata": {
    "collapsed": false
   },
   "outputs": [
    {
     "data": {
      "text/html": [
       "<div>\n",
       "<table border=\"1\" class=\"dataframe\">\n",
       "  <thead>\n",
       "    <tr style=\"text-align: right;\">\n",
       "      <th></th>\n",
       "      <th>AAPL</th>\n",
       "      <th>GOOG</th>\n",
       "      <th>MSFT</th>\n",
       "      <th>TSLA</th>\n",
       "    </tr>\n",
       "    <tr>\n",
       "      <th>Date</th>\n",
       "      <th></th>\n",
       "      <th></th>\n",
       "      <th></th>\n",
       "      <th></th>\n",
       "    </tr>\n",
       "  </thead>\n",
       "  <tbody>\n",
       "    <tr>\n",
       "      <th>2015-11-17</th>\n",
       "      <td>-0.004291</td>\n",
       "      <td>-0.005021</td>\n",
       "      <td>-0.008238</td>\n",
       "      <td>-0.001446</td>\n",
       "    </tr>\n",
       "    <tr>\n",
       "      <th>2015-11-18</th>\n",
       "      <td>0.031665</td>\n",
       "      <td>0.020267</td>\n",
       "      <td>0.016613</td>\n",
       "      <td>0.033037</td>\n",
       "    </tr>\n",
       "    <tr>\n",
       "      <th>2015-11-19</th>\n",
       "      <td>0.012704</td>\n",
       "      <td>-0.002149</td>\n",
       "      <td>0.001671</td>\n",
       "      <td>0.003302</td>\n",
       "    </tr>\n",
       "    <tr>\n",
       "      <th>2015-11-20</th>\n",
       "      <td>0.004378</td>\n",
       "      <td>0.024634</td>\n",
       "      <td>0.004635</td>\n",
       "      <td>-0.008070</td>\n",
       "    </tr>\n",
       "    <tr>\n",
       "      <th>2015-11-23</th>\n",
       "      <td>-0.012992</td>\n",
       "      <td>-0.000819</td>\n",
       "      <td>0.000000</td>\n",
       "      <td>-0.010272</td>\n",
       "    </tr>\n",
       "  </tbody>\n",
       "</table>\n",
       "</div>"
      ],
      "text/plain": [
       "                AAPL      GOOG      MSFT      TSLA\n",
       "Date                                              \n",
       "2015-11-17 -0.004291 -0.005021 -0.008238 -0.001446\n",
       "2015-11-18  0.031665  0.020267  0.016613  0.033037\n",
       "2015-11-19  0.012704 -0.002149  0.001671  0.003302\n",
       "2015-11-20  0.004378  0.024634  0.004635 -0.008070\n",
       "2015-11-23 -0.012992 -0.000819  0.000000 -0.010272"
      ]
     },
     "execution_count": 10,
     "metadata": {},
     "output_type": "execute_result"
    }
   ],
   "source": [
    "returns.tail()"
   ]
  },
  {
   "cell_type": "code",
   "execution_count": 13,
   "metadata": {
    "collapsed": false
   },
   "outputs": [],
   "source": [
    "returns_year = returns.loc['20141101':'20151031',:]"
   ]
  },
  {
   "cell_type": "code",
   "execution_count": 16,
   "metadata": {
    "collapsed": false
   },
   "outputs": [
    {
     "data": {
      "text/html": [
       "<div>\n",
       "<table border=\"1\" class=\"dataframe\">\n",
       "  <thead>\n",
       "    <tr style=\"text-align: right;\">\n",
       "      <th></th>\n",
       "      <th>AAPL</th>\n",
       "      <th>GOOG</th>\n",
       "      <th>MSFT</th>\n",
       "      <th>TSLA</th>\n",
       "    </tr>\n",
       "    <tr>\n",
       "      <th>Date</th>\n",
       "      <th></th>\n",
       "      <th></th>\n",
       "      <th></th>\n",
       "      <th></th>\n",
       "    </tr>\n",
       "  </thead>\n",
       "  <tbody>\n",
       "    <tr>\n",
       "      <th>2014-11-03</th>\n",
       "      <td>0.012963</td>\n",
       "      <td>-0.006904</td>\n",
       "      <td>0.010437</td>\n",
       "      <td>0.003682</td>\n",
       "    </tr>\n",
       "    <tr>\n",
       "      <th>2014-11-04</th>\n",
       "      <td>-0.007313</td>\n",
       "      <td>-0.001999</td>\n",
       "      <td>0.002740</td>\n",
       "      <td>-0.015087</td>\n",
       "    </tr>\n",
       "    <tr>\n",
       "      <th>2014-11-05</th>\n",
       "      <td>0.002394</td>\n",
       "      <td>-0.014781</td>\n",
       "      <td>0.006096</td>\n",
       "      <td>-0.033315</td>\n",
       "    </tr>\n",
       "    <tr>\n",
       "      <th>2014-11-06</th>\n",
       "      <td>0.002860</td>\n",
       "      <td>-0.007107</td>\n",
       "      <td>0.017551</td>\n",
       "      <td>0.044378</td>\n",
       "    </tr>\n",
       "    <tr>\n",
       "      <th>2014-11-07</th>\n",
       "      <td>0.002852</td>\n",
       "      <td>-0.001900</td>\n",
       "      <td>-0.000411</td>\n",
       "      <td>-0.004229</td>\n",
       "    </tr>\n",
       "  </tbody>\n",
       "</table>\n",
       "</div>"
      ],
      "text/plain": [
       "                AAPL      GOOG      MSFT      TSLA\n",
       "Date                                              \n",
       "2014-11-03  0.012963 -0.006904  0.010437  0.003682\n",
       "2014-11-04 -0.007313 -0.001999  0.002740 -0.015087\n",
       "2014-11-05  0.002394 -0.014781  0.006096 -0.033315\n",
       "2014-11-06  0.002860 -0.007107  0.017551  0.044378\n",
       "2014-11-07  0.002852 -0.001900 -0.000411 -0.004229"
      ]
     },
     "execution_count": 16,
     "metadata": {},
     "output_type": "execute_result"
    }
   ],
   "source": [
    "returns_year.head()"
   ]
  },
  {
   "cell_type": "code",
   "execution_count": 35,
   "metadata": {
    "collapsed": false
   },
   "outputs": [],
   "source": [
    "gr = returns_year.groupby(returns_year.index.month)"
   ]
  },
  {
   "cell_type": "code",
   "execution_count": 40,
   "metadata": {
    "collapsed": false
   },
   "outputs": [],
   "source": [
    "# Hit tab to see all the actions you can perform with gr\n",
    "gr."
   ]
  },
  {
   "cell_type": "code",
   "execution_count": 44,
   "metadata": {
    "collapsed": false
   },
   "outputs": [
    {
     "data": {
      "text/html": [
       "<div>\n",
       "<table border=\"1\" class=\"dataframe\">\n",
       "  <thead>\n",
       "    <tr>\n",
       "      <th></th>\n",
       "      <th colspan=\"3\" halign=\"left\">AAPL</th>\n",
       "      <th colspan=\"3\" halign=\"left\">GOOG</th>\n",
       "      <th colspan=\"3\" halign=\"left\">MSFT</th>\n",
       "      <th colspan=\"3\" halign=\"left\">TSLA</th>\n",
       "    </tr>\n",
       "    <tr>\n",
       "      <th></th>\n",
       "      <th>mean</th>\n",
       "      <th>median</th>\n",
       "      <th>std</th>\n",
       "      <th>mean</th>\n",
       "      <th>median</th>\n",
       "      <th>std</th>\n",
       "      <th>mean</th>\n",
       "      <th>median</th>\n",
       "      <th>std</th>\n",
       "      <th>mean</th>\n",
       "      <th>median</th>\n",
       "      <th>std</th>\n",
       "    </tr>\n",
       "  </thead>\n",
       "  <tbody>\n",
       "    <tr>\n",
       "      <th>1</th>\n",
       "      <td>0.003255</td>\n",
       "      <td>0.001067</td>\n",
       "      <td>0.023925</td>\n",
       "      <td>0.000929</td>\n",
       "      <td>-0.000210</td>\n",
       "      <td>0.018628</td>\n",
       "      <td>-0.006599</td>\n",
       "      <td>-0.006778</td>\n",
       "      <td>0.026806</td>\n",
       "      <td>-0.004162</td>\n",
       "      <td>-0.002198</td>\n",
       "      <td>0.022653</td>\n",
       "    </tr>\n",
       "    <tr>\n",
       "      <th>2</th>\n",
       "      <td>0.005144</td>\n",
       "      <td>0.006962</td>\n",
       "      <td>0.012793</td>\n",
       "      <td>0.002358</td>\n",
       "      <td>0.005257</td>\n",
       "      <td>0.010813</td>\n",
       "      <td>0.004728</td>\n",
       "      <td>0.001591</td>\n",
       "      <td>0.008068</td>\n",
       "      <td>0.000203</td>\n",
       "      <td>0.000552</td>\n",
       "      <td>0.023840</td>\n",
       "    </tr>\n",
       "    <tr>\n",
       "      <th>3</th>\n",
       "      <td>-0.001357</td>\n",
       "      <td>-0.001292</td>\n",
       "      <td>0.013795</td>\n",
       "      <td>-0.000780</td>\n",
       "      <td>-0.001585</td>\n",
       "      <td>0.012448</td>\n",
       "      <td>-0.003353</td>\n",
       "      <td>-0.000828</td>\n",
       "      <td>0.012422</td>\n",
       "      <td>-0.003147</td>\n",
       "      <td>-0.006949</td>\n",
       "      <td>0.021811</td>\n",
       "    </tr>\n",
       "    <tr>\n",
       "      <th>4</th>\n",
       "      <td>0.000348</td>\n",
       "      <td>-0.001447</td>\n",
       "      <td>0.012397</td>\n",
       "      <td>-0.000849</td>\n",
       "      <td>-0.001532</td>\n",
       "      <td>0.013517</td>\n",
       "      <td>0.008854</td>\n",
       "      <td>0.001449</td>\n",
       "      <td>0.025081</td>\n",
       "      <td>0.008869</td>\n",
       "      <td>0.000739</td>\n",
       "      <td>0.023204</td>\n",
       "    </tr>\n",
       "    <tr>\n",
       "      <th>5</th>\n",
       "      <td>0.002312</td>\n",
       "      <td>-0.000499</td>\n",
       "      <td>0.013944</td>\n",
       "      <td>-0.000435</td>\n",
       "      <td>0.000512</td>\n",
       "      <td>0.010691</td>\n",
       "      <td>-0.001461</td>\n",
       "      <td>-0.003362</td>\n",
       "      <td>0.012823</td>\n",
       "      <td>0.005269</td>\n",
       "      <td>0.001847</td>\n",
       "      <td>0.011319</td>\n",
       "    </tr>\n",
       "    <tr>\n",
       "      <th>6</th>\n",
       "      <td>-0.001699</td>\n",
       "      <td>-0.002662</td>\n",
       "      <td>0.007134</td>\n",
       "      <td>-0.000967</td>\n",
       "      <td>-0.001101</td>\n",
       "      <td>0.008462</td>\n",
       "      <td>-0.002661</td>\n",
       "      <td>-0.004852</td>\n",
       "      <td>0.009569</td>\n",
       "      <td>0.003170</td>\n",
       "      <td>0.000618</td>\n",
       "      <td>0.014935</td>\n",
       "    </tr>\n",
       "    <tr>\n",
       "      <th>7</th>\n",
       "      <td>-0.001403</td>\n",
       "      <td>-0.001862</td>\n",
       "      <td>0.015633</td>\n",
       "      <td>0.009019</td>\n",
       "      <td>0.001867</td>\n",
       "      <td>0.037616</td>\n",
       "      <td>0.002629</td>\n",
       "      <td>0.001889</td>\n",
       "      <td>0.012318</td>\n",
       "      <td>0.000003</td>\n",
       "      <td>0.003721</td>\n",
       "      <td>0.027386</td>\n",
       "    </tr>\n",
       "    <tr>\n",
       "      <th>8</th>\n",
       "      <td>-0.002894</td>\n",
       "      <td>0.002176</td>\n",
       "      <td>0.027477</td>\n",
       "      <td>-0.000219</td>\n",
       "      <td>-0.002471</td>\n",
       "      <td>0.027094</td>\n",
       "      <td>-0.002782</td>\n",
       "      <td>0.000841</td>\n",
       "      <td>0.023279</td>\n",
       "      <td>-0.002476</td>\n",
       "      <td>0.002639</td>\n",
       "      <td>0.037612</td>\n",
       "    </tr>\n",
       "    <tr>\n",
       "      <th>9</th>\n",
       "      <td>-0.000842</td>\n",
       "      <td>0.001118</td>\n",
       "      <td>0.020889</td>\n",
       "      <td>-0.000616</td>\n",
       "      <td>0.000134</td>\n",
       "      <td>0.017565</td>\n",
       "      <td>0.000954</td>\n",
       "      <td>0.000912</td>\n",
       "      <td>0.017814</td>\n",
       "      <td>0.000058</td>\n",
       "      <td>0.000460</td>\n",
       "      <td>0.019636</td>\n",
       "    </tr>\n",
       "    <tr>\n",
       "      <th>10</th>\n",
       "      <td>0.003774</td>\n",
       "      <td>0.002663</td>\n",
       "      <td>0.016267</td>\n",
       "      <td>0.007268</td>\n",
       "      <td>0.005729</td>\n",
       "      <td>0.019327</td>\n",
       "      <td>0.008168</td>\n",
       "      <td>0.002862</td>\n",
       "      <td>0.023702</td>\n",
       "      <td>-0.007973</td>\n",
       "      <td>-0.011616</td>\n",
       "      <td>0.024747</td>\n",
       "    </tr>\n",
       "    <tr>\n",
       "      <th>11</th>\n",
       "      <td>0.005350</td>\n",
       "      <td>0.002860</td>\n",
       "      <td>0.008491</td>\n",
       "      <td>-0.001627</td>\n",
       "      <td>-0.001900</td>\n",
       "      <td>0.006633</td>\n",
       "      <td>0.001323</td>\n",
       "      <td>-0.000409</td>\n",
       "      <td>0.008681</td>\n",
       "      <td>0.000845</td>\n",
       "      <td>0.003682</td>\n",
       "      <td>0.022254</td>\n",
       "    </tr>\n",
       "    <tr>\n",
       "      <th>12</th>\n",
       "      <td>-0.003265</td>\n",
       "      <td>-0.004033</td>\n",
       "      <td>0.015878</td>\n",
       "      <td>-0.001218</td>\n",
       "      <td>0.000038</td>\n",
       "      <td>0.014043</td>\n",
       "      <td>-0.001211</td>\n",
       "      <td>-0.005032</td>\n",
       "      <td>0.014530</td>\n",
       "      <td>-0.003989</td>\n",
       "      <td>-0.005949</td>\n",
       "      <td>0.025535</td>\n",
       "    </tr>\n",
       "  </tbody>\n",
       "</table>\n",
       "</div>"
      ],
      "text/plain": [
       "        AAPL                          GOOG                          MSFT  \\\n",
       "        mean    median       std      mean    median       std      mean   \n",
       "1   0.003255  0.001067  0.023925  0.000929 -0.000210  0.018628 -0.006599   \n",
       "2   0.005144  0.006962  0.012793  0.002358  0.005257  0.010813  0.004728   \n",
       "3  -0.001357 -0.001292  0.013795 -0.000780 -0.001585  0.012448 -0.003353   \n",
       "4   0.000348 -0.001447  0.012397 -0.000849 -0.001532  0.013517  0.008854   \n",
       "5   0.002312 -0.000499  0.013944 -0.000435  0.000512  0.010691 -0.001461   \n",
       "6  -0.001699 -0.002662  0.007134 -0.000967 -0.001101  0.008462 -0.002661   \n",
       "7  -0.001403 -0.001862  0.015633  0.009019  0.001867  0.037616  0.002629   \n",
       "8  -0.002894  0.002176  0.027477 -0.000219 -0.002471  0.027094 -0.002782   \n",
       "9  -0.000842  0.001118  0.020889 -0.000616  0.000134  0.017565  0.000954   \n",
       "10  0.003774  0.002663  0.016267  0.007268  0.005729  0.019327  0.008168   \n",
       "11  0.005350  0.002860  0.008491 -0.001627 -0.001900  0.006633  0.001323   \n",
       "12 -0.003265 -0.004033  0.015878 -0.001218  0.000038  0.014043 -0.001211   \n",
       "\n",
       "                            TSLA                      \n",
       "      median       std      mean    median       std  \n",
       "1  -0.006778  0.026806 -0.004162 -0.002198  0.022653  \n",
       "2   0.001591  0.008068  0.000203  0.000552  0.023840  \n",
       "3  -0.000828  0.012422 -0.003147 -0.006949  0.021811  \n",
       "4   0.001449  0.025081  0.008869  0.000739  0.023204  \n",
       "5  -0.003362  0.012823  0.005269  0.001847  0.011319  \n",
       "6  -0.004852  0.009569  0.003170  0.000618  0.014935  \n",
       "7   0.001889  0.012318  0.000003  0.003721  0.027386  \n",
       "8   0.000841  0.023279 -0.002476  0.002639  0.037612  \n",
       "9   0.000912  0.017814  0.000058  0.000460  0.019636  \n",
       "10  0.002862  0.023702 -0.007973 -0.011616  0.024747  \n",
       "11 -0.000409  0.008681  0.000845  0.003682  0.022254  \n",
       "12 -0.005032  0.014530 -0.003989 -0.005949  0.025535  "
      ]
     },
     "execution_count": 44,
     "metadata": {},
     "output_type": "execute_result"
    }
   ],
   "source": [
    "gr.agg(['mean', 'median', 'std'])"
   ]
  },
  {
   "cell_type": "markdown",
   "metadata": {},
   "source": [
    "## Let's plot the results"
   ]
  },
  {
   "cell_type": "code",
   "execution_count": 9,
   "metadata": {
    "collapsed": false
   },
   "outputs": [],
   "source": [
    "\n",
    "import seaborn as sns\n"
   ]
  },
  {
   "cell_type": "code",
   "execution_count": 25,
   "metadata": {
    "collapsed": false
   },
   "outputs": [
    {
     "data": {
      "text/plain": [
       "<matplotlib.axes._subplots.AxesSubplot at 0x110e54990>"
      ]
     },
     "execution_count": 25,
     "metadata": {},
     "output_type": "execute_result"
    },
    {
     "data": {
      "image/png": "[encoded data removed]",
      "text/plain": [
       "<matplotlib.figure.Figure at 0x110e1e7d0>"
      ]
     },
     "metadata": {},
     "output_type": "display_data"
    }
   ],
   "source": [
    "volume.plot(x=volume.index)"
   ]
  },
  {
   "cell_type": "code",
   "execution_count": 34,
   "metadata": {
    "collapsed": false
   },
   "outputs": [
    {
     "data": {
      "text/plain": [
       "<matplotlib.axes._subplots.AxesSubplot at 0x1119c5290>"
      ]
     },
     "execution_count": 34,
     "metadata": {},
     "output_type": "execute_result"
    },
    {
     "data": {
      "image/png": "[encoded data removed]",
      "text/plain": [
       "<matplotlib.figure.Figure at 0x1119d6f50>"
      ]
     },
     "metadata": {},
     "output_type": "display_data"
    }
   ],
   "source": [
    "price.AAPL.plot.box()"
   ]
  },
  {
   "cell_type": "code",
   "execution_count": 35,
   "metadata": {
    "collapsed": false
   },
   "outputs": [
    {
     "data": {
      "text/plain": [
       "<matplotlib.axes._subplots.AxesSubplot at 0x1117a2cd0>"
      ]
     },
     "execution_count": 35,
     "metadata": {},
     "output_type": "execute_result"
    },
    {
     "data": {
      "image/png": "[encoded data removed]",
      "text/plain": [
       "<matplotlib.figure.Figure at 0x1117a2c10>"
      ]
     },
     "metadata": {},
     "output_type": "display_data"
    }
   ],
   "source": [
    "sns.boxplot(volume)"
   ]
  },
  {
   "cell_type": "code",
   "execution_count": null,
   "metadata": {
    "collapsed": true
   },
   "outputs": [],
   "source": []
  }
 ],
 "metadata": {
  "kernelspec": {
   "display_name": "Python 2",
   "language": "python",
   "name": "python2"
  },
  "language_info": {
   "codemirror_mode": {
    "name": "ipython",
    "version": 2
   },
   "file_extension": ".py",
   "mimetype": "text/x-python",
   "name": "python",
   "nbconvert_exporter": "python",
   "pygments_lexer": "ipython2",
   "version": "2.7.10"
  }
 },
 "nbformat": 4,
 "nbformat_minor": 0
}
