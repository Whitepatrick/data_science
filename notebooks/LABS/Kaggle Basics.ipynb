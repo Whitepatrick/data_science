{
 "cells": [
  {
   "cell_type": "code",
   "execution_count": 9,
   "metadata": {
    "collapsed": true
   },
   "outputs": [],
   "source": [
    "import pandas as pd"
   ]
  },
  {
   "cell_type": "markdown",
   "metadata": {},
   "source": [
    "# Step 1: Read in the files"
   ]
  },
  {
   "cell_type": "code",
   "execution_count": 10,
   "metadata": {
    "collapsed": true
   },
   "outputs": [],
   "source": [
    "train = pd.read_csv('../../data/stack_overflow_train.csv')\n",
    "test = pd.read_csv('../../data/stack_overflow_test.csv')"
   ]
  },
  {
   "cell_type": "code",
   "execution_count": 11,
   "metadata": {
    "collapsed": false
   },
   "outputs": [],
   "source": [
    "X_train = train.drop('Closed',axis=1)\n",
    "y_train = train.Closed\n",
    "X_test = test"
   ]
  },
  {
   "cell_type": "markdown",
   "metadata": {
    "collapsed": true
   },
   "source": [
    "Notice that train has the true value \"Closed\", but test does not"
   ]
  },
  {
   "cell_type": "code",
   "execution_count": 12,
   "metadata": {
    "collapsed": false
   },
   "outputs": [
    {
     "data": {
      "text/html": [
       "<div>\n",
       "<table border=\"1\" class=\"dataframe\">\n",
       "  <thead>\n",
       "    <tr style=\"text-align: right;\">\n",
       "      <th></th>\n",
       "      <th>PostId</th>\n",
       "      <th>PostCreationDate</th>\n",
       "      <th>OwnerUserId</th>\n",
       "      <th>OwnerCreationDate</th>\n",
       "      <th>ReputationAtPostCreation</th>\n",
       "      <th>OwnerUndeletedAnswerCountAtPostTime</th>\n",
       "      <th>Title</th>\n",
       "      <th>BodyMarkdown</th>\n",
       "      <th>Tag1</th>\n",
       "      <th>Tag2</th>\n",
       "      <th>Tag3</th>\n",
       "      <th>Tag4</th>\n",
       "      <th>Tag5</th>\n",
       "      <th>Closed</th>\n",
       "    </tr>\n",
       "  </thead>\n",
       "  <tbody>\n",
       "    <tr>\n",
       "      <th>0</th>\n",
       "      <td>11161665</td>\n",
       "      <td>06/22/2012 17:58:20</td>\n",
       "      <td>1475562</td>\n",
       "      <td>06/22/2012 17:41:50</td>\n",
       "      <td>1</td>\n",
       "      <td>0</td>\n",
       "      <td>Java db driven app deployment</td>\n",
       "      <td>im creating a database driven application and ...</td>\n",
       "      <td>java</td>\n",
       "      <td>NaN</td>\n",
       "      <td>NaN</td>\n",
       "      <td>NaN</td>\n",
       "      <td>NaN</td>\n",
       "      <td>1</td>\n",
       "    </tr>\n",
       "    <tr>\n",
       "      <th>1</th>\n",
       "      <td>3580635</td>\n",
       "      <td>08/27/2010 01:02:13</td>\n",
       "      <td>226376</td>\n",
       "      <td>12/07/2009 13:46:52</td>\n",
       "      <td>284</td>\n",
       "      <td>13</td>\n",
       "      <td>Can you open a JPEG, add text, and resave as a...</td>\n",
       "      <td>I want to write a small program in .NET 4.0 th...</td>\n",
       "      <td>c#</td>\n",
       "      <td>.net</td>\n",
       "      <td>image</td>\n",
       "      <td>image-manipulation</td>\n",
       "      <td>NaN</td>\n",
       "      <td>0</td>\n",
       "    </tr>\n",
       "    <tr>\n",
       "      <th>2</th>\n",
       "      <td>7713111</td>\n",
       "      <td>10/10/2011 12:58:29</td>\n",
       "      <td>983682</td>\n",
       "      <td>10/07/2011 09:07:32</td>\n",
       "      <td>1</td>\n",
       "      <td>0</td>\n",
       "      <td>System.NullReferenceException: Object referenc...</td>\n",
       "      <td>StrState = OptState.SelectedItem.Text\\r\\n\\r\\n\\...</td>\n",
       "      <td>asp.net</td>\n",
       "      <td>NaN</td>\n",
       "      <td>NaN</td>\n",
       "      <td>NaN</td>\n",
       "      <td>NaN</td>\n",
       "      <td>1</td>\n",
       "    </tr>\n",
       "    <tr>\n",
       "      <th>3</th>\n",
       "      <td>4987897</td>\n",
       "      <td>02/14/2011 00:28:58</td>\n",
       "      <td>566535</td>\n",
       "      <td>01/07/2011 06:58:33</td>\n",
       "      <td>1</td>\n",
       "      <td>0</td>\n",
       "      <td>iPhone App. Rejected for requesting passcode</td>\n",
       "      <td>Hi I have been trying to submit an app to App ...</td>\n",
       "      <td>iphone</td>\n",
       "      <td>appstore-approval-process</td>\n",
       "      <td>NaN</td>\n",
       "      <td>NaN</td>\n",
       "      <td>NaN</td>\n",
       "      <td>1</td>\n",
       "    </tr>\n",
       "    <tr>\n",
       "      <th>4</th>\n",
       "      <td>3128362</td>\n",
       "      <td>06/27/2010 18:25:30</td>\n",
       "      <td>38522</td>\n",
       "      <td>11/18/2008 10:18:37</td>\n",
       "      <td>2378</td>\n",
       "      <td>54</td>\n",
       "      <td>How does Apple Inc organize development teams?</td>\n",
       "      <td>Apple computer has recently had a prodigious o...</td>\n",
       "      <td>process</td>\n",
       "      <td>teams</td>\n",
       "      <td>NaN</td>\n",
       "      <td>NaN</td>\n",
       "      <td>NaN</td>\n",
       "      <td>1</td>\n",
       "    </tr>\n",
       "  </tbody>\n",
       "</table>\n",
       "</div>"
      ],
      "text/plain": [
       "     PostId     PostCreationDate  OwnerUserId    OwnerCreationDate  \\\n",
       "0  11161665  06/22/2012 17:58:20      1475562  06/22/2012 17:41:50   \n",
       "1   3580635  08/27/2010 01:02:13       226376  12/07/2009 13:46:52   \n",
       "2   7713111  10/10/2011 12:58:29       983682  10/07/2011 09:07:32   \n",
       "3   4987897  02/14/2011 00:28:58       566535  01/07/2011 06:58:33   \n",
       "4   3128362  06/27/2010 18:25:30        38522  11/18/2008 10:18:37   \n",
       "\n",
       "   ReputationAtPostCreation  OwnerUndeletedAnswerCountAtPostTime  \\\n",
       "0                         1                                    0   \n",
       "1                       284                                   13   \n",
       "2                         1                                    0   \n",
       "3                         1                                    0   \n",
       "4                      2378                                   54   \n",
       "\n",
       "                                               Title  \\\n",
       "0                      Java db driven app deployment   \n",
       "1  Can you open a JPEG, add text, and resave as a...   \n",
       "2  System.NullReferenceException: Object referenc...   \n",
       "3       iPhone App. Rejected for requesting passcode   \n",
       "4     How does Apple Inc organize development teams?   \n",
       "\n",
       "                                        BodyMarkdown     Tag1  \\\n",
       "0  im creating a database driven application and ...     java   \n",
       "1  I want to write a small program in .NET 4.0 th...       c#   \n",
       "2  StrState = OptState.SelectedItem.Text\\r\\n\\r\\n\\...  asp.net   \n",
       "3  Hi I have been trying to submit an app to App ...   iphone   \n",
       "4  Apple computer has recently had a prodigious o...  process   \n",
       "\n",
       "                        Tag2   Tag3                Tag4 Tag5  Closed  \n",
       "0                        NaN    NaN                 NaN  NaN       1  \n",
       "1                       .net  image  image-manipulation  NaN       0  \n",
       "2                        NaN    NaN                 NaN  NaN       1  \n",
       "3  appstore-approval-process    NaN                 NaN  NaN       1  \n",
       "4                      teams    NaN                 NaN  NaN       1  "
      ]
     },
     "execution_count": 12,
     "metadata": {},
     "output_type": "execute_result"
    }
   ],
   "source": [
    "train.head(5)"
   ]
  },
  {
   "cell_type": "code",
   "execution_count": 13,
   "metadata": {
    "collapsed": false
   },
   "outputs": [
    {
     "data": {
      "text/html": [
       "<div>\n",
       "<table border=\"1\" class=\"dataframe\">\n",
       "  <thead>\n",
       "    <tr style=\"text-align: right;\">\n",
       "      <th></th>\n",
       "      <th>PostId</th>\n",
       "      <th>PostCreationDate</th>\n",
       "      <th>OwnerUserId</th>\n",
       "      <th>OwnerCreationDate</th>\n",
       "      <th>ReputationAtPostCreation</th>\n",
       "      <th>OwnerUndeletedAnswerCountAtPostTime</th>\n",
       "      <th>Title</th>\n",
       "      <th>BodyMarkdown</th>\n",
       "      <th>Tag1</th>\n",
       "      <th>Tag2</th>\n",
       "      <th>Tag3</th>\n",
       "      <th>Tag4</th>\n",
       "      <th>Tag5</th>\n",
       "    </tr>\n",
       "  </thead>\n",
       "  <tbody>\n",
       "    <tr>\n",
       "      <th>0</th>\n",
       "      <td>5327840</td>\n",
       "      <td>03/16/2011 15:47:55</td>\n",
       "      <td>662803</td>\n",
       "      <td>03/16/2011 15:47:55</td>\n",
       "      <td>1</td>\n",
       "      <td>0</td>\n",
       "      <td>Finding the set of words that can be spelled w...</td>\n",
       "      <td>The problem I'm facing is to create an efficie...</td>\n",
       "      <td>c#</td>\n",
       "      <td>java</td>\n",
       "      <td>c++</td>\n",
       "      <td>regex</td>\n",
       "      <td>real-time</td>\n",
       "    </tr>\n",
       "    <tr>\n",
       "      <th>1</th>\n",
       "      <td>9500959</td>\n",
       "      <td>02/29/2012 14:33:02</td>\n",
       "      <td>645924</td>\n",
       "      <td>11/27/2010 20:01:40</td>\n",
       "      <td>546</td>\n",
       "      <td>3</td>\n",
       "      <td>what is wrong with a relational DB and why wou...</td>\n",
       "      <td>I was looking trough their website and I can't...</td>\n",
       "      <td>mongodb</td>\n",
       "      <td>NaN</td>\n",
       "      <td>NaN</td>\n",
       "      <td>NaN</td>\n",
       "      <td>NaN</td>\n",
       "    </tr>\n",
       "    <tr>\n",
       "      <th>2</th>\n",
       "      <td>73920</td>\n",
       "      <td>09/16/2008 15:59:16</td>\n",
       "      <td>9440</td>\n",
       "      <td>09/15/2008 18:48:45</td>\n",
       "      <td>51</td>\n",
       "      <td>7</td>\n",
       "      <td>Sparkles of productivity</td>\n",
       "      <td>I started logging my productivity a year ago; ...</td>\n",
       "      <td>productivity</td>\n",
       "      <td>NaN</td>\n",
       "      <td>NaN</td>\n",
       "      <td>NaN</td>\n",
       "      <td>NaN</td>\n",
       "    </tr>\n",
       "    <tr>\n",
       "      <th>3</th>\n",
       "      <td>8677695</td>\n",
       "      <td>12/30/2011 08:43:39</td>\n",
       "      <td>525039</td>\n",
       "      <td>11/30/2010 10:53:56</td>\n",
       "      <td>20</td>\n",
       "      <td>1</td>\n",
       "      <td>JSF Component state of &lt;h:selectOneMenu&gt; didnt...</td>\n",
       "      <td>I would like to get my JSF Component Dropdown ...</td>\n",
       "      <td>jsf-2.0</td>\n",
       "      <td>facelets</td>\n",
       "      <td>NaN</td>\n",
       "      <td>NaN</td>\n",
       "      <td>NaN</td>\n",
       "    </tr>\n",
       "    <tr>\n",
       "      <th>4</th>\n",
       "      <td>5801131</td>\n",
       "      <td>04/27/2011 08:11:49</td>\n",
       "      <td>574270</td>\n",
       "      <td>01/13/2011 13:15:32</td>\n",
       "      <td>55</td>\n",
       "      <td>1</td>\n",
       "      <td>one spinner, two arrayadapter</td>\n",
       "      <td>I have 2 spinners. If in spinner1 selected the...</td>\n",
       "      <td>android</td>\n",
       "      <td>spinner</td>\n",
       "      <td>android-arrayadapter</td>\n",
       "      <td>NaN</td>\n",
       "      <td>NaN</td>\n",
       "    </tr>\n",
       "  </tbody>\n",
       "</table>\n",
       "</div>"
      ],
      "text/plain": [
       "    PostId     PostCreationDate  OwnerUserId    OwnerCreationDate  \\\n",
       "0  5327840  03/16/2011 15:47:55       662803  03/16/2011 15:47:55   \n",
       "1  9500959  02/29/2012 14:33:02       645924  11/27/2010 20:01:40   \n",
       "2    73920  09/16/2008 15:59:16         9440  09/15/2008 18:48:45   \n",
       "3  8677695  12/30/2011 08:43:39       525039  11/30/2010 10:53:56   \n",
       "4  5801131  04/27/2011 08:11:49       574270  01/13/2011 13:15:32   \n",
       "\n",
       "   ReputationAtPostCreation  OwnerUndeletedAnswerCountAtPostTime  \\\n",
       "0                         1                                    0   \n",
       "1                       546                                    3   \n",
       "2                        51                                    7   \n",
       "3                        20                                    1   \n",
       "4                        55                                    1   \n",
       "\n",
       "                                               Title  \\\n",
       "0  Finding the set of words that can be spelled w...   \n",
       "1  what is wrong with a relational DB and why wou...   \n",
       "2                           Sparkles of productivity   \n",
       "3  JSF Component state of <h:selectOneMenu> didnt...   \n",
       "4                      one spinner, two arrayadapter   \n",
       "\n",
       "                                        BodyMarkdown          Tag1      Tag2  \\\n",
       "0  The problem I'm facing is to create an efficie...            c#      java   \n",
       "1  I was looking trough their website and I can't...       mongodb       NaN   \n",
       "2  I started logging my productivity a year ago; ...  productivity       NaN   \n",
       "3  I would like to get my JSF Component Dropdown ...       jsf-2.0  facelets   \n",
       "4  I have 2 spinners. If in spinner1 selected the...       android   spinner   \n",
       "\n",
       "                   Tag3   Tag4       Tag5  \n",
       "0                   c++  regex  real-time  \n",
       "1                   NaN    NaN        NaN  \n",
       "2                   NaN    NaN        NaN  \n",
       "3                   NaN    NaN        NaN  \n",
       "4  android-arrayadapter    NaN        NaN  "
      ]
     },
     "execution_count": 13,
     "metadata": {},
     "output_type": "execute_result"
    }
   ],
   "source": [
    "test.head(5)"
   ]
  },
  {
   "cell_type": "markdown",
   "metadata": {
    "collapsed": false
   },
   "source": [
    "# Step 2: Explore the data and then create a model"
   ]
  },
  {
   "cell_type": "code",
   "execution_count": 14,
   "metadata": {
    "collapsed": false
   },
   "outputs": [
    {
     "data": {
      "text/plain": [
       "LogisticRegression(C=1.0, class_weight=None, dual=False, fit_intercept=True,\n",
       "          intercept_scaling=1, max_iter=100, multi_class='ovr',\n",
       "          penalty='l2', random_state=None, solver='liblinear', tol=0.0001,\n",
       "          verbose=0)"
      ]
     },
     "execution_count": 14,
     "metadata": {},
     "output_type": "execute_result"
    }
   ],
   "source": [
    "from sklearn.linear_model import LogisticRegression\n",
    "\n",
    "clf = LogisticRegression()\n",
    "clf.fit(X_train[['ReputationAtPostCreation']], y_train)"
   ]
  },
  {
   "cell_type": "markdown",
   "metadata": {
    "collapsed": false
   },
   "source": [
    "# Step 3: Evaluate the model"
   ]
  },
  {
   "cell_type": "code",
   "execution_count": 15,
   "metadata": {
    "collapsed": true
   },
   "outputs": [],
   "source": [
    "from sklearn.metrics import log_loss, f1_score\n",
    "import numpy as np\n",
    "\n",
    "pred_train = clf.predict_proba(X_train[['ReputationAtPostCreation']])\n",
    "pred_test = clf.predict_proba(X_test[['ReputationAtPostCreation']])\n"
   ]
  },
  {
   "cell_type": "code",
   "execution_count": 16,
   "metadata": {
    "collapsed": false
   },
   "outputs": [
    {
     "name": "stdout",
     "output_type": "stream",
     "text": [
      "0.690680112663\n",
      "0.653315852411\n"
     ]
    }
   ],
   "source": [
    "print log_loss(y_train, pred_train)\n",
    "print f1_score(y_train, np.round(pred_train[:,1]))"
   ]
  },
  {
   "cell_type": "markdown",
   "metadata": {},
   "source": [
    "# Step 4: Submit the model"
   ]
  },
  {
   "cell_type": "code",
   "execution_count": 17,
   "metadata": {
    "collapsed": true
   },
   "outputs": [],
   "source": [
    "# Need to write your results to a csv and then submit to the kaggle site\n",
    "\n",
    "df_submission = pd.DataFrame(data={'PostId': X_test.PostId, 'Closed': pred_test[:,1]})\n",
    "df_submission.to_csv('./submission_sample.csv', index=False)"
   ]
  },
  {
   "cell_type": "code",
   "execution_count": null,
   "metadata": {
    "collapsed": true
   },
   "outputs": [],
   "source": []
  }
 ],
 "metadata": {
  "kernelspec": {
   "display_name": "Python 2",
   "language": "python",
   "name": "python2"
  },
  "language_info": {
   "codemirror_mode": {
    "name": "ipython",
    "version": 2
   },
   "file_extension": ".py",
   "mimetype": "text/x-python",
   "name": "python",
   "nbconvert_exporter": "python",
   "pygments_lexer": "ipython2",
   "version": "2.7.10"
  }
 },
 "nbformat": 4,
 "nbformat_minor": 0
}
