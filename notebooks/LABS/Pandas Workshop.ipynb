{
 "cells": [
  {
   "cell_type": "markdown",
   "metadata": {},
   "source": [
    "###### This workshop is based on this article by five thirty eight: http://fivethirtyeight.com/features/there-are-922-unisex-names-in-america-is-yours-one-of-them/"
   ]
  },
  {
   "cell_type": "markdown",
   "metadata": {},
   "source": [
    "###### Read in the file \"unisex_names_table.csv\" which can be found in data/five_thirty_eight_data/unisex-names/unisex_names_table.csv in this repo. For this exercise, you will need pandas, numpy, and matplotlib. the latter you should import like so:\n",
    "`import matplotlib.pyplot as plt` \n",
    "\n",
    "`%matplotlib inline`\n",
    "\n"
   ]
  },
  {
   "cell_type": "code",
   "execution_count": 2,
   "metadata": {
    "collapsed": false
   },
   "outputs": [],
   "source": [
    "import numpy as np\n",
    "import pandas as pd\n",
    "import matplotlib.pyplot as plt\n",
    "%matplotlib inline"
   ]
  },
  {
   "cell_type": "code",
   "execution_count": 3,
   "metadata": {
    "collapsed": true
   },
   "outputs": [],
   "source": [
    "#file??"
   ]
  },
  {
   "cell_type": "markdown",
   "metadata": {},
   "source": [
    "###### examine the first 10 rows of the data frame with head()"
   ]
  },
  {
   "cell_type": "code",
   "execution_count": 4,
   "metadata": {
    "collapsed": false
   },
   "outputs": [
    {
     "data": {
      "text/html": [
       "<div>\n",
       "<table border=\"1\" class=\"dataframe\">\n",
       "  <thead>\n",
       "    <tr style=\"text-align: right;\">\n",
       "      <th></th>\n",
       "      <th>Unnamed: 0</th>\n",
       "      <th>name</th>\n",
       "      <th>total</th>\n",
       "      <th>male_share</th>\n",
       "      <th>female_share</th>\n",
       "      <th>gap</th>\n",
       "    </tr>\n",
       "  </thead>\n",
       "  <tbody>\n",
       "    <tr>\n",
       "      <th>914</th>\n",
       "      <td>915</td>\n",
       "      <td>Eaden</td>\n",
       "      <td>102.319579</td>\n",
       "      <td>0.572761</td>\n",
       "      <td>0.427239</td>\n",
       "      <td>0.145521</td>\n",
       "    </tr>\n",
       "    <tr>\n",
       "      <th>915</th>\n",
       "      <td>916</td>\n",
       "      <td>Inioluwa</td>\n",
       "      <td>101.384201</td>\n",
       "      <td>0.352729</td>\n",
       "      <td>0.647271</td>\n",
       "      <td>0.294542</td>\n",
       "    </tr>\n",
       "    <tr>\n",
       "      <th>916</th>\n",
       "      <td>917</td>\n",
       "      <td>Gwin</td>\n",
       "      <td>101.243364</td>\n",
       "      <td>0.562137</td>\n",
       "      <td>0.437863</td>\n",
       "      <td>0.124273</td>\n",
       "    </tr>\n",
       "    <tr>\n",
       "      <th>917</th>\n",
       "      <td>918</td>\n",
       "      <td>Yacine</td>\n",
       "      <td>100.230400</td>\n",
       "      <td>0.544599</td>\n",
       "      <td>0.455401</td>\n",
       "      <td>0.089198</td>\n",
       "    </tr>\n",
       "    <tr>\n",
       "      <th>918</th>\n",
       "      <td>919</td>\n",
       "      <td>Aeon</td>\n",
       "      <td>100.211040</td>\n",
       "      <td>0.464835</td>\n",
       "      <td>0.535165</td>\n",
       "      <td>0.070331</td>\n",
       "    </tr>\n",
       "  </tbody>\n",
       "</table>\n",
       "</div>"
      ],
      "text/plain": [
       "     Unnamed: 0      name       total  male_share  female_share       gap\n",
       "914         915     Eaden  102.319579    0.572761      0.427239  0.145521\n",
       "915         916  Inioluwa  101.384201    0.352729      0.647271  0.294542\n",
       "916         917      Gwin  101.243364    0.562137      0.437863  0.124273\n",
       "917         918    Yacine  100.230400    0.544599      0.455401  0.089198\n",
       "918         919      Aeon  100.211040    0.464835      0.535165  0.070331"
      ]
     },
     "execution_count": 4,
     "metadata": {},
     "output_type": "execute_result"
    }
   ],
   "source": [
    "f = pd.read_csv(\"../DAT-NYC-29/data/five_thirty_eight_data/unisex-names/unisex_names_table.csv\")\n",
    "f.tail()"
   ]
  },
  {
   "cell_type": "markdown",
   "metadata": {},
   "source": [
    "###### Drop the column with the name \"Unnamed: 0\""
   ]
  },
  {
   "cell_type": "code",
   "execution_count": 5,
   "metadata": {
    "collapsed": false
   },
   "outputs": [
    {
     "data": {
      "text/html": [
       "<div>\n",
       "<table border=\"1\" class=\"dataframe\">\n",
       "  <thead>\n",
       "    <tr style=\"text-align: right;\">\n",
       "      <th></th>\n",
       "      <th>name</th>\n",
       "      <th>total</th>\n",
       "      <th>male_share</th>\n",
       "      <th>female_share</th>\n",
       "      <th>gap</th>\n",
       "    </tr>\n",
       "  </thead>\n",
       "  <tbody>\n",
       "    <tr>\n",
       "      <th>0</th>\n",
       "      <td>Casey</td>\n",
       "      <td>176544.328149</td>\n",
       "      <td>0.584287</td>\n",
       "      <td>0.415713</td>\n",
       "      <td>0.168573</td>\n",
       "    </tr>\n",
       "    <tr>\n",
       "      <th>1</th>\n",
       "      <td>Riley</td>\n",
       "      <td>154860.665173</td>\n",
       "      <td>0.507639</td>\n",
       "      <td>0.492361</td>\n",
       "      <td>0.015278</td>\n",
       "    </tr>\n",
       "    <tr>\n",
       "      <th>2</th>\n",
       "      <td>Jessie</td>\n",
       "      <td>136381.830656</td>\n",
       "      <td>0.477834</td>\n",
       "      <td>0.522166</td>\n",
       "      <td>0.044331</td>\n",
       "    </tr>\n",
       "    <tr>\n",
       "      <th>3</th>\n",
       "      <td>Jackie</td>\n",
       "      <td>132928.788740</td>\n",
       "      <td>0.421133</td>\n",
       "      <td>0.578867</td>\n",
       "      <td>0.157735</td>\n",
       "    </tr>\n",
       "    <tr>\n",
       "      <th>4</th>\n",
       "      <td>Avery</td>\n",
       "      <td>121797.419516</td>\n",
       "      <td>0.335213</td>\n",
       "      <td>0.664787</td>\n",
       "      <td>0.329574</td>\n",
       "    </tr>\n",
       "  </tbody>\n",
       "</table>\n",
       "</div>"
      ],
      "text/plain": [
       "     name          total  male_share  female_share       gap\n",
       "0   Casey  176544.328149    0.584287      0.415713  0.168573\n",
       "1   Riley  154860.665173    0.507639      0.492361  0.015278\n",
       "2  Jessie  136381.830656    0.477834      0.522166  0.044331\n",
       "3  Jackie  132928.788740    0.421133      0.578867  0.157735\n",
       "4   Avery  121797.419516    0.335213      0.664787  0.329574"
      ]
     },
     "execution_count": 5,
     "metadata": {},
     "output_type": "execute_result"
    }
   ],
   "source": [
    "del f[\"Unnamed: 0\"]\n",
    "f.head()"
   ]
  },
  {
   "cell_type": "markdown",
   "metadata": {},
   "source": [
    "###### Create a new DataFrame containing only the first name and the share of male and female names"
   ]
  },
  {
   "cell_type": "code",
   "execution_count": 6,
   "metadata": {
    "collapsed": false
   },
   "outputs": [
    {
     "data": {
      "text/html": [
       "<div>\n",
       "<table border=\"1\" class=\"dataframe\">\n",
       "  <thead>\n",
       "    <tr style=\"text-align: right;\">\n",
       "      <th></th>\n",
       "      <th>name</th>\n",
       "      <th>male_share</th>\n",
       "      <th>female_share</th>\n",
       "    </tr>\n",
       "  </thead>\n",
       "  <tbody>\n",
       "    <tr>\n",
       "      <th>0</th>\n",
       "      <td>Casey</td>\n",
       "      <td>0.584287</td>\n",
       "      <td>0.415713</td>\n",
       "    </tr>\n",
       "    <tr>\n",
       "      <th>1</th>\n",
       "      <td>Riley</td>\n",
       "      <td>0.507639</td>\n",
       "      <td>0.492361</td>\n",
       "    </tr>\n",
       "    <tr>\n",
       "      <th>2</th>\n",
       "      <td>Jessie</td>\n",
       "      <td>0.477834</td>\n",
       "      <td>0.522166</td>\n",
       "    </tr>\n",
       "    <tr>\n",
       "      <th>3</th>\n",
       "      <td>Jackie</td>\n",
       "      <td>0.421133</td>\n",
       "      <td>0.578867</td>\n",
       "    </tr>\n",
       "    <tr>\n",
       "      <th>4</th>\n",
       "      <td>Avery</td>\n",
       "      <td>0.335213</td>\n",
       "      <td>0.664787</td>\n",
       "    </tr>\n",
       "  </tbody>\n",
       "</table>\n",
       "</div>"
      ],
      "text/plain": [
       "     name  male_share  female_share\n",
       "0   Casey    0.584287      0.415713\n",
       "1   Riley    0.507639      0.492361\n",
       "2  Jessie    0.477834      0.522166\n",
       "3  Jackie    0.421133      0.578867\n",
       "4   Avery    0.335213      0.664787"
      ]
     },
     "execution_count": 6,
     "metadata": {},
     "output_type": "execute_result"
    }
   ],
   "source": [
    "new_f = f[['name', 'male_share', 'female_share']]  \n",
    "new_f.head()"
   ]
  },
  {
   "cell_type": "markdown",
   "metadata": {},
   "source": [
    "###### Set `name` as the index"
   ]
  },
  {
   "cell_type": "code",
   "execution_count": 91,
   "metadata": {
    "collapsed": false
   },
   "outputs": [],
   "source": [
    "df = new_f.set_index('name')"
   ]
  },
  {
   "cell_type": "code",
   "execution_count": 92,
   "metadata": {
    "collapsed": false
   },
   "outputs": [
    {
     "data": {
      "text/html": [
       "<div>\n",
       "<table border=\"1\" class=\"dataframe\">\n",
       "  <thead>\n",
       "    <tr style=\"text-align: right;\">\n",
       "      <th></th>\n",
       "      <th>male_share</th>\n",
       "      <th>female_share</th>\n",
       "    </tr>\n",
       "    <tr>\n",
       "      <th>name</th>\n",
       "      <th></th>\n",
       "      <th></th>\n",
       "    </tr>\n",
       "  </thead>\n",
       "  <tbody>\n",
       "    <tr>\n",
       "      <th>Casey</th>\n",
       "      <td>0.584287</td>\n",
       "      <td>0.415713</td>\n",
       "    </tr>\n",
       "    <tr>\n",
       "      <th>Riley</th>\n",
       "      <td>0.507639</td>\n",
       "      <td>0.492361</td>\n",
       "    </tr>\n",
       "    <tr>\n",
       "      <th>Jessie</th>\n",
       "      <td>0.477834</td>\n",
       "      <td>0.522166</td>\n",
       "    </tr>\n",
       "    <tr>\n",
       "      <th>Jackie</th>\n",
       "      <td>0.421133</td>\n",
       "      <td>0.578867</td>\n",
       "    </tr>\n",
       "    <tr>\n",
       "      <th>Avery</th>\n",
       "      <td>0.335213</td>\n",
       "      <td>0.664787</td>\n",
       "    </tr>\n",
       "  </tbody>\n",
       "</table>\n",
       "</div>"
      ],
      "text/plain": [
       "        male_share  female_share\n",
       "name                            \n",
       "Casey     0.584287      0.415713\n",
       "Riley     0.507639      0.492361\n",
       "Jessie    0.477834      0.522166\n",
       "Jackie    0.421133      0.578867\n",
       "Avery     0.335213      0.664787"
      ]
     },
     "execution_count": 92,
     "metadata": {},
     "output_type": "execute_result"
    }
   ],
   "source": [
    "df.head()"
   ]
  },
  {
   "cell_type": "markdown",
   "metadata": {},
   "source": [
    "###### Is the index unique?"
   ]
  },
  {
   "cell_type": "code",
   "execution_count": 93,
   "metadata": {
    "collapsed": false
   },
   "outputs": [
    {
     "data": {
      "text/plain": [
       "True"
      ]
     },
     "execution_count": 93,
     "metadata": {},
     "output_type": "execute_result"
    }
   ],
   "source": [
    "df.index.is_unique"
   ]
  },
  {
   "cell_type": "code",
   "execution_count": 94,
   "metadata": {
    "collapsed": false
   },
   "outputs": [
    {
     "data": {
      "text/plain": [
       "Int64Index([5, 5, 6, 6, 5, 5, 6, 5, 4, 7,\n",
       "            ...\n",
       "            6, 6, 5, 5, 8, 5, 8, 4, 6, 4],\n",
       "           dtype='int64', name=u'name', length=919)"
      ]
     },
     "execution_count": 94,
     "metadata": {},
     "output_type": "execute_result"
    }
   ],
   "source": [
    "df.index.str.len()"
   ]
  },
  {
   "cell_type": "markdown",
   "metadata": {},
   "source": [
    "###### Create a new column called name_length with the length of the name"
   ]
  },
  {
   "cell_type": "code",
   "execution_count": 95,
   "metadata": {
    "collapsed": false
   },
   "outputs": [
    {
     "data": {
      "text/plain": [
       "Int64Index([5, 5, 6, 6, 5, 5, 6, 5, 4, 7,\n",
       "            ...\n",
       "            6, 6, 5, 5, 8, 5, 8, 4, 6, 4],\n",
       "           dtype='int64', name=u'name', length=919)"
      ]
     },
     "execution_count": 95,
     "metadata": {},
     "output_type": "execute_result"
    }
   ],
   "source": [
    "df.index.str.len()"
   ]
  },
  {
   "cell_type": "code",
   "execution_count": 96,
   "metadata": {
    "collapsed": false
   },
   "outputs": [],
   "source": [
    "#df['name_length'] = df.index.str.len()\n",
    "df['name_length'] = df.index.str.len()"
   ]
  },
  {
   "cell_type": "code",
   "execution_count": 97,
   "metadata": {
    "collapsed": false
   },
   "outputs": [
    {
     "data": {
      "text/html": [
       "<div>\n",
       "<table border=\"1\" class=\"dataframe\">\n",
       "  <thead>\n",
       "    <tr style=\"text-align: right;\">\n",
       "      <th></th>\n",
       "      <th>male_share</th>\n",
       "      <th>female_share</th>\n",
       "      <th>name_length</th>\n",
       "    </tr>\n",
       "    <tr>\n",
       "      <th>name</th>\n",
       "      <th></th>\n",
       "      <th></th>\n",
       "      <th></th>\n",
       "    </tr>\n",
       "  </thead>\n",
       "  <tbody>\n",
       "    <tr>\n",
       "      <th>Casey</th>\n",
       "      <td>0.584287</td>\n",
       "      <td>0.415713</td>\n",
       "      <td>5</td>\n",
       "    </tr>\n",
       "    <tr>\n",
       "      <th>Riley</th>\n",
       "      <td>0.507639</td>\n",
       "      <td>0.492361</td>\n",
       "      <td>5</td>\n",
       "    </tr>\n",
       "    <tr>\n",
       "      <th>Jessie</th>\n",
       "      <td>0.477834</td>\n",
       "      <td>0.522166</td>\n",
       "      <td>6</td>\n",
       "    </tr>\n",
       "    <tr>\n",
       "      <th>Jackie</th>\n",
       "      <td>0.421133</td>\n",
       "      <td>0.578867</td>\n",
       "      <td>6</td>\n",
       "    </tr>\n",
       "    <tr>\n",
       "      <th>Avery</th>\n",
       "      <td>0.335213</td>\n",
       "      <td>0.664787</td>\n",
       "      <td>5</td>\n",
       "    </tr>\n",
       "  </tbody>\n",
       "</table>\n",
       "</div>"
      ],
      "text/plain": [
       "        male_share  female_share  name_length\n",
       "name                                         \n",
       "Casey     0.584287      0.415713            5\n",
       "Riley     0.507639      0.492361            5\n",
       "Jessie    0.477834      0.522166            6\n",
       "Jackie    0.421133      0.578867            6\n",
       "Avery     0.335213      0.664787            5"
      ]
     },
     "execution_count": 97,
     "metadata": {},
     "output_type": "execute_result"
    }
   ],
   "source": [
    "df.head()"
   ]
  },
  {
   "cell_type": "markdown",
   "metadata": {},
   "source": [
    "###### Practicing selecting columns. Select just the \"male_share\" column. Then select both the male_share and the female_share column. Try using the brackets [ ], and loc. Do the results look like a DataFrame? "
   ]
  },
  {
   "cell_type": "code",
   "execution_count": 98,
   "metadata": {
    "collapsed": false
   },
   "outputs": [
    {
     "data": {
      "text/plain": [
       "male_share      0.421133\n",
       "female_share    0.578867\n",
       "name_length     6.000000\n",
       "Name: Jackie, dtype: float64"
      ]
     },
     "execution_count": 98,
     "metadata": {},
     "output_type": "execute_result"
    }
   ],
   "source": [
    "df.loc['Jackie']"
   ]
  },
  {
   "cell_type": "code",
   "execution_count": 99,
   "metadata": {
    "collapsed": false
   },
   "outputs": [
    {
     "data": {
      "text/html": [
       "<div>\n",
       "<table border=\"1\" class=\"dataframe\">\n",
       "  <thead>\n",
       "    <tr style=\"text-align: right;\">\n",
       "      <th></th>\n",
       "      <th>male_share</th>\n",
       "      <th>female_share</th>\n",
       "      <th>name_length</th>\n",
       "    </tr>\n",
       "    <tr>\n",
       "      <th>name</th>\n",
       "      <th></th>\n",
       "      <th></th>\n",
       "      <th></th>\n",
       "    </tr>\n",
       "  </thead>\n",
       "  <tbody>\n",
       "    <tr>\n",
       "      <th>Casey</th>\n",
       "      <td>0.584287</td>\n",
       "      <td>0.415713</td>\n",
       "      <td>5</td>\n",
       "    </tr>\n",
       "    <tr>\n",
       "      <th>Riley</th>\n",
       "      <td>0.507639</td>\n",
       "      <td>0.492361</td>\n",
       "      <td>5</td>\n",
       "    </tr>\n",
       "    <tr>\n",
       "      <th>Jessie</th>\n",
       "      <td>0.477834</td>\n",
       "      <td>0.522166</td>\n",
       "      <td>6</td>\n",
       "    </tr>\n",
       "  </tbody>\n",
       "</table>\n",
       "</div>"
      ],
      "text/plain": [
       "        male_share  female_share  name_length\n",
       "name                                         \n",
       "Casey     0.584287      0.415713            5\n",
       "Riley     0.507639      0.492361            5\n",
       "Jessie    0.477834      0.522166            6"
      ]
     },
     "execution_count": 99,
     "metadata": {},
     "output_type": "execute_result"
    }
   ],
   "source": [
    "df.loc['Casey':'Jessie']"
   ]
  },
  {
   "cell_type": "code",
   "execution_count": 100,
   "metadata": {
    "collapsed": false
   },
   "outputs": [
    {
     "data": {
      "text/html": [
       "<div>\n",
       "<table border=\"1\" class=\"dataframe\">\n",
       "  <thead>\n",
       "    <tr style=\"text-align: right;\">\n",
       "      <th></th>\n",
       "      <th>male_share</th>\n",
       "      <th>female_share</th>\n",
       "    </tr>\n",
       "    <tr>\n",
       "      <th>name</th>\n",
       "      <th></th>\n",
       "      <th></th>\n",
       "    </tr>\n",
       "  </thead>\n",
       "  <tbody>\n",
       "    <tr>\n",
       "      <th>Casey</th>\n",
       "      <td>0.584287</td>\n",
       "      <td>0.415713</td>\n",
       "    </tr>\n",
       "    <tr>\n",
       "      <th>Riley</th>\n",
       "      <td>0.507639</td>\n",
       "      <td>0.492361</td>\n",
       "    </tr>\n",
       "    <tr>\n",
       "      <th>Jessie</th>\n",
       "      <td>0.477834</td>\n",
       "      <td>0.522166</td>\n",
       "    </tr>\n",
       "    <tr>\n",
       "      <th>Jackie</th>\n",
       "      <td>0.421133</td>\n",
       "      <td>0.578867</td>\n",
       "    </tr>\n",
       "    <tr>\n",
       "      <th>Avery</th>\n",
       "      <td>0.335213</td>\n",
       "      <td>0.664787</td>\n",
       "    </tr>\n",
       "  </tbody>\n",
       "</table>\n",
       "</div>"
      ],
      "text/plain": [
       "        male_share  female_share\n",
       "name                            \n",
       "Casey     0.584287      0.415713\n",
       "Riley     0.507639      0.492361\n",
       "Jessie    0.477834      0.522166\n",
       "Jackie    0.421133      0.578867\n",
       "Avery     0.335213      0.664787"
      ]
     },
     "execution_count": 100,
     "metadata": {},
     "output_type": "execute_result"
    }
   ],
   "source": [
    "df[['male_share', 'female_share']].head()"
   ]
  },
  {
   "cell_type": "code",
   "execution_count": 101,
   "metadata": {
    "collapsed": false
   },
   "outputs": [
    {
     "data": {
      "text/html": [
       "<div>\n",
       "<table border=\"1\" class=\"dataframe\">\n",
       "  <thead>\n",
       "    <tr style=\"text-align: right;\">\n",
       "      <th></th>\n",
       "      <th>name</th>\n",
       "      <th>male_share</th>\n",
       "    </tr>\n",
       "  </thead>\n",
       "  <tbody>\n",
       "    <tr>\n",
       "      <th>0</th>\n",
       "      <td>Casey</td>\n",
       "      <td>0.584287</td>\n",
       "    </tr>\n",
       "    <tr>\n",
       "      <th>1</th>\n",
       "      <td>Riley</td>\n",
       "      <td>0.507639</td>\n",
       "    </tr>\n",
       "    <tr>\n",
       "      <th>2</th>\n",
       "      <td>Jessie</td>\n",
       "      <td>0.477834</td>\n",
       "    </tr>\n",
       "    <tr>\n",
       "      <th>3</th>\n",
       "      <td>Jackie</td>\n",
       "      <td>0.421133</td>\n",
       "    </tr>\n",
       "    <tr>\n",
       "      <th>4</th>\n",
       "      <td>Avery</td>\n",
       "      <td>0.335213</td>\n",
       "    </tr>\n",
       "  </tbody>\n",
       "</table>\n",
       "</div>"
      ],
      "text/plain": [
       "     name  male_share\n",
       "0   Casey    0.584287\n",
       "1   Riley    0.507639\n",
       "2  Jessie    0.477834\n",
       "3  Jackie    0.421133\n",
       "4   Avery    0.335213"
      ]
     },
     "execution_count": 101,
     "metadata": {},
     "output_type": "execute_result"
    }
   ],
   "source": [
    "male_share = f[['name', 'male_share']]\n",
    "male_share.head()"
   ]
  },
  {
   "cell_type": "code",
   "execution_count": 102,
   "metadata": {
    "collapsed": false
   },
   "outputs": [
    {
     "data": {
      "text/plain": [
       "name             Casey\n",
       "male_share    0.584287\n",
       "Name: 0, dtype: object"
      ]
     },
     "execution_count": 102,
     "metadata": {},
     "output_type": "execute_result"
    }
   ],
   "source": [
    "male_share.loc[0]"
   ]
  },
  {
   "cell_type": "code",
   "execution_count": 103,
   "metadata": {
    "collapsed": false
   },
   "outputs": [
    {
     "data": {
      "text/html": [
       "<div>\n",
       "<table border=\"1\" class=\"dataframe\">\n",
       "  <thead>\n",
       "    <tr style=\"text-align: right;\">\n",
       "      <th></th>\n",
       "      <th>name</th>\n",
       "      <th>male_share</th>\n",
       "      <th>female_share</th>\n",
       "    </tr>\n",
       "  </thead>\n",
       "  <tbody>\n",
       "    <tr>\n",
       "      <th>0</th>\n",
       "      <td>Casey</td>\n",
       "      <td>0.584287</td>\n",
       "      <td>0.415713</td>\n",
       "    </tr>\n",
       "    <tr>\n",
       "      <th>1</th>\n",
       "      <td>Riley</td>\n",
       "      <td>0.507639</td>\n",
       "      <td>0.492361</td>\n",
       "    </tr>\n",
       "    <tr>\n",
       "      <th>2</th>\n",
       "      <td>Jessie</td>\n",
       "      <td>0.477834</td>\n",
       "      <td>0.522166</td>\n",
       "    </tr>\n",
       "    <tr>\n",
       "      <th>3</th>\n",
       "      <td>Jackie</td>\n",
       "      <td>0.421133</td>\n",
       "      <td>0.578867</td>\n",
       "    </tr>\n",
       "    <tr>\n",
       "      <th>4</th>\n",
       "      <td>Avery</td>\n",
       "      <td>0.335213</td>\n",
       "      <td>0.664787</td>\n",
       "    </tr>\n",
       "  </tbody>\n",
       "</table>\n",
       "</div>"
      ],
      "text/plain": [
       "     name  male_share  female_share\n",
       "0   Casey    0.584287      0.415713\n",
       "1   Riley    0.507639      0.492361\n",
       "2  Jessie    0.477834      0.522166\n",
       "3  Jackie    0.421133      0.578867\n",
       "4   Avery    0.335213      0.664787"
      ]
     },
     "execution_count": 103,
     "metadata": {},
     "output_type": "execute_result"
    }
   ],
   "source": [
    "co_share = f[['name', 'male_share', 'female_share']]\n",
    "co_share.head()"
   ]
  },
  {
   "cell_type": "markdown",
   "metadata": {},
   "source": [
    "###### Can you select the columns `male_share` and `female_share` and only the rows with name `Casey` and `Riley`?"
   ]
  },
  {
   "cell_type": "code",
   "execution_count": 104,
   "metadata": {
    "collapsed": false
   },
   "outputs": [
    {
     "data": {
      "text/html": [
       "<div>\n",
       "<table border=\"1\" class=\"dataframe\">\n",
       "  <thead>\n",
       "    <tr style=\"text-align: right;\">\n",
       "      <th></th>\n",
       "      <th>male_share</th>\n",
       "      <th>female_share</th>\n",
       "      <th>name_length</th>\n",
       "    </tr>\n",
       "    <tr>\n",
       "      <th>name</th>\n",
       "      <th></th>\n",
       "      <th></th>\n",
       "      <th></th>\n",
       "    </tr>\n",
       "  </thead>\n",
       "  <tbody>\n",
       "    <tr>\n",
       "      <th>Casey</th>\n",
       "      <td>0.584287</td>\n",
       "      <td>0.415713</td>\n",
       "      <td>5</td>\n",
       "    </tr>\n",
       "    <tr>\n",
       "      <th>Riley</th>\n",
       "      <td>0.507639</td>\n",
       "      <td>0.492361</td>\n",
       "      <td>5</td>\n",
       "    </tr>\n",
       "    <tr>\n",
       "      <th>Jessie</th>\n",
       "      <td>0.477834</td>\n",
       "      <td>0.522166</td>\n",
       "      <td>6</td>\n",
       "    </tr>\n",
       "    <tr>\n",
       "      <th>Jackie</th>\n",
       "      <td>0.421133</td>\n",
       "      <td>0.578867</td>\n",
       "      <td>6</td>\n",
       "    </tr>\n",
       "    <tr>\n",
       "      <th>Avery</th>\n",
       "      <td>0.335213</td>\n",
       "      <td>0.664787</td>\n",
       "      <td>5</td>\n",
       "    </tr>\n",
       "  </tbody>\n",
       "</table>\n",
       "</div>"
      ],
      "text/plain": [
       "        male_share  female_share  name_length\n",
       "name                                         \n",
       "Casey     0.584287      0.415713            5\n",
       "Riley     0.507639      0.492361            5\n",
       "Jessie    0.477834      0.522166            6\n",
       "Jackie    0.421133      0.578867            6\n",
       "Avery     0.335213      0.664787            5"
      ]
     },
     "execution_count": 104,
     "metadata": {},
     "output_type": "execute_result"
    }
   ],
   "source": [
    "df.head()"
   ]
  },
  {
   "cell_type": "code",
   "execution_count": 105,
   "metadata": {
    "collapsed": false
   },
   "outputs": [
    {
     "data": {
      "text/html": [
       "<div>\n",
       "<table border=\"1\" class=\"dataframe\">\n",
       "  <thead>\n",
       "    <tr style=\"text-align: right;\">\n",
       "      <th></th>\n",
       "      <th>male_share</th>\n",
       "      <th>female_share</th>\n",
       "    </tr>\n",
       "    <tr>\n",
       "      <th>name</th>\n",
       "      <th></th>\n",
       "      <th></th>\n",
       "    </tr>\n",
       "  </thead>\n",
       "  <tbody>\n",
       "    <tr>\n",
       "      <th>Casey</th>\n",
       "      <td>0.584287</td>\n",
       "      <td>0.415713</td>\n",
       "    </tr>\n",
       "    <tr>\n",
       "      <th>Riley</th>\n",
       "      <td>0.507639</td>\n",
       "      <td>0.492361</td>\n",
       "    </tr>\n",
       "  </tbody>\n",
       "</table>\n",
       "</div>"
      ],
      "text/plain": [
       "       male_share  female_share\n",
       "name                           \n",
       "Casey    0.584287      0.415713\n",
       "Riley    0.507639      0.492361"
      ]
     },
     "execution_count": 105,
     "metadata": {},
     "output_type": "execute_result"
    }
   ],
   "source": [
    "df.loc[['Casey','Riley']][['male_share','female_share']]"
   ]
  },
  {
   "cell_type": "markdown",
   "metadata": {},
   "source": [
    "###### Now try selecting all names with a male_share < 40%"
   ]
  },
  {
   "cell_type": "code",
   "execution_count": 106,
   "metadata": {
    "collapsed": false
   },
   "outputs": [
    {
     "data": {
      "text/html": [
       "<div>\n",
       "<table border=\"1\" class=\"dataframe\">\n",
       "  <thead>\n",
       "    <tr style=\"text-align: right;\">\n",
       "      <th></th>\n",
       "      <th>male_share</th>\n",
       "      <th>female_share</th>\n",
       "      <th>name_length</th>\n",
       "    </tr>\n",
       "    <tr>\n",
       "      <th>name</th>\n",
       "      <th></th>\n",
       "      <th></th>\n",
       "      <th></th>\n",
       "    </tr>\n",
       "  </thead>\n",
       "  <tbody>\n",
       "    <tr>\n",
       "      <th>Avery</th>\n",
       "      <td>0.335213</td>\n",
       "      <td>0.664787</td>\n",
       "      <td>5</td>\n",
       "    </tr>\n",
       "    <tr>\n",
       "      <th>Jody</th>\n",
       "      <td>0.352068</td>\n",
       "      <td>0.647932</td>\n",
       "      <td>4</td>\n",
       "    </tr>\n",
       "    <tr>\n",
       "      <th>Kendall</th>\n",
       "      <td>0.372367</td>\n",
       "      <td>0.627633</td>\n",
       "      <td>7</td>\n",
       "    </tr>\n",
       "    <tr>\n",
       "      <th>Payton</th>\n",
       "      <td>0.334358</td>\n",
       "      <td>0.665642</td>\n",
       "      <td>6</td>\n",
       "    </tr>\n",
       "    <tr>\n",
       "      <th>Pat</th>\n",
       "      <td>0.369034</td>\n",
       "      <td>0.630966</td>\n",
       "      <td>3</td>\n",
       "    </tr>\n",
       "  </tbody>\n",
       "</table>\n",
       "</div>"
      ],
      "text/plain": [
       "         male_share  female_share  name_length\n",
       "name                                          \n",
       "Avery      0.335213      0.664787            5\n",
       "Jody       0.352068      0.647932            4\n",
       "Kendall    0.372367      0.627633            7\n",
       "Payton     0.334358      0.665642            6\n",
       "Pat        0.369034      0.630966            3"
      ]
     },
     "execution_count": 106,
     "metadata": {},
     "output_type": "execute_result"
    }
   ],
   "source": [
    "#f.loc[f['name'] == 'Casey']\n",
    "df.loc[df['male_share'] < 0.4].head()"
   ]
  },
  {
   "cell_type": "markdown",
   "metadata": {},
   "source": [
    "###### Create another column, `gender`, which tells if you the name was, on average, a male or female name"
   ]
  },
  {
   "cell_type": "code",
   "execution_count": 127,
   "metadata": {
    "collapsed": false
   },
   "outputs": [
    {
     "data": {
      "text/html": [
       "<div>\n",
       "<table border=\"1\" class=\"dataframe\">\n",
       "  <thead>\n",
       "    <tr style=\"text-align: right;\">\n",
       "      <th></th>\n",
       "      <th>male_share</th>\n",
       "      <th>female_share</th>\n",
       "      <th>name_length</th>\n",
       "      <th>Gender</th>\n",
       "    </tr>\n",
       "    <tr>\n",
       "      <th>name</th>\n",
       "      <th></th>\n",
       "      <th></th>\n",
       "      <th></th>\n",
       "      <th></th>\n",
       "    </tr>\n",
       "  </thead>\n",
       "  <tbody>\n",
       "    <tr>\n",
       "      <th>Casey</th>\n",
       "      <td>0.584287</td>\n",
       "      <td>0.415713</td>\n",
       "      <td>5</td>\n",
       "      <td>Male</td>\n",
       "    </tr>\n",
       "    <tr>\n",
       "      <th>Riley</th>\n",
       "      <td>0.507639</td>\n",
       "      <td>0.492361</td>\n",
       "      <td>5</td>\n",
       "      <td>Female</td>\n",
       "    </tr>\n",
       "    <tr>\n",
       "      <th>Jessie</th>\n",
       "      <td>0.477834</td>\n",
       "      <td>0.522166</td>\n",
       "      <td>6</td>\n",
       "      <td>Female</td>\n",
       "    </tr>\n",
       "    <tr>\n",
       "      <th>Jackie</th>\n",
       "      <td>0.421133</td>\n",
       "      <td>0.578867</td>\n",
       "      <td>6</td>\n",
       "      <td>Female</td>\n",
       "    </tr>\n",
       "    <tr>\n",
       "      <th>Avery</th>\n",
       "      <td>0.335213</td>\n",
       "      <td>0.664787</td>\n",
       "      <td>5</td>\n",
       "      <td>Female</td>\n",
       "    </tr>\n",
       "  </tbody>\n",
       "</table>\n",
       "</div>"
      ],
      "text/plain": [
       "        male_share  female_share  name_length  Gender\n",
       "name                                                 \n",
       "Casey     0.584287      0.415713            5    Male\n",
       "Riley     0.507639      0.492361            5  Female\n",
       "Jessie    0.477834      0.522166            6  Female\n",
       "Jackie    0.421133      0.578867            6  Female\n",
       "Avery     0.335213      0.664787            5  Female"
      ]
     },
     "execution_count": 127,
     "metadata": {},
     "output_type": "execute_result"
    }
   ],
   "source": [
    "df.loc[df['male_share'] > 0.49, 'Gender'] = True\n",
    "df.loc[df['female_share'] > 0.49, 'Gender'] = False\n",
    "df.head()"
   ]
  },
  {
   "cell_type": "markdown",
   "metadata": {},
   "source": [
    "###### What is the mean, mean, std of each column? (hint use .desrcribe()"
   ]
  },
  {
   "cell_type": "code",
   "execution_count": 140,
   "metadata": {
    "collapsed": false
   },
   "outputs": [
    {
     "data": {
      "text/html": [
       "<div>\n",
       "<table border=\"1\" class=\"dataframe\">\n",
       "  <thead>\n",
       "    <tr style=\"text-align: right;\">\n",
       "      <th></th>\n",
       "      <th>male_share</th>\n",
       "      <th>female_share</th>\n",
       "      <th>name_length</th>\n",
       "    </tr>\n",
       "  </thead>\n",
       "  <tbody>\n",
       "    <tr>\n",
       "      <th>count</th>\n",
       "      <td>919.000000</td>\n",
       "      <td>919.000000</td>\n",
       "      <td>919.000000</td>\n",
       "    </tr>\n",
       "    <tr>\n",
       "      <th>mean</th>\n",
       "      <td>0.507206</td>\n",
       "      <td>0.492794</td>\n",
       "      <td>5.620239</td>\n",
       "    </tr>\n",
       "    <tr>\n",
       "      <th>std</th>\n",
       "      <td>0.099423</td>\n",
       "      <td>0.099423</td>\n",
       "      <td>1.413622</td>\n",
       "    </tr>\n",
       "    <tr>\n",
       "      <th>min</th>\n",
       "      <td>0.333561</td>\n",
       "      <td>0.333722</td>\n",
       "      <td>2.000000</td>\n",
       "    </tr>\n",
       "    <tr>\n",
       "      <th>25%</th>\n",
       "      <td>0.418570</td>\n",
       "      <td>0.408107</td>\n",
       "      <td>5.000000</td>\n",
       "    </tr>\n",
       "    <tr>\n",
       "      <th>50%</th>\n",
       "      <td>0.514173</td>\n",
       "      <td>0.485827</td>\n",
       "      <td>6.000000</td>\n",
       "    </tr>\n",
       "    <tr>\n",
       "      <th>75%</th>\n",
       "      <td>0.591893</td>\n",
       "      <td>0.581430</td>\n",
       "      <td>6.000000</td>\n",
       "    </tr>\n",
       "    <tr>\n",
       "      <th>max</th>\n",
       "      <td>0.666278</td>\n",
       "      <td>0.666439</td>\n",
       "      <td>13.000000</td>\n",
       "    </tr>\n",
       "  </tbody>\n",
       "</table>\n",
       "</div>"
      ],
      "text/plain": [
       "       male_share  female_share  name_length\n",
       "count  919.000000    919.000000   919.000000\n",
       "mean     0.507206      0.492794     5.620239\n",
       "std      0.099423      0.099423     1.413622\n",
       "min      0.333561      0.333722     2.000000\n",
       "25%      0.418570      0.408107     5.000000\n",
       "50%      0.514173      0.485827     6.000000\n",
       "75%      0.591893      0.581430     6.000000\n",
       "max      0.666278      0.666439    13.000000"
      ]
     },
     "execution_count": 140,
     "metadata": {},
     "output_type": "execute_result"
    }
   ],
   "source": [
    "df[['male_share', 'female_share', 'name_length']].describe()"
   ]
  },
  {
   "cell_type": "markdown",
   "metadata": {},
   "source": [
    "###### What are the longest and shortest names?"
   ]
  },
  {
   "cell_type": "code",
   "execution_count": 151,
   "metadata": {
    "collapsed": false
   },
   "outputs": [
    {
     "data": {
      "text/html": [
       "<div>\n",
       "<table border=\"1\" class=\"dataframe\">\n",
       "  <thead>\n",
       "    <tr style=\"text-align: right;\">\n",
       "      <th></th>\n",
       "      <th>male_share</th>\n",
       "      <th>female_share</th>\n",
       "      <th>name_length</th>\n",
       "      <th>Gender</th>\n",
       "    </tr>\n",
       "    <tr>\n",
       "      <th>name</th>\n",
       "      <th></th>\n",
       "      <th></th>\n",
       "      <th></th>\n",
       "      <th></th>\n",
       "    </tr>\n",
       "  </thead>\n",
       "  <tbody>\n",
       "    <tr>\n",
       "      <th>Oluwadamilola</th>\n",
       "      <td>0.353751</td>\n",
       "      <td>0.646249</td>\n",
       "      <td>13</td>\n",
       "      <td>Female</td>\n",
       "    </tr>\n",
       "    <tr>\n",
       "      <th>Oluwademilade</th>\n",
       "      <td>0.661305</td>\n",
       "      <td>0.338695</td>\n",
       "      <td>13</td>\n",
       "      <td>Male</td>\n",
       "    </tr>\n",
       "    <tr>\n",
       "      <th>Oluwadarasimi</th>\n",
       "      <td>0.366754</td>\n",
       "      <td>0.633246</td>\n",
       "      <td>13</td>\n",
       "      <td>Female</td>\n",
       "    </tr>\n",
       "  </tbody>\n",
       "</table>\n",
       "</div>"
      ],
      "text/plain": [
       "               male_share  female_share  name_length  Gender\n",
       "name                                                        \n",
       "Oluwadamilola    0.353751      0.646249           13  Female\n",
       "Oluwademilade    0.661305      0.338695           13    Male\n",
       "Oluwadarasimi    0.366754      0.633246           13  Female"
      ]
     },
     "execution_count": 151,
     "metadata": {},
     "output_type": "execute_result"
    }
   ],
   "source": [
    "longst_names = df.loc[df['name_length'] == df['name_length'].max(axis=0)]\n",
    "longst_names"
   ]
  },
  {
   "cell_type": "code",
   "execution_count": 152,
   "metadata": {
    "collapsed": false
   },
   "outputs": [
    {
     "data": {
      "text/html": [
       "<div>\n",
       "<table border=\"1\" class=\"dataframe\">\n",
       "  <thead>\n",
       "    <tr style=\"text-align: right;\">\n",
       "      <th></th>\n",
       "      <th>male_share</th>\n",
       "      <th>female_share</th>\n",
       "      <th>name_length</th>\n",
       "      <th>Gender</th>\n",
       "    </tr>\n",
       "    <tr>\n",
       "      <th>name</th>\n",
       "      <th></th>\n",
       "      <th></th>\n",
       "      <th></th>\n",
       "      <th></th>\n",
       "    </tr>\n",
       "  </thead>\n",
       "  <tbody>\n",
       "    <tr>\n",
       "      <th>An</th>\n",
       "      <td>0.460548</td>\n",
       "      <td>0.539452</td>\n",
       "      <td>2</td>\n",
       "      <td>Female</td>\n",
       "    </tr>\n",
       "    <tr>\n",
       "      <th>Le</th>\n",
       "      <td>0.387720</td>\n",
       "      <td>0.612280</td>\n",
       "      <td>2</td>\n",
       "      <td>Female</td>\n",
       "    </tr>\n",
       "    <tr>\n",
       "      <th>De</th>\n",
       "      <td>0.513364</td>\n",
       "      <td>0.486636</td>\n",
       "      <td>2</td>\n",
       "      <td>Male</td>\n",
       "    </tr>\n",
       "    <tr>\n",
       "      <th>Yu</th>\n",
       "      <td>0.488130</td>\n",
       "      <td>0.511870</td>\n",
       "      <td>2</td>\n",
       "      <td>Female</td>\n",
       "    </tr>\n",
       "    <tr>\n",
       "      <th>Ji</th>\n",
       "      <td>0.386014</td>\n",
       "      <td>0.613986</td>\n",
       "      <td>2</td>\n",
       "      <td>Female</td>\n",
       "    </tr>\n",
       "    <tr>\n",
       "      <th>Ja</th>\n",
       "      <td>0.659898</td>\n",
       "      <td>0.340102</td>\n",
       "      <td>2</td>\n",
       "      <td>Male</td>\n",
       "    </tr>\n",
       "    <tr>\n",
       "      <th>Mc</th>\n",
       "      <td>0.349445</td>\n",
       "      <td>0.650555</td>\n",
       "      <td>2</td>\n",
       "      <td>Female</td>\n",
       "    </tr>\n",
       "    <tr>\n",
       "      <th>Da</th>\n",
       "      <td>0.614631</td>\n",
       "      <td>0.385369</td>\n",
       "      <td>2</td>\n",
       "      <td>Male</td>\n",
       "    </tr>\n",
       "    <tr>\n",
       "      <th>Eh</th>\n",
       "      <td>0.584052</td>\n",
       "      <td>0.415948</td>\n",
       "      <td>2</td>\n",
       "      <td>Male</td>\n",
       "    </tr>\n",
       "    <tr>\n",
       "      <th>Yi</th>\n",
       "      <td>0.564169</td>\n",
       "      <td>0.435831</td>\n",
       "      <td>2</td>\n",
       "      <td>Male</td>\n",
       "    </tr>\n",
       "  </tbody>\n",
       "</table>\n",
       "</div>"
      ],
      "text/plain": [
       "      male_share  female_share  name_length  Gender\n",
       "name                                               \n",
       "An      0.460548      0.539452            2  Female\n",
       "Le      0.387720      0.612280            2  Female\n",
       "De      0.513364      0.486636            2    Male\n",
       "Yu      0.488130      0.511870            2  Female\n",
       "Ji      0.386014      0.613986            2  Female\n",
       "Ja      0.659898      0.340102            2    Male\n",
       "Mc      0.349445      0.650555            2  Female\n",
       "Da      0.614631      0.385369            2    Male\n",
       "Eh      0.584052      0.415948            2    Male\n",
       "Yi      0.564169      0.435831            2    Male"
      ]
     },
     "execution_count": 152,
     "metadata": {},
     "output_type": "execute_result"
    }
   ],
   "source": [
    "shortest_names = df.loc[df['name_length'] == df['name_length'].min(axis=0)]\n",
    "shortest_names"
   ]
  },
  {
   "cell_type": "markdown",
   "metadata": {},
   "source": [
    "###### Do male or female names have longer means and medians?\n",
    "hint: user a groupby here. You may also need numpy. Your ideal result should have 3 columns: gender, mean, and median"
   ]
  },
  {
   "cell_type": "code",
   "execution_count": 166,
   "metadata": {
    "collapsed": false
   },
   "outputs": [
    {
     "data": {
      "text/plain": [
       "Gender\n",
       "Female    5.705357\n",
       "Male      5.539278\n",
       "Name: name_length, dtype: float64"
      ]
     },
     "execution_count": 166,
     "metadata": {},
     "output_type": "execute_result"
    }
   ],
   "source": [
    "df.groupby('Gender')['name_length'].mean()"
   ]
  },
  {
   "cell_type": "code",
   "execution_count": 167,
   "metadata": {
    "collapsed": false
   },
   "outputs": [
    {
     "data": {
      "text/plain": [
       "Gender\n",
       "Female    6\n",
       "Male      6\n",
       "Name: name_length, dtype: int64"
      ]
     },
     "execution_count": 167,
     "metadata": {},
     "output_type": "execute_result"
    }
   ],
   "source": [
    "df.groupby('Gender')['name_length'].median()"
   ]
  },
  {
   "cell_type": "markdown",
   "metadata": {},
   "source": [
    "###### Plot length of name vs male_share. \n",
    "Hint here is how you do it:"
   ]
  },
  {
   "cell_type": "code",
   "execution_count": 171,
   "metadata": {
    "collapsed": false
   },
   "outputs": [
    {
     "data": {
      "text/plain": [
       "<matplotlib.axes._subplots.AxesSubplot at 0x7fadede48190>"
      ]
     },
     "execution_count": 171,
     "metadata": {},
     "output_type": "execute_result"
    },
    {
     "data": {
      "image/png": "[encoded data removed]",
      "text/plain": [
       "<matplotlib.figure.Figure at 0x7fae1140ae50>"
      ]
     },
     "metadata": {},
     "output_type": "display_data"
    }
   ],
   "source": [
    "(df.groupby(df.index.str.len())\n",
    "     .male_share\n",
    "     .mean()\n",
    "     .plot(style='.k',figsize=(12,8)))"
   ]
  },
  {
   "cell_type": "markdown",
   "metadata": {},
   "source": [
    "###### Now import the library seaborn and run that function again. If you don't have seaborn, in your terminal type \"pip install seaborn\". If you don't have pip, type \"sudo easy_install pip\". Cygwin users, if you don't have pip, you need to open up the cygwin setup.exe and add it."
   ]
  },
  {
   "cell_type": "code",
   "execution_count": 170,
   "metadata": {
    "collapsed": false
   },
   "outputs": [
    {
     "name": "stderr",
     "output_type": "stream",
     "text": [
      "/usr/local/lib/python2.7/site-packages/matplotlib/__init__.py:872: UserWarning: axes.color_cycle is deprecated and replaced with axes.prop_cycle; please use the latter.\n",
      "  warnings.warn(self.msg_depr % (key, alt_key))\n"
     ]
    }
   ],
   "source": [
    "import seaborn"
   ]
  },
  {
   "cell_type": "markdown",
   "metadata": {},
   "source": [
    "###### Which first letter has the highest percentage of primarily Female names?\n",
    "Hint: this is difficult. You'll need a groupby, unstack, and will need to access a multi-index."
   ]
  },
  {
   "cell_type": "code",
   "execution_count": null,
   "metadata": {
    "collapsed": false
   },
   "outputs": [],
   "source": []
  },
  {
   "cell_type": "code",
   "execution_count": null,
   "metadata": {
    "collapsed": false
   },
   "outputs": [],
   "source": []
  },
  {
   "cell_type": "code",
   "execution_count": null,
   "metadata": {
    "collapsed": false
   },
   "outputs": [],
   "source": []
  },
  {
   "cell_type": "code",
   "execution_count": null,
   "metadata": {
    "collapsed": false
   },
   "outputs": [],
   "source": []
  },
  {
   "cell_type": "code",
   "execution_count": null,
   "metadata": {
    "collapsed": false
   },
   "outputs": [],
   "source": []
  },
  {
   "cell_type": "code",
   "execution_count": null,
   "metadata": {
    "collapsed": true
   },
   "outputs": [],
   "source": []
  }
 ],
 "metadata": {
  "kernelspec": {
   "display_name": "Python 2",
   "language": "python",
   "name": "python2"
  },
  "language_info": {
   "codemirror_mode": {
    "name": "ipython",
    "version": 2
   },
   "file_extension": ".py",
   "mimetype": "text/x-python",
   "name": "python",
   "nbconvert_exporter": "python",
   "pygments_lexer": "ipython2",
   "version": "2.7.10"
  }
 },
 "nbformat": 4,
 "nbformat_minor": 0
}
