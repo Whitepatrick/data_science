{
 "cells": [
  {
   "cell_type": "markdown",
   "metadata": {},
   "source": [
    "# Statistics Review with numpy"
   ]
  },
  {
   "cell_type": "markdown",
   "metadata": {},
   "source": [
    "### Simulation # 1"
   ]
  },
  {
   "cell_type": "code",
   "execution_count": 42,
   "metadata": {
    "collapsed": true
   },
   "outputs": [],
   "source": [
    "import numpy as np\n",
    "import pandas as pd\n",
    "from scipy import stats\n",
    "%matplotlib inline\n",
    "\n",
    "pd.options.display.max_rows = 10"
   ]
  },
  {
   "cell_type": "markdown",
   "metadata": {},
   "source": [
    "###### Generate 100 random variables with mean = 0 and std = 1. Put them into a dataframe and plot their DENSITY using pandas (remember df.plot.`<tab>` to get the types of plots). Hint: use np.random.`<tab>`"
   ]
  },
  {
   "cell_type": "code",
   "execution_count": 43,
   "metadata": {
    "collapsed": false
   },
   "outputs": [
    {
     "data": {
      "text/plain": [
       "<matplotlib.axes._subplots.AxesSubplot at 0x7f17a4761d10>"
      ]
     },
     "execution_count": 43,
     "metadata": {},
     "output_type": "execute_result"
    },
    {
     "data": {
      "image/png": "[encoded data removed]",
      "text/plain": [
       "<matplotlib.figure.Figure at 0x7f179cab9cd0>"
      ]
     },
     "metadata": {},
     "output_type": "display_data"
    }
   ],
   "source": [
    "df1 = pd.DataFrame(np.random.normal(0, 1, 100))\n",
    "df1.plot.density()"
   ]
  },
  {
   "cell_type": "markdown",
   "metadata": {},
   "source": [
    "###### Generate 100 random variables with mean = .5 and std = 1. Add this series to the previous data frame and plot the distributions of both using pd.plot.`<tab>`"
   ]
  },
  {
   "cell_type": "code",
   "execution_count": 44,
   "metadata": {
    "collapsed": false
   },
   "outputs": [],
   "source": [
    "df2 = pd.DataFrame(np.random.normal(0.5, 1, 100))\n",
    "df3 = df1 + df2"
   ]
  },
  {
   "cell_type": "code",
   "execution_count": 45,
   "metadata": {
    "collapsed": false
   },
   "outputs": [
    {
     "data": {
      "text/plain": [
       "<matplotlib.axes._subplots.AxesSubplot at 0x7f179a8e5a90>"
      ]
     },
     "execution_count": 45,
     "metadata": {},
     "output_type": "execute_result"
    },
    {
     "data": {
      "image/png": "[encoded data removed]",
      "text/plain": [
       "<matplotlib.figure.Figure at 0x7f179cd802d0>"
      ]
     },
     "metadata": {},
     "output_type": "display_data"
    }
   ],
   "source": [
    "df3.plot.density()"
   ]
  },
  {
   "cell_type": "markdown",
   "metadata": {},
   "source": [
    "###### Imagine we didn't know how the data was generated, and we wanted to test to see if d2 is greater than d1. How would we do that? Well, first we could compare means, so do that below:"
   ]
  },
  {
   "cell_type": "code",
   "execution_count": 46,
   "metadata": {
    "collapsed": false
   },
   "outputs": [
    {
     "data": {
      "text/plain": [
       "'df2'"
      ]
     },
     "execution_count": 46,
     "metadata": {},
     "output_type": "execute_result"
    }
   ],
   "source": [
    "\"df1\" if int(df1.mean(0,0)) > int(df2.mean(0,0)) else \"df2\""
   ]
  },
  {
   "cell_type": "markdown",
   "metadata": {},
   "source": [
    "###### Use scipy's stats functions to run a t-test. Did the test find the difference significant? Rerun the data again from the top, what do you get now?"
   ]
  },
  {
   "cell_type": "code",
   "execution_count": 47,
   "metadata": {
    "collapsed": false
   },
   "outputs": [
    {
     "data": {
      "text/plain": [
       "Ttest_indResult(statistic=array([-3.96947116]), pvalue=array([ 0.00010072]))"
      ]
     },
     "execution_count": 47,
     "metadata": {},
     "output_type": "execute_result"
    }
   ],
   "source": [
    "stats.ttest_ind(df1,df2)"
   ]
  },
  {
   "cell_type": "code",
   "execution_count": 48,
   "metadata": {
    "collapsed": false
   },
   "outputs": [
    {
     "data": {
      "text/plain": [
       "0   -0.127342\n",
       "dtype: float64"
      ]
     },
     "execution_count": 48,
     "metadata": {},
     "output_type": "execute_result"
    }
   ],
   "source": [
    "df1.mean()"
   ]
  },
  {
   "cell_type": "markdown",
   "metadata": {},
   "source": [
    "###### Create a function that takes in three parameters: mean_1, mean_2, and size of the array. This function should run a loop 10000 times, and simulate normal random variables with N(mean_1, 1) and N(mean_2, 1) and size=`size`. It should then take the mean of both arrays and compare. The function should return the # of times that the mean of array_1 is bigger than the mean of array_2. "
   ]
  },
  {
   "cell_type": "code",
   "execution_count": 49,
   "metadata": {
    "collapsed": false
   },
   "outputs": [],
   "source": [
    "def max_mean(mean_1, mean_2, arr_len):\n",
    "    count = 0\n",
    "    for i in xrange(10000):\n",
    "        array_1 = np.random.normal(mean_1, 1, arr_len)\n",
    "        array_2 = np.random.normal(mean_2, 1, arr_len)\n",
    "        if array_1.mean() > array_2.mean():\n",
    "            count = count + 1\n",
    "        else:\n",
    "             next\n",
    "    \n",
    "    return float((count / 10000.00) * 100.00)"
   ]
  },
  {
   "cell_type": "code",
   "execution_count": 50,
   "metadata": {
    "collapsed": false,
    "scrolled": true
   },
   "outputs": [
    {
     "name": "stdout",
     "output_type": "stream",
     "text": [
      "Mean of the first array was larger than the second array 50% of the time\n"
     ]
    }
   ],
   "source": [
    "print \"Mean of the first array was larger than the second array %d%% of the time\" % max_mean(1, 1, 10)"
   ]
  },
  {
   "cell_type": "markdown",
   "metadata": {},
   "source": [
    "###### Pass in 0.1 for mean_1 and 0 for mean_2. Start with size = 10. What % of the time did the test find that mean_1 is greater? How does the % of times that the mean of the distribution with mean_1 is greater than that with mean_2 change as the variable size increases? Plot this.\n"
   ]
  },
  {
   "cell_type": "code",
   "execution_count": 51,
   "metadata": {
    "collapsed": false
   },
   "outputs": [
    {
     "name": "stdout",
     "output_type": "stream",
     "text": [
      "Mean of the first array was larger than the second array 58% of the time\n"
     ]
    }
   ],
   "source": [
    "print \"Mean of the first array was larger than the second array %d%% of the time\" % max_mean(0.1, 0, 10)"
   ]
  },
  {
   "cell_type": "markdown",
   "metadata": {},
   "source": [
    "###### Implement the same function as above, but this time use `stats.ttest_ind()` to determine if there is a difference in means. Note: ideally you would want to use a one-sided t-test, (which tests specifically if mean_1 is greater than mean_2. However, we haven't covered this so welcome to use the function above."
   ]
  },
  {
   "cell_type": "code",
   "execution_count": 66,
   "metadata": {
    "collapsed": false
   },
   "outputs": [],
   "source": [
    "def t_mean(mean_1, mean_2, arr_len):\n",
    "    count = 0\n",
    "    for i in xrange(10000):\n",
    "        array_1 = np.random.normal(mean_1, 1, arr_len)\n",
    "        array_2 = np.random.normal(mean_2, 1, arr_len)\n",
    "        p_val = stats.ttest_ind(array_1, array_2)\n",
    "        return p_val"
   ]
  },
  {
   "cell_type": "code",
   "execution_count": 67,
   "metadata": {
    "collapsed": false
   },
   "outputs": [
    {
     "data": {
      "text/plain": [
       "Ttest_indResult(statistic=0.05403212857391454, pvalue=0.95750475276866664)"
      ]
     },
     "execution_count": 67,
     "metadata": {},
     "output_type": "execute_result"
    }
   ],
   "source": [
    "t_mean(0.1, 0, 10)"
   ]
  },
  {
   "cell_type": "markdown",
   "metadata": {},
   "source": [
    "###### How does the accuracy of the test change as you change mean_1 from 0 to 1 by 0.1 (keeping mean_2 at 0)? What about when you change the size? The % of times a test actually finds that there is a difference is called the **power**."
   ]
  },
  {
   "cell_type": "code",
   "execution_count": 65,
   "metadata": {
    "collapsed": false
   },
   "outputs": [
    {
     "data": {
      "text/plain": [
       "Ttest_indResult(statistic=1.0060059578200538, pvalue=0.32774578704085366)"
      ]
     },
     "execution_count": 65,
     "metadata": {},
     "output_type": "execute_result"
    }
   ],
   "source": [
    "t_mean(0, 0, 10)"
   ]
  },
  {
   "cell_type": "markdown",
   "metadata": {},
   "source": [
    "###### What if you pass in equal means (i.e. both 0) for mean_1 and mean_2. What % of the time does the test say there is a difference?"
   ]
  },
  {
   "cell_type": "code",
   "execution_count": 75,
   "metadata": {
    "collapsed": false
   },
   "outputs": [
    {
     "data": {
      "text/plain": [
       "49.97"
      ]
     },
     "execution_count": 75,
     "metadata": {},
     "output_type": "execute_result"
    }
   ],
   "source": [
    "max_mean(0, 0, 10)"
   ]
  },
  {
   "cell_type": "markdown",
   "metadata": {},
   "source": [
    "###### How can you change it so the % of times the test incorrectly determines a difference goes down? Why wouldn't you always want to do this?"
   ]
  },
  {
   "cell_type": "code",
   "execution_count": 76,
   "metadata": {
    "collapsed": false
   },
   "outputs": [
    {
     "name": "stdout",
     "output_type": "stream",
     "text": [
      "You could change the array length to be much smaller\n",
      "doing this creates bias in the test and renders results dubious\n"
     ]
    }
   ],
   "source": [
    "print(\"You could change the array length to be much smaller\")\n",
    "print(\"doing this creates bias in the test and renders results dubious\")"
   ]
  },
  {
   "cell_type": "markdown",
   "metadata": {},
   "source": [
    "### Simulation # 2"
   ]
  },
  {
   "cell_type": "markdown",
   "metadata": {},
   "source": [
    "###### You are A/B testing your signup flow, and you expect the change in your flow to increase your conversion rate from 23% to 26%. How many people should you have in each group in order to have a power of 80% with 95% confidence when testing whether or not there is a difference between group 1 and group 2. \n",
    "\n",
    "Hint: To model this, you need to simulate two arrays of 1s and 0s with those probabilities. Your code should include this line: `np.random.binomial(1, .23, num_people)`"
   ]
  },
  {
   "cell_type": "code",
   "execution_count": null,
   "metadata": {
    "collapsed": false
   },
   "outputs": [],
   "source": []
  }
 ],
 "metadata": {
  "kernelspec": {
   "display_name": "Python 2",
   "language": "python",
   "name": "python2"
  },
  "language_info": {
   "codemirror_mode": {
    "name": "ipython",
    "version": 2
   },
   "file_extension": ".py",
   "mimetype": "text/x-python",
   "name": "python",
   "nbconvert_exporter": "python",
   "pygments_lexer": "ipython2",
   "version": "2.7.10"
  }
 },
 "nbformat": 4,
 "nbformat_minor": 0
}
