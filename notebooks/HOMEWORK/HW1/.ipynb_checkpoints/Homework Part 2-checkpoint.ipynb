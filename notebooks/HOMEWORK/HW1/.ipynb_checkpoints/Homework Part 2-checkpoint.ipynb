{
 "cells": [
  {
   "cell_type": "markdown",
   "metadata": {},
   "source": [
    "###### Create a list called F which is the farhrenheit equivalent of the celsius temperatures below (equation is C*(9/5)+32)"
   ]
  },
  {
   "cell_type": "code",
   "execution_count": 2,
   "metadata": {
    "collapsed": true
   },
   "outputs": [],
   "source": [
    "celsius = [30.0,32.3,40.4,50.8]"
   ]
  },
  {
   "cell_type": "code",
   "execution_count": 12,
   "metadata": {
    "collapsed": false
   },
   "outputs": [
    {
     "name": "stdout",
     "output_type": "stream",
     "text": [
      "[86.0, 90.13999999999999, 104.72, 123.44]\n"
     ]
    }
   ],
   "source": [
    "# given equation = c * (9/5) + 32\n",
    "# new equation = c * (9/5) + 32\n",
    "\n",
    "fahrenheit = []\n",
    "def a_bridge_to_fahrenheit(cel):\n",
    "    fahr_temp = cel*(1.8)+32\n",
    "    fahrenheit.append(fahr_temp)\n",
    "    \n",
    "for c in celsius:\n",
    "    a_bridge_to_fahrenheit(c)\n",
    "    \n",
    "print(fahrenheit)    "
   ]
  },
  {
   "cell_type": "markdown",
   "metadata": {},
   "source": [
    "###### Using list comprehension, create a list with the lengths of each of the words:"
   ]
  },
  {
   "cell_type": "code",
   "execution_count": 14,
   "metadata": {
    "collapsed": true
   },
   "outputs": [],
   "source": [
    "l = [\"This\", \"is\", \"the\", \"first\", \"of\", \"many\",\"python\",\"questions\"]"
   ]
  },
  {
   "cell_type": "code",
   "execution_count": 17,
   "metadata": {
    "collapsed": false
   },
   "outputs": [
    {
     "name": "stdout",
     "output_type": "stream",
     "text": [
      "[4, 2, 3, 5, 2, 4, 6, 9]\n"
     ]
    }
   ],
   "source": [
    "length_list = []\n",
    "\n",
    "for word in l:\n",
    "    length_list.append(len(word))\n",
    "    \n",
    "print(length_list)"
   ]
  },
  {
   "cell_type": "markdown",
   "metadata": {},
   "source": [
    "###### Now, try to create a dictionary, where the keys are the words in the list above, and the value is the length"
   ]
  },
  {
   "cell_type": "code",
   "execution_count": 24,
   "metadata": {
    "collapsed": false,
    "scrolled": true
   },
   "outputs": [
    {
     "name": "stdout",
     "output_type": "stream",
     "text": [
      "{'This': 4, 'of': 2, 'is': 2, 'python': 6, 'questions': 9, 'many': 4, 'the': 3, 'first': 5}\n"
     ]
    }
   ],
   "source": [
    "word_hash = {}\n",
    "\n",
    "for word in l:\n",
    "    word_hash[word] = len(word)\n",
    "    \n",
    "print(word_hash)"
   ]
  },
  {
   "cell_type": "markdown",
   "metadata": {},
   "source": [
    "###### Write your own function that checks if a number is prime. Reminder: a prime number is one that is divisble by itself and 1. This doesn't have to be the fastest implementation."
   ]
  },
  {
   "cell_type": "code",
   "execution_count": 32,
   "metadata": {
    "collapsed": false
   },
   "outputs": [
    {
     "data": {
      "text/plain": [
       "'Below is my explanation of the function'"
      ]
     },
     "execution_count": 32,
     "metadata": {},
     "output_type": "execute_result"
    }
   ],
   "source": [
    "import numpy as np\n",
    "# http://stackoverflow.com/questions/2068372/fastest-way-to-list-all-primes-below-n-in-python/3035188#3035188\n",
    "def primesfrom3to(n):    \n",
    "    assert n>=2\n",
    "    sieve = np.ones(n/2, dtype=np.bool)\n",
    "    for i in xrange(3,int(n**0.5)+1,2):\n",
    "        if sieve[i/2]:\n",
    "            sieve[i*i/2::i] = False\n",
    "    return np.r_[2, 2*np.nonzero(sieve)[0][1::]+1]  "
   ]
  },
  {
   "cell_type": "code",
   "execution_count": 10,
   "metadata": {
    "collapsed": false
   },
   "outputs": [],
   "source": [
    "# 3 - throws assertion error if less than 2\n",
    "# 4 - sieve (a reference to Sieve of Eratosthenes) \n",
    "      # is initiated as an array with n/2 boolean\n",
    "      # elements set to \"True\"\n",
    "# 5 - iterate through range starting at 2, stopping\n",
    "      # at the sqareroot of n, skips next in list\n",
    "# 6 - # boolean evaluation; if i is divisible by 2\n",
    "      # then execute next statement\n",
    "# 7 - #\n",
    "# 8 returns an array of \"true\" elements with their \n",
    "      # values (the prime numbers)"
   ]
  },
  {
   "cell_type": "markdown",
   "metadata": {},
   "source": [
    "###### Create a list of all the numbers from 0 to 100 that are prime"
   ]
  },
  {
   "cell_type": "code",
   "execution_count": 11,
   "metadata": {
    "collapsed": false
   },
   "outputs": [
    {
     "name": "stdout",
     "output_type": "stream",
     "text": [
      "[ 2  3  5  7 11 13 17 19 23 29 31 37 41 43 47 53 59 61 67 71 73 79 83 89 97]\n"
     ]
    }
   ],
   "source": [
    "print primesfrom3to(100)   "
   ]
  },
  {
   "cell_type": "markdown",
   "metadata": {},
   "source": [
    "###### This is one of the most interesting parts of python: python functions can take functions as arguments!"
   ]
  },
  {
   "cell_type": "code",
   "execution_count": 24,
   "metadata": {
    "collapsed": true
   },
   "outputs": [],
   "source": [
    "def func_of_func(f,x):\n",
    "    return f(x) + 2"
   ]
  },
  {
   "cell_type": "markdown",
   "metadata": {},
   "source": [
    "###### So let's say you have two functions, one called double and one called triple. You can do this:"
   ]
  },
  {
   "cell_type": "code",
   "execution_count": 25,
   "metadata": {
    "collapsed": true
   },
   "outputs": [],
   "source": [
    "def double_num(x):\n",
    "    return 2*x\n",
    "def triple_num(x):\n",
    "    return 3*x"
   ]
  },
  {
   "cell_type": "code",
   "execution_count": 29,
   "metadata": {
    "collapsed": false
   },
   "outputs": [
    {
     "data": {
      "text/plain": [
       "22"
      ]
     },
     "execution_count": 29,
     "metadata": {},
     "output_type": "execute_result"
    }
   ],
   "source": [
    "func_of_func(double_num, 10)"
   ]
  },
  {
   "cell_type": "code",
   "execution_count": 30,
   "metadata": {
    "collapsed": false
   },
   "outputs": [
    {
     "data": {
      "text/plain": [
       "32"
      ]
     },
     "execution_count": 30,
     "metadata": {},
     "output_type": "execute_result"
    }
   ],
   "source": [
    "func_of_func(triple_num,10)"
   ]
  },
  {
   "cell_type": "markdown",
   "metadata": {},
   "source": [
    "###### Change func_of_func so that it adds 2 to the result, no matter what and pass in double_num() and triple_num()"
   ]
  },
  {
   "cell_type": "code",
   "execution_count": 31,
   "metadata": {
    "collapsed": false
   },
   "outputs": [
    {
     "name": "stdout",
     "output_type": "stream",
     "text": [
      "ok\n"
     ]
    }
   ],
   "source": [
    "print \"ok\""
   ]
  },
  {
   "cell_type": "code",
   "execution_count": null,
   "metadata": {
    "collapsed": true
   },
   "outputs": [],
   "source": []
  }
 ],
 "metadata": {
  "kernelspec": {
   "display_name": "Python 2",
   "language": "python",
   "name": "python2"
  },
  "language_info": {
   "codemirror_mode": {
    "name": "ipython",
    "version": 2
   },
   "file_extension": ".py",
   "mimetype": "text/x-python",
   "name": "python",
   "nbconvert_exporter": "python",
   "pygments_lexer": "ipython2",
   "version": "2.7.6"
  }
 },
 "nbformat": 4,
 "nbformat_minor": 0
}
