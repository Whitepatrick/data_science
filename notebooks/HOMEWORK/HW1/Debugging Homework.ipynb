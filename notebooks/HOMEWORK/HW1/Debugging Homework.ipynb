{
 "cells": [
  {
   "cell_type": "code",
   "execution_count": 1,
   "metadata": {
    "collapsed": true
   },
   "outputs": [],
   "source": [
    "def break_words(stuff):\n",
    "    \"\"\"This function will break up words for us.\"\"\"\n",
    "    words = stuff.split(' ')\n",
    "    return words"
   ]
  },
  {
   "cell_type": "code",
   "execution_count": 2,
   "metadata": {
    "collapsed": false
   },
   "outputs": [],
   "source": [
    "def sort_words(words):\n",
    "    \"\"\"Sorts the words.\"\"\"\n",
    "    return sorted(words)"
   ]
  },
  {
   "cell_type": "code",
   "execution_count": 3,
   "metadata": {
    "collapsed": false
   },
   "outputs": [],
   "source": [
    "def print_first_word(words):\n",
    "    \"\"\"Prints the first word after popping it off.\"\"\"\n",
    "    word = words.pop(0)\n",
    "    print word"
   ]
  },
  {
   "cell_type": "code",
   "execution_count": 4,
   "metadata": {
    "collapsed": false
   },
   "outputs": [],
   "source": [
    "def print_last_word(words):\n",
    "    \"\"\"Prints the last word after popping it off.\"\"\"\n",
    "    word = words.pop(-1)\n",
    "    print word"
   ]
  },
  {
   "cell_type": "code",
   "execution_count": 5,
   "metadata": {
    "collapsed": true
   },
   "outputs": [],
   "source": [
    "def sort_sentence(sentence):\n",
    "    \"\"\"Takes in a full sentence and returns the sorted words.\"\"\"\n",
    "    words = break_words(sentence)\n",
    "    return sort_words(words)"
   ]
  },
  {
   "cell_type": "code",
   "execution_count": 6,
   "metadata": {
    "collapsed": true
   },
   "outputs": [],
   "source": [
    "def print_first_and_last(sentence):\n",
    "    \"\"\"Prints the first and last words of the sentence.\"\"\"\n",
    "    words = break_words(sentence)\n",
    "    print_first_word(words)\n",
    "    print_last_word(words)"
   ]
  },
  {
   "cell_type": "code",
   "execution_count": 7,
   "metadata": {
    "collapsed": true
   },
   "outputs": [],
   "source": [
    "def print_first_and_last_sorted(sentence):\n",
    "    \"\"\"Sorts the words then prints the first and last one.\"\"\"\n",
    "    words = sort_sentence(sentence)\n",
    "    print_first_word(words)\n",
    "    print_last_word(words)"
   ]
  },
  {
   "cell_type": "code",
   "execution_count": 8,
   "metadata": {
    "collapsed": false
   },
   "outputs": [
    {
     "name": "stdout",
     "output_type": "stream",
     "text": [
      "Let's practice everything.\n",
      "You'd need to know 'bout escapes with \\ that do \n",
      " newlines and \t tabs.\n"
     ]
    }
   ],
   "source": [
    "print \"Let's practice everything.\"\n",
    "print 'You\\'d need to know \\'bout escapes with \\\\ that do \\n newlines and \\t tabs.'"
   ]
  },
  {
   "cell_type": "code",
   "execution_count": 9,
   "metadata": {
    "collapsed": true
   },
   "outputs": [],
   "source": [
    "poem = \"\"\"\n",
    "\\tThe lovely world\n",
    "with logic so firmly planted\n",
    "cannot discern \\n the needs of love\n",
    "nor comprehend passion from intuition\n",
    "and requires an explantion\n",
    "\\n\\t\\twhere there is none.\n",
    "\"\"\""
   ]
  },
  {
   "cell_type": "code",
   "execution_count": 10,
   "metadata": {
    "collapsed": false
   },
   "outputs": [
    {
     "name": "stdout",
     "output_type": "stream",
     "text": [
      "--------------\n",
      "\n",
      "\tThe lovely world\n",
      "with logic so firmly planted\n",
      "cannot discern \n",
      " the needs of love\n",
      "nor comprehend passion from intuition\n",
      "and requires an explantion\n",
      "\n",
      "\t\twhere there is none.\n",
      "\n",
      "--------------\n"
     ]
    }
   ],
   "source": [
    "print \"--------------\"\n",
    "print poem\n",
    "print \"--------------\""
   ]
  },
  {
   "cell_type": "code",
   "execution_count": 11,
   "metadata": {
    "collapsed": false
   },
   "outputs": [
    {
     "name": "stdout",
     "output_type": "stream",
     "text": [
      "This should be five: 6\n"
     ]
    }
   ],
   "source": [
    "five = 10 - 2 + 3 - 5\n",
    "print \"This should be five: %s\" % five"
   ]
  },
  {
   "cell_type": "code",
   "execution_count": 12,
   "metadata": {
    "collapsed": false
   },
   "outputs": [],
   "source": [
    "def secret_formula(started):\n",
    "    jelly_beans = started * 500\n",
    "    jars = jelly_beans / 1000\n",
    "    crates = jars / 100\n",
    "    return jelly_beans, jars, crates"
   ]
  },
  {
   "cell_type": "code",
   "execution_count": 13,
   "metadata": {
    "collapsed": false
   },
   "outputs": [],
   "source": [
    "start_point = 10000\n",
    "jelly_beans, jars, crates = secret_formula(start_point)"
   ]
  },
  {
   "cell_type": "code",
   "execution_count": 14,
   "metadata": {
    "collapsed": false
   },
   "outputs": [
    {
     "name": "stdout",
     "output_type": "stream",
     "text": [
      "With a starting point of: 10000\n",
      "We'd have 5000000 jeans, 5000 jars, and 50 crates.\n"
     ]
    }
   ],
   "source": [
    "print \"With a starting point of: %d\" % start_point\n",
    "print \"We'd have %d jeans, %d jars, and %d crates.\" % (jelly_beans, jars, crates)"
   ]
  },
  {
   "cell_type": "code",
   "execution_count": 15,
   "metadata": {
    "collapsed": true
   },
   "outputs": [],
   "source": [
    "start_point = start_point / 10"
   ]
  },
  {
   "cell_type": "code",
   "execution_count": 16,
   "metadata": {
    "collapsed": false
   },
   "outputs": [
    {
     "name": "stdout",
     "output_type": "stream",
     "text": [
      "We can also do that this way:\n",
      "We'd have 500000 beans, 500 jars, and 5 crabapples.\n"
     ]
    }
   ],
   "source": [
    "print \"We can also do that this way:\"\n",
    "print \"We'd have %d beans, %d jars, and %d crabapples.\" % secret_formula(start_point)"
   ]
  },
  {
   "cell_type": "code",
   "execution_count": 17,
   "metadata": {
    "collapsed": true
   },
   "outputs": [],
   "source": [
    "sentence = \"All god\\tthings come to those who weight.\""
   ]
  },
  {
   "cell_type": "code",
   "execution_count": 18,
   "metadata": {
    "collapsed": false
   },
   "outputs": [],
   "source": [
    "words = break_words(sentence)\n",
    "sorted_words = sort_words(words)"
   ]
  },
  {
   "cell_type": "code",
   "execution_count": 19,
   "metadata": {
    "collapsed": false
   },
   "outputs": [
    {
     "name": "stdout",
     "output_type": "stream",
     "text": [
      "All\n",
      "weight.\n",
      "All\n",
      "who\n",
      "['All', 'come', 'god\\tthings', 'those', 'to', 'weight.', 'who']\n"
     ]
    }
   ],
   "source": [
    "print_first_word(words)\n",
    "print_last_word(words)\n",
    "print_first_word(sorted_words)\n",
    "print_last_word(sorted_words)\n",
    "sorted_words = sort_sentence(sentence)\n",
    "print sorted_words"
   ]
  },
  {
   "cell_type": "code",
   "execution_count": 20,
   "metadata": {
    "collapsed": false
   },
   "outputs": [
    {
     "name": "stdout",
     "output_type": "stream",
     "text": [
      "All\n",
      "weight.\n"
     ]
    }
   ],
   "source": [
    "print_first_and_last(sentence)"
   ]
  },
  {
   "cell_type": "code",
   "execution_count": 21,
   "metadata": {
    "collapsed": false
   },
   "outputs": [
    {
     "name": "stdout",
     "output_type": "stream",
     "text": [
      "All\n",
      "who\n"
     ]
    }
   ],
   "source": [
    "print_first_and_last_sorted(sentence)"
   ]
  },
  {
   "cell_type": "code",
   "execution_count": 22,
   "metadata": {
    "collapsed": false
   },
   "outputs": [
    {
     "name": "stdout",
     "output_type": "stream",
     "text": [
      "I WIN\n",
      "I WIN\n",
      "I WIN\n",
      "I WIN\n",
      "I WIN\n",
      "I WIN\n",
      "I WIN\n",
      "I WIN\n",
      "I WIN\n",
      "I WIN\n",
      "I WIN\n",
      "I WIN\n",
      "I WIN\n",
      "I WIN\n",
      "I WIN\n",
      "I WIN\n",
      "I WIN\n",
      "I WIN\n",
      "I WIN\n",
      "I WIN\n",
      "I WIN\n",
      "I WIN\n",
      "I WIN\n",
      "I WIN\n",
      "I WIN\n",
      "I WIN\n",
      "I WIN\n",
      "I WIN\n",
      "I WIN\n",
      "I WIN\n",
      "I WIN\n",
      "I WIN\n",
      "I WIN\n",
      "I WIN\n",
      "I WIN\n",
      "I WIN\n",
      "I WIN\n",
      "I WIN\n",
      "I WIN\n",
      "I WIN\n",
      "I WIN\n",
      "I WIN\n",
      "I WIN\n",
      "I WIN\n",
      "I WIN\n",
      "I WIN\n",
      "I WIN\n",
      "I WIN\n",
      "I WIN\n",
      "I WIN\n",
      "I WIN\n",
      "I WIN\n",
      "I WIN\n",
      "I WIN\n",
      "I WIN\n",
      "I WIN\n",
      "I WIN\n",
      "I WIN\n",
      "I WIN\n",
      "I WIN\n",
      "I WIN\n",
      "I WIN\n",
      "I WIN\n",
      "I WIN\n",
      "I WIN\n",
      "I WIN\n",
      "I WIN\n",
      "I WIN\n",
      "I WIN\n",
      "I WIN\n",
      "I WIN\n",
      "I WIN\n",
      "I WIN\n",
      "I WIN\n",
      "I WIN\n",
      "I WIN\n",
      "I WIN\n",
      "I WIN\n",
      "I WIN\n",
      "I WIN\n",
      "I WIN\n",
      "I WIN\n",
      "I WIN\n",
      "I WIN\n",
      "I WIN\n",
      "I WIN\n",
      "I WIN\n",
      "I WIN\n",
      "I WIN\n",
      "I WIN\n",
      "I WIN\n",
      "I WIN\n",
      "I WIN\n",
      "I WIN\n",
      "I WIN\n",
      "I WIN\n",
      "I WIN\n",
      "I WIN\n",
      "I WIN\n",
      "I WIN\n",
      "I WIN\n",
      "I WIN\n"
     ]
    }
   ],
   "source": [
    "for n in range(-1,101):\n",
    "    print \"I WIN\""
   ]
  }
 ],
 "metadata": {
  "kernelspec": {
   "display_name": "Python 2",
   "language": "python",
   "name": "python2"
  },
  "language_info": {
   "codemirror_mode": {
    "name": "ipython",
    "version": 2
   },
   "file_extension": ".py",
   "mimetype": "text/x-python",
   "name": "python",
   "nbconvert_exporter": "python",
   "pygments_lexer": "ipython2",
   "version": "2.7.6"
  }
 },
 "nbformat": 4,
 "nbformat_minor": 0
}
