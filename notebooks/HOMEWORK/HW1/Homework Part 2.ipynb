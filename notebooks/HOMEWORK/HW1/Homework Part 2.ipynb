{
 "cells": [
  {
   "cell_type": "markdown",
   "metadata": {},
   "source": [
    "###### Create a list called F which is the farhrenheit equivalent of the celsius temperatures below (equation is C*(9/5)+32)"
   ]
  },
  {
   "cell_type": "code",
   "execution_count": 1,
   "metadata": {
    "collapsed": true
   },
   "outputs": [],
   "source": [
    "celsius = [30.0,32.3,40.4,50.8]"
   ]
  },
  {
   "cell_type": "code",
   "execution_count": 2,
   "metadata": {
    "collapsed": false
   },
   "outputs": [
    {
     "name": "stdout",
     "output_type": "stream",
     "text": [
      "[86.0, 90.13999999999999, 104.72, 123.44]\n"
     ]
    }
   ],
   "source": [
    "# given equation = c * (9/5) + 32\n",
    "# new equation = c * (1.8) + 32\n",
    "\n",
    "fahrenheit = []\n",
    "def a_bridge_to_fahrenheit(cel):\n",
    "    fahr_temp = cel*(1.8)+32\n",
    "    fahrenheit.append(fahr_temp)\n",
    "    \n",
    "for c in celsius:\n",
    "    a_bridge_to_fahrenheit(c)\n",
    "    \n",
    "print(fahrenheit)    "
   ]
  },
  {
   "cell_type": "markdown",
   "metadata": {},
   "source": [
    "###### Using list comprehension, create a list with the lengths of each of the words:"
   ]
  },
  {
   "cell_type": "code",
   "execution_count": 3,
   "metadata": {
    "collapsed": true
   },
   "outputs": [],
   "source": [
    "l = [\"This\", \"is\", \"the\", \"first\", \"of\", \"many\",\"python\",\"questions\"]"
   ]
  },
  {
   "cell_type": "code",
   "execution_count": 4,
   "metadata": {
    "collapsed": false
   },
   "outputs": [
    {
     "name": "stdout",
     "output_type": "stream",
     "text": [
      "[4, 2, 3, 5, 2, 4, 6, 9]\n"
     ]
    }
   ],
   "source": [
    "length_list = []\n",
    "\n",
    "for word in l:\n",
    "    length_list.append(len(word))\n",
    "    \n",
    "print(length_list)"
   ]
  },
  {
   "cell_type": "markdown",
   "metadata": {},
   "source": [
    "###### Now, try to create a dictionary, where the keys are the words in the list above, and the value is the length"
   ]
  },
  {
   "cell_type": "code",
   "execution_count": 5,
   "metadata": {
    "collapsed": false,
    "scrolled": true
   },
   "outputs": [
    {
     "name": "stdout",
     "output_type": "stream",
     "text": [
      "{'This': 4, 'of': 2, 'is': 2, 'python': 6, 'questions': 9, 'many': 4, 'the': 3, 'first': 5}\n"
     ]
    }
   ],
   "source": [
    "word_hash = {}\n",
    "\n",
    "for word in l:\n",
    "    word_hash[word] = len(word)\n",
    "    \n",
    "print(word_hash)"
   ]
  },
  {
   "cell_type": "markdown",
   "metadata": {},
   "source": [
    "###### Write your own function that checks if a number is prime. Reminder: a prime number is one that is divisble by itself and 1. This doesn't have to be the fastest implementation."
   ]
  },
  {
   "cell_type": "code",
   "execution_count": 22,
   "metadata": {
    "collapsed": false
   },
   "outputs": [],
   "source": [
    "# stolen from stackoverflow\n",
    "# why redefine the wheel?\n",
    "# http://stackoverflow.com/questions/2068372/fastest-way-to-list-all-primes-below-n-in-python/3035188#3035188\n",
    "import numpy as np\n",
    "import math\n",
    "\n",
    "def primesfrom2to(n):    \n",
    "    assert n>=2\n",
    "    sieve = np.ones(n/2, dtype=np.bool)\n",
    "    for i in xrange(3,int(math.sqrt(n))+1,2):\n",
    "        if sieve[i/2]:\n",
    "            sieve[i*i/2::i] = False\n",
    "    return np.r_[2, 2*np.nonzero(sieve)[0][1::]+1]  \n",
    "\n",
    "# my own prime check function, isn't pretty, but is seemingly reliable\n",
    "def prime_check(num):\n",
    "    num = abs(num)\n",
    "    if (num == 2) or (num == 3):\n",
    "        print \"%d IS PRIME\" % num\n",
    "    elif num < 2:\n",
    "        print \"Number isn't a candidate for prime factorization\"\n",
    "    elif num % 2 == 0 or num % 3 ==0:\n",
    "        print \"%d IS NOT PRIME\" % num\n",
    "    else:\n",
    "        print \"%d IS PRIME\" % num "
   ]
  },
  {
   "cell_type": "markdown",
   "metadata": {},
   "source": [
    "###### Create a list of all the numbers from 0 to 100 that are prime"
   ]
  },
  {
   "cell_type": "code",
   "execution_count": 23,
   "metadata": {
    "collapsed": false
   },
   "outputs": [
    {
     "name": "stdout",
     "output_type": "stream",
     "text": [
      "---------------------\n",
      "Check the SO solution\n",
      "---------------------\n",
      "[ 2  3  5  7 11 13 17 19 23 29 31 37 41 43 47 53 59 61 67 71 73 79 83 89 97]\n",
      "\n",
      "---------------------\n",
      "  Check my solution  \n",
      "---------------------\n",
      "43 IS PRIME\n",
      "\n",
      "-----------------------------------\n",
      "iterate a range through my function\n",
      "-----------------------------------\n",
      "Number isn't a candidate for prime factorization\n",
      "Number isn't a candidate for prime factorization\n",
      "Number isn't a candidate for prime factorization\n",
      "2 IS PRIME\n",
      "3 IS PRIME\n",
      "4 IS NOT PRIME\n",
      "5 IS PRIME\n",
      "6 IS NOT PRIME\n",
      "7 IS PRIME\n",
      "8 IS NOT PRIME\n",
      "9 IS NOT PRIME\n",
      "10 IS NOT PRIME\n",
      "11 IS PRIME\n",
      "12 IS NOT PRIME\n",
      "13 IS PRIME\n",
      "14 IS NOT PRIME\n",
      "15 IS NOT PRIME\n",
      "16 IS NOT PRIME\n",
      "17 IS PRIME\n",
      "18 IS NOT PRIME\n",
      "19 IS PRIME\n",
      "20 IS NOT PRIME\n",
      "21 IS NOT PRIME\n",
      "22 IS NOT PRIME\n",
      "23 IS PRIME\n",
      "24 IS NOT PRIME\n",
      "25 IS PRIME\n",
      "26 IS NOT PRIME\n",
      "27 IS NOT PRIME\n",
      "28 IS NOT PRIME\n",
      "29 IS PRIME\n",
      "30 IS NOT PRIME\n",
      "31 IS PRIME\n",
      "32 IS NOT PRIME\n",
      "33 IS NOT PRIME\n",
      "34 IS NOT PRIME\n",
      "35 IS PRIME\n",
      "36 IS NOT PRIME\n",
      "37 IS PRIME\n",
      "38 IS NOT PRIME\n",
      "39 IS NOT PRIME\n",
      "40 IS NOT PRIME\n",
      "41 IS PRIME\n",
      "42 IS NOT PRIME\n",
      "43 IS PRIME\n",
      "44 IS NOT PRIME\n",
      "45 IS NOT PRIME\n",
      "46 IS NOT PRIME\n",
      "47 IS PRIME\n",
      "48 IS NOT PRIME\n",
      "49 IS PRIME\n",
      "50 IS NOT PRIME\n",
      "51 IS NOT PRIME\n",
      "52 IS NOT PRIME\n",
      "53 IS PRIME\n",
      "54 IS NOT PRIME\n",
      "55 IS PRIME\n",
      "56 IS NOT PRIME\n",
      "57 IS NOT PRIME\n",
      "58 IS NOT PRIME\n",
      "59 IS PRIME\n",
      "60 IS NOT PRIME\n",
      "61 IS PRIME\n",
      "62 IS NOT PRIME\n",
      "63 IS NOT PRIME\n",
      "64 IS NOT PRIME\n",
      "65 IS PRIME\n",
      "66 IS NOT PRIME\n",
      "67 IS PRIME\n",
      "68 IS NOT PRIME\n",
      "69 IS NOT PRIME\n",
      "70 IS NOT PRIME\n",
      "71 IS PRIME\n",
      "72 IS NOT PRIME\n",
      "73 IS PRIME\n",
      "74 IS NOT PRIME\n",
      "75 IS NOT PRIME\n",
      "76 IS NOT PRIME\n",
      "77 IS PRIME\n",
      "78 IS NOT PRIME\n",
      "79 IS PRIME\n",
      "80 IS NOT PRIME\n",
      "81 IS NOT PRIME\n",
      "82 IS NOT PRIME\n",
      "83 IS PRIME\n",
      "84 IS NOT PRIME\n",
      "85 IS PRIME\n",
      "86 IS NOT PRIME\n",
      "87 IS NOT PRIME\n",
      "88 IS NOT PRIME\n",
      "89 IS PRIME\n",
      "90 IS NOT PRIME\n",
      "91 IS PRIME\n",
      "92 IS NOT PRIME\n",
      "93 IS NOT PRIME\n",
      "94 IS NOT PRIME\n",
      "95 IS PRIME\n",
      "96 IS NOT PRIME\n",
      "97 IS PRIME\n",
      "98 IS NOT PRIME\n",
      "99 IS NOT PRIME\n",
      "100 IS NOT PRIME\n"
     ]
    }
   ],
   "source": [
    "print \"---------------------\"\n",
    "print \"Check the SO solution\"\n",
    "print \"---------------------\"\n",
    "print primesfrom2to(101)\n",
    "print \"\"\n",
    "\n",
    "print \"---------------------\"\n",
    "print \"  Check my solution  \"\n",
    "print \"---------------------\"\n",
    "prime_check(43)\n",
    "print \"\"\n",
    "\n",
    "print \"-----------------------------------\"\n",
    "print \"iterate a range through my function\"\n",
    "print \"-----------------------------------\"\n",
    "for i in range(-1, 101):\n",
    "    prime_check(i)\n",
    "    \n",
    "#pattern emerges! \n",
    "#after 3 the pattern is:\n",
    "#not prime, is prime, not prime, is prime, not prime, not prime, not prime"
   ]
  },
  {
   "cell_type": "markdown",
   "metadata": {},
   "source": [
    "###### This is one of the most interesting parts of python: python functions can take functions as arguments!"
   ]
  },
  {
   "cell_type": "code",
   "execution_count": 9,
   "metadata": {
    "collapsed": true
   },
   "outputs": [],
   "source": [
    "def func_of_func(f,x):\n",
    "    return f(x) + 2"
   ]
  },
  {
   "cell_type": "markdown",
   "metadata": {},
   "source": [
    "###### So let's say you have two functions, one called double and one called triple. You can do this:"
   ]
  },
  {
   "cell_type": "code",
   "execution_count": 10,
   "metadata": {
    "collapsed": true
   },
   "outputs": [],
   "source": [
    "def double_num(x):\n",
    "    return 2*x\n",
    "def triple_num(x):\n",
    "    return 3*x"
   ]
  },
  {
   "cell_type": "code",
   "execution_count": 11,
   "metadata": {
    "collapsed": false
   },
   "outputs": [
    {
     "data": {
      "text/plain": [
       "22"
      ]
     },
     "execution_count": 11,
     "metadata": {},
     "output_type": "execute_result"
    }
   ],
   "source": [
    "func_of_func(double_num, 10)"
   ]
  },
  {
   "cell_type": "code",
   "execution_count": 12,
   "metadata": {
    "collapsed": false
   },
   "outputs": [
    {
     "data": {
      "text/plain": [
       "32"
      ]
     },
     "execution_count": 12,
     "metadata": {},
     "output_type": "execute_result"
    }
   ],
   "source": [
    "func_of_func(triple_num,10)"
   ]
  },
  {
   "cell_type": "markdown",
   "metadata": {},
   "source": [
    "###### Change func_of_func so that it adds 2 to the result, no matter what and pass in double_num() and triple_num()"
   ]
  },
  {
   "cell_type": "code",
   "execution_count": 13,
   "metadata": {
    "collapsed": false
   },
   "outputs": [
    {
     "name": "stdout",
     "output_type": "stream",
     "text": [
      "ok\n"
     ]
    }
   ],
   "source": [
    "print \"ok\""
   ]
  }
 ],
 "metadata": {
  "kernelspec": {
   "display_name": "Python 2",
   "language": "python",
   "name": "python2"
  },
  "language_info": {
   "codemirror_mode": {
    "name": "ipython",
    "version": 2
   },
   "file_extension": ".py",
   "mimetype": "text/x-python",
   "name": "python",
   "nbconvert_exporter": "python",
   "pygments_lexer": "ipython2",
   "version": "2.7.6"
  }
 },
 "nbformat": 4,
 "nbformat_minor": 0
}
