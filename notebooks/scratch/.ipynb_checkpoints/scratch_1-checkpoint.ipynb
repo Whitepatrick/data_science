{
 "cells": [
  {
   "cell_type": "code",
   "execution_count": 1,
   "metadata": {
    "collapsed": false
   },
   "outputs": [],
   "source": [
    "import numpy as np\n",
    "import math\n",
    "# http://stackoverflow.com/questions/2068372/fastest-way-to-list-all-primes-below-n-in-python/3035188#3035188\n",
    "def primesfrom3to(n):    \n",
    "    assert n>=2\n",
    "    sieve = np.ones(n/2, dtype=np.bool)\n",
    "    for i in xrange(3,int(math.sqrt(n))+1,2):\n",
    "        if sieve[i/2]:\n",
    "            sieve[i*i/2::i] = False\n",
    "    return np.r_[2, 2*np.nonzero(sieve)[0][1::]+1]  "
   ]
  },
  {
   "cell_type": "code",
   "execution_count": 35,
   "metadata": {
    "collapsed": false
   },
   "outputs": [
    {
     "name": "stdout",
     "output_type": "stream",
     "text": [
      "[ 2  3  5  7 11 13 17 19 23 29 31 37 41 43 47 53 59 61 67 71 73 79 83 89 97]\n"
     ]
    }
   ],
   "source": [
    "print primesfrom3to(100)"
   ]
  },
  {
   "cell_type": "code",
   "execution_count": 48,
   "metadata": {
    "collapsed": false
   },
   "outputs": [],
   "source": [
    "#if not (1 <= key <= 34):\n",
    "#if (key < 1) or (key > 34):\n",
    "#print \"%d is NOT PRIME\" % num    \n",
    "def prime_check(num):\n",
    "    if (num == 2) or (num == 3):\n",
    "        print \"%d IS PRIME\" % num\n",
    "    elif num % 2 == 0 or num % 3 ==0:\n",
    "        print \"%d IS NOT PRIME\" % num\n",
    "    else:\n",
    "        print \"%d IS PRIME\" % num        "
   ]
  },
  {
   "cell_type": "code",
   "execution_count": 55,
   "metadata": {
    "collapsed": false
   },
   "outputs": [
    {
     "name": "stdout",
     "output_type": "stream",
     "text": [
      "11 IS PRIME\n"
     ]
    }
   ],
   "source": [
    "prime_check(11)"
   ]
  }
 ],
 "metadata": {
  "kernelspec": {
   "display_name": "Python 2",
   "language": "python",
   "name": "python2"
  },
  "language_info": {
   "codemirror_mode": {
    "name": "ipython",
    "version": 2
   },
   "file_extension": ".py",
   "mimetype": "text/x-python",
   "name": "python",
   "nbconvert_exporter": "python",
   "pygments_lexer": "ipython2",
   "version": "2.7.6"
  }
 },
 "nbformat": 4,
 "nbformat_minor": 0
}
