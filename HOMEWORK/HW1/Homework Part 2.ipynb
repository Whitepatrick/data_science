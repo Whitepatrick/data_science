{
 "cells": [
  {
   "cell_type": "markdown",
   "metadata": {},
   "source": [
    "###### Create a list called F which is the farhrenheit equivalent of the celsius temperatures below (equation is C*(9/5)+32)"
   ]
  },
  {
   "cell_type": "code",
   "execution_count": 2,
   "metadata": {
    "collapsed": true
   },
   "outputs": [],
   "source": [
    "celsius = [30.0,32.3,40.4,50.8]"
   ]
  },
  {
   "cell_type": "code",
   "execution_count": 12,
   "metadata": {
    "collapsed": false
   },
   "outputs": [
    {
     "name": "stdout",
     "output_type": "stream",
     "text": [
      "[86.0, 90.13999999999999, 104.72, 123.44]\n"
     ]
    }
   ],
   "source": [
    "# given equation = c * (9/5) + 32\n",
    "# new equation = c * (9/5) + 32\n",
    "\n",
    "fahrenheit = []\n",
    "def a_bridge_to_fahrenheit(cel):\n",
    "    fahr_temp = cel*(1.8)+32\n",
    "    fahrenheit.append(fahr_temp)\n",
    "    \n",
    "for c in celsius:\n",
    "    a_bridge_to_fahrenheit(c)\n",
    "    \n",
    "print(fahrenheit)    "
   ]
  },
  {
   "cell_type": "markdown",
   "metadata": {},
   "source": [
    "###### Using list comprehension, create a list with the lengths of each of the words:"
   ]
  },
  {
   "cell_type": "code",
   "execution_count": 14,
   "metadata": {
    "collapsed": true
   },
   "outputs": [],
   "source": [
    "l = [\"This\", \"is\", \"the\", \"first\", \"of\", \"many\",\"python\",\"questions\"]"
   ]
  },
  {
   "cell_type": "code",
   "execution_count": 17,
   "metadata": {
    "collapsed": false
   },
   "outputs": [
    {
     "name": "stdout",
     "output_type": "stream",
     "text": [
      "[4, 2, 3, 5, 2, 4, 6, 9]\n"
     ]
    }
   ],
   "source": [
    "length_list = []\n",
    "\n",
    "for word in l:\n",
    "    length_list.append(len(word))\n",
    "    \n",
    "print(length_list)"
   ]
  },
  {
   "cell_type": "markdown",
   "metadata": {},
   "source": [
    "###### Now, try to create a dictionary, where the keys are the words in the list above, and the value is the length"
   ]
  },
  {
   "cell_type": "code",
   "execution_count": 24,
   "metadata": {
    "collapsed": false
   },
   "outputs": [
    {
     "name": "stdout",
     "output_type": "stream",
     "text": [
      "{'This': 4, 'of': 2, 'is': 2, 'python': 6, 'questions': 9, 'many': 4, 'the': 3, 'first': 5}\n"
     ]
    }
   ],
   "source": [
    "word_hash = {}\n",
    "\n",
    "for word in l:\n",
    "    word_hash[word] = len(word)\n",
    "    \n",
    "print(word_hash)"
   ]
  },
  {
   "cell_type": "markdown",
   "metadata": {},
   "source": [
    "###### Write your own function that checks if a number is prime. Reminder: a prime number is one that is divisble by itself and 1. This doesn't have to be the fastest implementation."
   ]
  },
  {
   "cell_type": "code",
   "execution_count": 26,
   "metadata": {
    "collapsed": false
   },
   "outputs": [],
   "source": [
    "#A number is greater than 1\n",
    "#is called a prime number, \n",
    "#if it has only two factors, \n",
    "#namely 1 and the number itself.\n",
    "numbers = range(100)\n",
    "def prime_check(num):\n",
    "    if num "
   ]
  },
  {
   "cell_type": "code",
   "execution_count": null,
   "metadata": {
    "collapsed": false
   },
   "outputs": [],
   "source": []
  },
  {
   "cell_type": "markdown",
   "metadata": {},
   "source": [
    "###### Create a list of all the numbers from 0 to 100 that are prime"
   ]
  },
  {
   "cell_type": "code",
   "execution_count": null,
   "metadata": {
    "collapsed": false
   },
   "outputs": [],
   "source": []
  },
  {
   "cell_type": "markdown",
   "metadata": {},
   "source": [
    "###### This is one of the most interesting parts of python: python functions can take functions as arguments!"
   ]
  },
  {
   "cell_type": "code",
   "execution_count": 26,
   "metadata": {
    "collapsed": true
   },
   "outputs": [],
   "source": [
    "def func_of_func(f,x):\n",
    "    return f(x)"
   ]
  },
  {
   "cell_type": "markdown",
   "metadata": {},
   "source": [
    "###### So let's say you have two functions, one called double and one called triple. You can do this:"
   ]
  },
  {
   "cell_type": "code",
   "execution_count": 27,
   "metadata": {
    "collapsed": true
   },
   "outputs": [],
   "source": [
    "def double_num(x):\n",
    "    return 2*x\n",
    "def triple_num(x):\n",
    "    return 3*x"
   ]
  },
  {
   "cell_type": "code",
   "execution_count": 30,
   "metadata": {
    "collapsed": false
   },
   "outputs": [
    {
     "data": {
      "text/plain": [
       "20"
      ]
     },
     "execution_count": 30,
     "metadata": {},
     "output_type": "execute_result"
    }
   ],
   "source": [
    "func_of_func(double_num, 10)"
   ]
  },
  {
   "cell_type": "code",
   "execution_count": 31,
   "metadata": {
    "collapsed": false
   },
   "outputs": [
    {
     "data": {
      "text/plain": [
       "30"
      ]
     },
     "execution_count": 31,
     "metadata": {},
     "output_type": "execute_result"
    }
   ],
   "source": [
    "func_of_func(triple_num,10)"
   ]
  },
  {
   "cell_type": "markdown",
   "metadata": {},
   "source": [
    "###### Change func_of_func so that it adds 2 to the result, no matter what and pass in double_num() and triple_num()"
   ]
  },
  {
   "cell_type": "code",
   "execution_count": null,
   "metadata": {
    "collapsed": true
   },
   "outputs": [],
   "source": []
  }
 ],
 "metadata": {
  "kernelspec": {
   "display_name": "Python 2",
   "language": "python",
   "name": "python2"
  },
  "language_info": {
   "codemirror_mode": {
    "name": "ipython",
    "version": 2
   },
   "file_extension": ".py",
   "mimetype": "text/x-python",
   "name": "python",
   "nbconvert_exporter": "python",
   "pygments_lexer": "ipython2",
   "version": "2.7.10"
  }
 },
 "nbformat": 4,
 "nbformat_minor": 0
}
