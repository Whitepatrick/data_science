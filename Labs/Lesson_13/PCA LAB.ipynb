{
 "cells": [
  {
   "cell_type": "markdown",
   "metadata": {},
   "source": [
    "## PCA On Iris data set"
   ]
  },
  {
   "cell_type": "markdown",
   "metadata": {},
   "source": [
    "Load in the Iris dataset (can google around for how to), and decompose the dataset, create a scree plot, and visualize the dataset using the first two data points.\n",
    "\n",
    "Then perform a classification on the full and partial dataset and compare the performance"
   ]
  },
  {
   "cell_type": "code",
   "execution_count": 66,
   "metadata": {
    "collapsed": false
   },
   "outputs": [],
   "source": [
    "# read the iris data into a DataFrame\n",
    "import pandas as pd\n",
    "from sklearn.datasets import load_iris\n",
    "import matplotlib.pyplot as plt\n",
    "import numpy as np\n",
    "%matplotlib inline"
   ]
  },
  {
   "cell_type": "code",
   "execution_count": 89,
   "metadata": {
    "collapsed": true
   },
   "outputs": [],
   "source": [
    "col_names = ['sepal_length', 'sepal_width', 'petal_length', 'petal_width', 'species']\n",
    "iris = load_iris()"
   ]
  },
  {
   "cell_type": "code",
   "execution_count": 90,
   "metadata": {
    "collapsed": false
   },
   "outputs": [
    {
     "data": {
      "text/plain": [
       "['target_names', 'data', 'target', 'DESCR', 'feature_names']"
      ]
     },
     "execution_count": 90,
     "metadata": {},
     "output_type": "execute_result"
    }
   ],
   "source": [
    "iris.keys()"
   ]
  },
  {
   "cell_type": "code",
   "execution_count": 123,
   "metadata": {
    "collapsed": false
   },
   "outputs": [],
   "source": [
    "iris_df = pd.DataFrame(iris.data, columns=col_names[0:4])\n",
    "iris_df.head()\n",
    "X = iris_df\n",
    "y = iris.target"
   ]
  },
  {
   "cell_type": "code",
   "execution_count": 124,
   "metadata": {
    "collapsed": true
   },
   "outputs": [],
   "source": [
    "from sklearn.cross_validation import train_test_split"
   ]
  },
  {
   "cell_type": "code",
   "execution_count": 125,
   "metadata": {
    "collapsed": false
   },
   "outputs": [],
   "source": [
    "#let's break up the dataset into testing and training\n",
    "X_train, X_test, y_train, y_test = train_test_split(X, y)"
   ]
  },
  {
   "cell_type": "code",
   "execution_count": 126,
   "metadata": {
    "collapsed": true
   },
   "outputs": [],
   "source": [
    "from sklearn.decomposition import PCA"
   ]
  },
  {
   "cell_type": "code",
   "execution_count": 127,
   "metadata": {
    "collapsed": false
   },
   "outputs": [],
   "source": [
    "pca = PCA()"
   ]
  },
  {
   "cell_type": "code",
   "execution_count": 128,
   "metadata": {
    "collapsed": false
   },
   "outputs": [],
   "source": [
    "pca.fit(X_train)\n",
    "X_train_pca = pca.transform(X_train)"
   ]
  },
  {
   "cell_type": "code",
   "execution_count": 129,
   "metadata": {
    "collapsed": false
   },
   "outputs": [
    {
     "data": {
      "text/plain": [
       "array([[ -2.45992319e+00,   5.84249339e-01,   9.98956922e-02,\n",
       "         -1.90683901e-02],\n",
       "       [  2.43972143e+00,   4.44559469e-01,   4.22774520e-01,\n",
       "         -2.42044995e-01],\n",
       "       [ -2.58000374e+00,   7.54038568e-01,  -1.07634713e-01,\n",
       "          1.64462019e-01],\n",
       "       [  2.98503425e+00,   3.41714211e-01,   3.85607790e-01,\n",
       "         -2.68033869e-01],\n",
       "       [ -2.63426579e+00,   2.58058041e-01,   4.62547424e-02,\n",
       "         -9.97891387e-04],\n",
       "       [ -2.35709459e+00,   1.37758503e-01,  -2.50531687e-01,\n",
       "          1.73993424e-01],\n",
       "       [  2.47441737e+00,   3.75375596e-01,  -2.46440782e-01,\n",
       "          1.77669984e-01],\n",
       "       [  8.53495028e-01,   1.78645075e-01,  -4.06752987e-01,\n",
       "         -1.19328071e-01],\n",
       "       [ -2.53876780e+00,   1.67405974e-01,   9.52407254e-02,\n",
       "         -1.72062348e-02],\n",
       "       [ -2.51248627e+00,   3.06353763e-01,   9.67923810e-02,\n",
       "         -1.78269532e-02],\n",
       "       [ -2.68013006e+00,   2.67765048e-01,  -7.13568207e-02,\n",
       "         -6.40039468e-02],\n",
       "       [  2.26346542e-01,  -7.14507752e-01,   2.71660620e-02,\n",
       "          2.44671369e-02],\n",
       "       [  4.13409867e-01,  -1.03803216e-01,   2.10565857e-01,\n",
       "          1.16182987e-01],\n",
       "       [  1.00767951e+00,  -5.78285463e-01,   4.63548896e-01,\n",
       "          2.49261048e-01],\n",
       "       [  2.02435885e+00,  -1.90217009e-01,  -1.46900508e-01,\n",
       "         -2.43808442e-01],\n",
       "       [ -2.25119005e+00,   4.31568809e-02,  -2.91549211e-02,\n",
       "          1.45234275e-01],\n",
       "       [ -2.72058760e+00,   2.04004868e-01,  -5.90621157e-02,\n",
       "          9.13880316e-02],\n",
       "       [  3.55285915e+00,   4.49054793e-01,   5.36229859e-01,\n",
       "         -1.52423007e-01],\n",
       "       [  1.34247532e+00,  -1.30857707e-01,  -2.60785885e-01,\n",
       "         -1.85505367e-03],\n",
       "       [ -2.44996862e+00,  -2.10848676e-01,   2.58734960e-01,\n",
       "          3.08329142e-02],\n",
       "       [  3.85022827e+00,   2.50478302e-01,   4.69864166e-01,\n",
       "          4.18308897e-02],\n",
       "       [  1.44174275e+00,  -2.92747827e-01,  -3.98037045e-01,\n",
       "         -1.60283851e-01],\n",
       "       [ -2.49222665e+00,   4.48390895e-01,  -1.45923060e-01,\n",
       "         -1.92481513e-01],\n",
       "       [ -2.34932861e+00,   1.28688739e+00,  -2.37127595e-01,\n",
       "          2.92962921e-03],\n",
       "       [  1.85835233e+00,  -2.31034858e-01,   1.09370140e-03,\n",
       "          7.06330525e-02],\n",
       "       [  4.30740131e-01,  -3.20606719e-01,  -1.03878476e-01,\n",
       "         -1.36444534e-01],\n",
       "       [ -2.46205277e-01,  -4.12043870e-01,   2.97856839e-01,\n",
       "          6.84771549e-02],\n",
       "       [ -2.55851374e+00,   1.03683139e+00,  -1.21628496e-01,\n",
       "         -9.89209259e-02],\n",
       "       [ -2.57484071e+00,   1.02785584e-01,   3.56591160e-02,\n",
       "         -4.83989032e-02],\n",
       "       [  1.31242433e+00,  -1.98567442e-01,  -7.61003976e-02,\n",
       "          1.40986119e-01],\n",
       "       [  2.37922917e+00,  -2.61694376e-01,   3.05457803e-01,\n",
       "         -8.78276808e-02],\n",
       "       [ -2.15462488e+00,   8.14031117e-01,   1.47743405e-01,\n",
       "          2.22096290e-02],\n",
       "       [ -2.60212554e+00,   1.11468710e+00,   1.91264181e-01,\n",
       "          1.54327314e-01],\n",
       "       [ -2.57777007e+00,  -2.56055052e-01,  -3.60697753e-02,\n",
       "         -1.26371865e-01],\n",
       "       [  3.52586092e+00,   1.18081386e+00,  -1.53628118e-01,\n",
       "         -3.19443154e-01],\n",
       "       [ -8.45926732e-01,  -7.98227716e-01,  -1.11622285e-02,\n",
       "          2.28800044e-01],\n",
       "       [  2.99169239e-01,  -2.94575043e-01,  -2.12446068e-01,\n",
       "         -1.51428860e-01],\n",
       "       [  2.39995740e+00,  -4.23279786e-02,  -3.22972063e-01,\n",
       "         -7.05250774e-03],\n",
       "       [ -4.39967408e-01,  -1.31035099e+00,   2.28965296e-01,\n",
       "          4.10087971e-02],\n",
       "       [  2.21205398e+00,  -2.22953826e-01,  -2.48405823e-01,\n",
       "          1.21425058e-01],\n",
       "       [ -2.41821866e+00,   7.49460097e-02,  -8.29432938e-02,\n",
       "          5.46930888e-02],\n",
       "       [ -2.78525621e+00,  -2.88026104e-01,  -7.75634431e-02,\n",
       "         -6.15210730e-02],\n",
       "       [ -2.56127989e+00,  -4.27798667e-02,  -9.25480734e-02,\n",
       "         -1.58805970e-01],\n",
       "       [  2.66664373e+00,   3.34827148e-01,   8.02528419e-02,\n",
       "          5.65249117e-02],\n",
       "       [  2.60975772e+00,   2.78105867e-01,  -3.24110333e-01,\n",
       "          5.04338547e-02],\n",
       "       [  1.22069579e+00,  -1.79153428e-01,  -3.11323524e-01,\n",
       "          1.49740081e-02],\n",
       "       [ -2.49722647e+00,   3.78873262e-01,  -1.88407575e-01,\n",
       "          3.84673268e-02],\n",
       "       [  1.95514240e+00,   3.93828461e-02,  -1.94334836e-01,\n",
       "         -2.28220817e-01],\n",
       "       [  1.81480223e+00,   6.71349424e-02,  -1.59149799e-01,\n",
       "          1.29964152e-01],\n",
       "       [  1.93818183e-01,  -3.49909664e-01,   1.53674173e-01,\n",
       "          2.68832376e-02],\n",
       "       [ -2.65075597e+00,   4.47828555e-02,   1.02733041e-01,\n",
       "          3.14362140e-02],\n",
       "       [  9.78757398e-01,   4.35845190e-01,   3.03010549e-01,\n",
       "          9.13687771e-02],\n",
       "       [ -2.68975823e+00,  -3.78678171e-01,  -2.85774602e-02,\n",
       "         -7.77294164e-02],\n",
       "       [ -2.25913585e+00,   3.28617807e-01,   2.55897612e-01,\n",
       "         -1.96716899e-02],\n",
       "       [  1.35720481e+00,  -3.55981557e-01,   3.12864761e-01,\n",
       "         -7.07336555e-03],\n",
       "       [ -2.76938123e+00,  -1.45128761e-01,  -2.48402570e-01,\n",
       "         -4.95909857e-02],\n",
       "       [  3.44695461e+00,   5.43656415e-01,   3.14853093e-01,\n",
       "         -1.23663858e-01],\n",
       "       [  1.44399522e+00,  -2.24599119e-01,   3.24671947e-02,\n",
       "          1.55970444e-01],\n",
       "       [  1.94520445e+00,   1.20661665e-01,  -7.52440042e-01,\n",
       "          3.97597214e-02],\n",
       "       [  1.05797392e-01,  -6.22047788e-01,   2.05350081e-01,\n",
       "         -4.74321866e-02],\n",
       "       [  2.89316172e-01,  -4.40561731e-01,   2.02660156e-01,\n",
       "          1.06748943e-02],\n",
       "       [ -2.94310865e+00,  -4.00942216e-01,  -1.87682691e-01,\n",
       "         -7.58846797e-02],\n",
       "       [ -2.81237785e+00,   3.10479663e-03,   1.78850936e-01,\n",
       "          1.59293061e-01],\n",
       "       [  1.43627433e+00,  -4.39594724e-01,  -5.48071358e-02,\n",
       "         -1.84764744e-01],\n",
       "       [  3.85491050e-01,  -2.40521869e-01,  -1.07129210e-01,\n",
       "         -2.43814782e-01],\n",
       "       [ -6.86619021e-01,  -1.04501245e+00,  -4.46481863e-02,\n",
       "         -2.13939585e-02],\n",
       "       [  1.58474229e+00,  -3.95336036e-01,   8.47039118e-02,\n",
       "          2.47132349e-01],\n",
       "       [  2.32156477e+00,   3.31977117e-01,  -3.14075515e-01,\n",
       "         -6.76424624e-02],\n",
       "       [  8.66994142e-01,  -1.87234461e-01,  -6.18239991e-02,\n",
       "         -3.58179975e-02],\n",
       "       [  9.77898510e-01,  -2.12318449e-01,   2.02037281e-01,\n",
       "         -2.95525986e-01],\n",
       "       [  1.09822276e+00,   1.95678118e-01,   3.96180125e-01,\n",
       "         -4.77974392e-02],\n",
       "       [  4.82961912e-02,  -7.49146912e-01,  -3.13373922e-01,\n",
       "         -9.15905094e-03],\n",
       "       [ -2.53190580e+00,  -2.65762060e-01,   8.15417877e-02,\n",
       "         -6.33658097e-02],\n",
       "       [  7.12911161e-01,  -3.71388625e-01,  -3.58180390e-01,\n",
       "         -1.92402058e-01],\n",
       "       [ -2.35963366e+00,   3.49752241e-01,   1.64427114e-01,\n",
       "          2.27485493e-01],\n",
       "       [  1.63799888e+00,  -5.40567727e-01,  -6.70234064e-01,\n",
       "          3.25491421e-01],\n",
       "       [  5.64010004e-01,  -1.28553445e-01,  -1.52303650e-01,\n",
       "          4.52411379e-02],\n",
       "       [  1.14291835e+00,   2.65529510e-01,  -1.88066147e-01,\n",
       "         -8.99801392e-02],\n",
       "       [  1.47050166e+00,  -5.86107863e-01,  -3.38308013e-01,\n",
       "         -2.04794978e-02],\n",
       "       [  1.96996900e+00,   3.98996214e-01,  -1.34147003e-01,\n",
       "          4.97613752e-01],\n",
       "       [ -2.82802792e+00,  -6.40249078e-01,  -2.26368006e-02,\n",
       "         -2.84662492e-02],\n",
       "       [ -2.30416003e+00,  -9.17538748e-02,  -1.19679986e-01,\n",
       "         -3.02871161e-01],\n",
       "       [ -1.19572509e-01,  -2.87279094e-01,  -1.09196260e-01,\n",
       "          1.20493179e-01],\n",
       "       [  1.14285665e+00,   4.52154251e-02,   2.85070031e-01,\n",
       "          1.03937002e-01],\n",
       "       [  1.38703089e+00,   2.12184710e-01,   5.00506137e-01,\n",
       "          2.59146852e-02],\n",
       "       [  1.33430461e+00,   6.55059751e-01,   3.96593511e-01,\n",
       "          9.06820478e-03],\n",
       "       [  6.97651365e-01,  -4.43908125e-01,  -7.29804343e-02,\n",
       "         -2.48696338e-01],\n",
       "       [  8.77338995e-01,  -4.11498101e-01,   5.83702961e-01,\n",
       "          1.45548337e-01],\n",
       "       [  7.68957080e-01,   1.15411345e-01,   3.04148819e-01,\n",
       "          3.38824147e-02],\n",
       "       [ -2.61699723e+00,  -1.79059547e-01,   2.04946587e-01,\n",
       "         -5.97082721e-02],\n",
       "       [  1.36406682e+00,  -7.89149591e-01,   2.99165823e-01,\n",
       "         -5.32329405e-02],\n",
       "       [  2.66246738e+00,   5.49050021e-01,   1.79068232e-01,\n",
       "         -2.50601507e-01],\n",
       "       [  1.60916165e+00,   2.46297419e-01,   1.42439020e-01,\n",
       "          6.17223658e-02],\n",
       "       [  1.99332118e+00,   1.79103366e-01,  -2.04324239e-01,\n",
       "          4.19020072e-01],\n",
       "       [  2.46339563e+00,   3.08947308e-01,  -5.33192393e-01,\n",
       "          2.34584982e-01],\n",
       "       [  1.70951288e+00,   2.32114407e-01,  -2.66165736e-01,\n",
       "          1.14359108e-01],\n",
       "       [  3.12540983e+00,   6.78385248e-01,   3.10096117e-01,\n",
       "          2.98751184e-01],\n",
       "       [ -2.92352591e+00,  -5.49597011e-01,  -7.16227836e-02,\n",
       "         -1.22579059e-02],\n",
       "       [  2.00100667e+00,   2.96758390e-02,  -7.67232725e-02,\n",
       "         -1.65214761e-01],\n",
       "       [  2.21559853e+00,   2.06264654e-01,  -6.23161030e-02,\n",
       "          1.55033827e-01],\n",
       "       [  5.23923951e-01,  -6.99721580e-01,  -1.22605553e-02,\n",
       "         -2.74990032e-01],\n",
       "       [ -2.16419135e+00,   3.87901983e-01,  -2.82613412e-01,\n",
       "         -1.85432981e-01],\n",
       "       [ -2.78345573e+00,  -1.01102586e+00,   3.39389282e-01,\n",
       "          3.17185332e-01],\n",
       "       [ -2.23717725e+00,   6.88739891e-01,  -1.43810596e-01,\n",
       "         -2.76249022e-02],\n",
       "       [ -2.54247555e+00,   4.58958112e-01,  -1.91658309e-01,\n",
       "         -6.89029213e-02],\n",
       "       [ -2.72898539e+00,  -3.01682666e-01,   2.12438903e-01,\n",
       "         -1.10658234e-02],\n",
       "       [ -2.57568080e+00,   5.32864273e-01,   2.93625151e-01,\n",
       "          1.71794513e-01],\n",
       "       [  9.43524587e-01,  -5.88538894e-02,  -1.45370947e-02,\n",
       "         -1.60017307e-01],\n",
       "       [  2.36181403e+00,   1.82374634e-01,  -3.53309295e-01,\n",
       "          2.70676625e-01],\n",
       "       [  3.54824874e-01,  -3.78609448e-01,  -3.68045512e-02,\n",
       "         -5.66094172e-02],\n",
       "       [ -2.49599609e+00,   5.19628948e-01,   4.03140829e-02,\n",
       "         -5.02610586e-02],\n",
       "       [  1.49924396e+00,  -1.65648703e-01,   1.20686958e-01,\n",
       "         -1.98556987e-01]])"
      ]
     },
     "execution_count": 129,
     "metadata": {},
     "output_type": "execute_result"
    }
   ],
   "source": [
    "X_train_pca"
   ]
  },
  {
   "cell_type": "code",
   "execution_count": 130,
   "metadata": {
    "collapsed": false
   },
   "outputs": [
    {
     "data": {
      "text/plain": [
       "[<matplotlib.lines.Line2D at 0x11582bb10>]"
      ]
     },
     "execution_count": 130,
     "metadata": {},
     "output_type": "execute_result"
    },
    {
     "data": {
      "image/png": "[encoded data removed]",
      "text/plain": [
       "<matplotlib.figure.Figure at 0x110ac57d0>"
      ]
     },
     "metadata": {},
     "output_type": "display_data"
    }
   ],
   "source": [
    "plt.plot(pca.explained_variance_)"
   ]
  },
  {
   "cell_type": "code",
   "execution_count": 131,
   "metadata": {
    "collapsed": false
   },
   "outputs": [
    {
     "data": {
      "text/plain": [
       "<matplotlib.collections.PathCollection at 0x1158c6210>"
      ]
     },
     "execution_count": 131,
     "metadata": {},
     "output_type": "execute_result"
    },
    {
     "data": {
      "image/png": "[encoded data removed]",
      "text/plain": [
       "<matplotlib.figure.Figure at 0x11586d150>"
      ]
     },
     "metadata": {},
     "output_type": "display_data"
    }
   ],
   "source": [
    "cmap = {0:'g', 1: 'r'}\n",
    "plt.scatter(X_train_pca[:,0], X_train_pca[:,1])"
   ]
  },
  {
   "cell_type": "markdown",
   "metadata": {},
   "source": [
    "## PCA ON Digits dataset\n",
    "\n",
    "Load the digits dataset and perform PCA. Visaulize the first couple of PCA vectors - do they look like you would expect? Repeat above and compare performance of reduced data with full data"
   ]
  },
  {
   "cell_type": "code",
   "execution_count": 113,
   "metadata": {
    "collapsed": true
   },
   "outputs": [],
   "source": [
    "#load the digits dataset from sklearn\n",
    "from sklearn.datasets import load_digits\n",
    "import pandas as pd\n",
    "%matplotlib inline"
   ]
  },
  {
   "cell_type": "code",
   "execution_count": 114,
   "metadata": {
    "collapsed": true
   },
   "outputs": [],
   "source": [
    "digits = load_digits()"
   ]
  },
  {
   "cell_type": "code",
   "execution_count": 115,
   "metadata": {
    "collapsed": false
   },
   "outputs": [],
   "source": [
    "digits_df = pd.DataFrame(digits.data)\n",
    "digits_df.head()\n",
    "X = digits_df\n",
    "y = digits.target"
   ]
  },
  {
   "cell_type": "code",
   "execution_count": 116,
   "metadata": {
    "collapsed": true
   },
   "outputs": [],
   "source": [
    "from sklearn.cross_validation import train_test_split\n",
    "from sklearn.decomposition import PCA"
   ]
  },
  {
   "cell_type": "code",
   "execution_count": 117,
   "metadata": {
    "collapsed": true
   },
   "outputs": [],
   "source": [
    "X_train, X_test, y_train, y_test = train_test_split(X, y)\n",
    "pca = PCA()"
   ]
  },
  {
   "cell_type": "code",
   "execution_count": 118,
   "metadata": {
    "collapsed": true
   },
   "outputs": [],
   "source": [
    "pca.fit(X_train)\n",
    "X_train_pca = pca.transform(X_train)"
   ]
  },
  {
   "cell_type": "code",
   "execution_count": 120,
   "metadata": {
    "collapsed": false
   },
   "outputs": [
    {
     "data": {
      "text/plain": [
       "[<matplotlib.lines.Line2D at 0x115488410>]"
      ]
     },
     "execution_count": 120,
     "metadata": {},
     "output_type": "execute_result"
    },
    {
     "data": {
      "image/png": "[encoded data removed]",
      "text/plain": [
       "<matplotlib.figure.Figure at 0x114fe4310>"
      ]
     },
     "metadata": {},
     "output_type": "display_data"
    }
   ],
   "source": [
    "plt.plot(pca.explained_variance_)"
   ]
  },
  {
   "cell_type": "code",
   "execution_count": 121,
   "metadata": {
    "collapsed": false
   },
   "outputs": [
    {
     "data": {
      "text/plain": [
       "<matplotlib.collections.PathCollection at 0x115520c90>"
      ]
     },
     "execution_count": 121,
     "metadata": {},
     "output_type": "execute_result"
    },
    {
     "data": {
      "image/png": "[encoded data removed]",
      "text/plain": [
       "<matplotlib.figure.Figure at 0x115488ad0>"
      ]
     },
     "metadata": {},
     "output_type": "display_data"
    }
   ],
   "source": [
    "cmap = {0:'g', 1: 'r'}\n",
    "plt.scatter(X_train_pca[:,0], X_train_pca[:,1])"
   ]
  },
  {
   "cell_type": "markdown",
   "metadata": {},
   "source": [
    "## Clustering\n",
    "Perform a dimensionality reduction on the SAT data that we pulled during the review. Can you make sense of the vectors?"
   ]
  },
  {
   "cell_type": "code",
   "execution_count": null,
   "metadata": {
    "collapsed": true
   },
   "outputs": [],
   "source": []
  }
 ],
 "metadata": {
  "kernelspec": {
   "display_name": "Python 2",
   "language": "python",
   "name": "python2"
  },
  "language_info": {
   "codemirror_mode": {
    "name": "ipython",
    "version": 2
   },
   "file_extension": ".py",
   "mimetype": "text/x-python",
   "name": "python",
   "nbconvert_exporter": "python",
   "pygments_lexer": "ipython2",
   "version": "2.7.10"
  }
 },
 "nbformat": 4,
 "nbformat_minor": 0
}
